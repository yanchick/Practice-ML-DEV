{
 "cells": [
  {
   "cell_type": "code",
   "execution_count": 115,
   "metadata": {},
   "outputs": [],
   "source": [
    "import pandas as pd\n",
    "import seaborn as sns\n",
    "import pandas as pd\n",
    "from sklearn.metrics.pairwise import cosine_similarity\n",
    "import numpy as np\n",
    "import pandas as pd\n",
    "import matplotlib.pyplot as plt\n",
    "import seaborn as sns\n",
    "from sklearn.linear_model import LogisticRegression, LinearRegression\n",
    "from sklearn.metrics import f1_score, precision_score, recall_score\n",
    "from sklearn.metrics import classification_report\n",
    "from sklearn.model_selection import train_test_split\n",
    "from sklearn.decomposition import PCA\n",
    "from sklearn.model_selection import GridSearchCV\n",
    "from sklearn.metrics import r2_score\n",
    "from tqdm import tqdm\n",
    "from sklearn.svm import SVC\n",
    "from sklearn.tree import DecisionTreeClassifier\n",
    "import scipy\n",
    "from sklearn.neighbors import KNeighborsClassifier\n",
    "from sklearn.ensemble import RandomForestClassifier, AdaBoostClassifier, BaggingClassifier, GradientBoostingClassifier\n",
    "from sklearn.preprocessing import LabelEncoder, MinMaxScaler\n",
    "import pickle\n",
    "from joblib import dump, load"
   ]
  },
  {
   "cell_type": "code",
   "execution_count": 116,
   "metadata": {},
   "outputs": [],
   "source": [
    "from lightautoml.automl.presets.tabular_presets import TabularAutoML\n",
    "from lightautoml.tasks import Task"
   ]
  },
  {
   "cell_type": "code",
   "execution_count": 117,
   "metadata": {},
   "outputs": [
    {
     "data": {
      "text/plain": [
       "0       Adult\n",
       "1       Adult\n",
       "2       Adult\n",
       "3       Adult\n",
       "4       Adult\n",
       "        ...  \n",
       "2273    Adult\n",
       "2274    Adult\n",
       "2275    Adult\n",
       "2276    Adult\n",
       "2277    Adult\n",
       "Name: age_group, Length: 2278, dtype: object"
      ]
     },
     "execution_count": 117,
     "metadata": {},
     "output_type": "execute_result"
    }
   ],
   "source": [
    "data = pd.read_csv(\"/home/mike/python_files/ML_services/data/NHANES_age_prediction.csv\")\n",
    "data[\"age_group\"]"
   ]
  },
  {
   "cell_type": "code",
   "execution_count": 118,
   "metadata": {},
   "outputs": [],
   "source": [
    "le = LabelEncoder()"
   ]
  },
  {
   "cell_type": "code",
   "execution_count": 119,
   "metadata": {},
   "outputs": [
    {
     "data": {
      "text/html": [
       "<div>\n",
       "<style scoped>\n",
       "    .dataframe tbody tr th:only-of-type {\n",
       "        vertical-align: middle;\n",
       "    }\n",
       "\n",
       "    .dataframe tbody tr th {\n",
       "        vertical-align: top;\n",
       "    }\n",
       "\n",
       "    .dataframe thead th {\n",
       "        text-align: right;\n",
       "    }\n",
       "</style>\n",
       "<table border=\"1\" class=\"dataframe\">\n",
       "  <thead>\n",
       "    <tr style=\"text-align: right;\">\n",
       "      <th></th>\n",
       "      <th>SEQN</th>\n",
       "      <th>age_group</th>\n",
       "      <th>RIDAGEYR</th>\n",
       "      <th>RIAGENDR</th>\n",
       "      <th>PAQ605</th>\n",
       "      <th>BMXBMI</th>\n",
       "      <th>LBXGLU</th>\n",
       "      <th>DIQ010</th>\n",
       "      <th>LBXGLT</th>\n",
       "      <th>LBXIN</th>\n",
       "    </tr>\n",
       "  </thead>\n",
       "  <tbody>\n",
       "    <tr>\n",
       "      <th>0</th>\n",
       "      <td>73564.0</td>\n",
       "      <td>0</td>\n",
       "      <td>61.0</td>\n",
       "      <td>2.0</td>\n",
       "      <td>2.0</td>\n",
       "      <td>35.7</td>\n",
       "      <td>110.0</td>\n",
       "      <td>2.0</td>\n",
       "      <td>150.0</td>\n",
       "      <td>14.91</td>\n",
       "    </tr>\n",
       "    <tr>\n",
       "      <th>1</th>\n",
       "      <td>73568.0</td>\n",
       "      <td>0</td>\n",
       "      <td>26.0</td>\n",
       "      <td>2.0</td>\n",
       "      <td>2.0</td>\n",
       "      <td>20.3</td>\n",
       "      <td>89.0</td>\n",
       "      <td>2.0</td>\n",
       "      <td>80.0</td>\n",
       "      <td>3.85</td>\n",
       "    </tr>\n",
       "    <tr>\n",
       "      <th>2</th>\n",
       "      <td>73576.0</td>\n",
       "      <td>0</td>\n",
       "      <td>16.0</td>\n",
       "      <td>1.0</td>\n",
       "      <td>2.0</td>\n",
       "      <td>23.2</td>\n",
       "      <td>89.0</td>\n",
       "      <td>2.0</td>\n",
       "      <td>68.0</td>\n",
       "      <td>6.14</td>\n",
       "    </tr>\n",
       "    <tr>\n",
       "      <th>3</th>\n",
       "      <td>73577.0</td>\n",
       "      <td>0</td>\n",
       "      <td>32.0</td>\n",
       "      <td>1.0</td>\n",
       "      <td>2.0</td>\n",
       "      <td>28.9</td>\n",
       "      <td>104.0</td>\n",
       "      <td>2.0</td>\n",
       "      <td>84.0</td>\n",
       "      <td>16.15</td>\n",
       "    </tr>\n",
       "    <tr>\n",
       "      <th>4</th>\n",
       "      <td>73580.0</td>\n",
       "      <td>0</td>\n",
       "      <td>38.0</td>\n",
       "      <td>2.0</td>\n",
       "      <td>1.0</td>\n",
       "      <td>35.9</td>\n",
       "      <td>103.0</td>\n",
       "      <td>2.0</td>\n",
       "      <td>81.0</td>\n",
       "      <td>10.92</td>\n",
       "    </tr>\n",
       "    <tr>\n",
       "      <th>...</th>\n",
       "      <td>...</td>\n",
       "      <td>...</td>\n",
       "      <td>...</td>\n",
       "      <td>...</td>\n",
       "      <td>...</td>\n",
       "      <td>...</td>\n",
       "      <td>...</td>\n",
       "      <td>...</td>\n",
       "      <td>...</td>\n",
       "      <td>...</td>\n",
       "    </tr>\n",
       "    <tr>\n",
       "      <th>2273</th>\n",
       "      <td>83711.0</td>\n",
       "      <td>0</td>\n",
       "      <td>38.0</td>\n",
       "      <td>2.0</td>\n",
       "      <td>2.0</td>\n",
       "      <td>33.5</td>\n",
       "      <td>100.0</td>\n",
       "      <td>2.0</td>\n",
       "      <td>73.0</td>\n",
       "      <td>6.53</td>\n",
       "    </tr>\n",
       "    <tr>\n",
       "      <th>2274</th>\n",
       "      <td>83712.0</td>\n",
       "      <td>0</td>\n",
       "      <td>61.0</td>\n",
       "      <td>1.0</td>\n",
       "      <td>2.0</td>\n",
       "      <td>30.0</td>\n",
       "      <td>93.0</td>\n",
       "      <td>2.0</td>\n",
       "      <td>208.0</td>\n",
       "      <td>13.02</td>\n",
       "    </tr>\n",
       "    <tr>\n",
       "      <th>2275</th>\n",
       "      <td>83713.0</td>\n",
       "      <td>0</td>\n",
       "      <td>34.0</td>\n",
       "      <td>1.0</td>\n",
       "      <td>2.0</td>\n",
       "      <td>23.7</td>\n",
       "      <td>103.0</td>\n",
       "      <td>2.0</td>\n",
       "      <td>124.0</td>\n",
       "      <td>21.41</td>\n",
       "    </tr>\n",
       "    <tr>\n",
       "      <th>2276</th>\n",
       "      <td>83718.0</td>\n",
       "      <td>0</td>\n",
       "      <td>60.0</td>\n",
       "      <td>2.0</td>\n",
       "      <td>2.0</td>\n",
       "      <td>27.4</td>\n",
       "      <td>90.0</td>\n",
       "      <td>2.0</td>\n",
       "      <td>108.0</td>\n",
       "      <td>4.99</td>\n",
       "    </tr>\n",
       "    <tr>\n",
       "      <th>2277</th>\n",
       "      <td>83727.0</td>\n",
       "      <td>0</td>\n",
       "      <td>26.0</td>\n",
       "      <td>1.0</td>\n",
       "      <td>2.0</td>\n",
       "      <td>24.5</td>\n",
       "      <td>108.0</td>\n",
       "      <td>2.0</td>\n",
       "      <td>108.0</td>\n",
       "      <td>3.76</td>\n",
       "    </tr>\n",
       "  </tbody>\n",
       "</table>\n",
       "<p>2278 rows × 10 columns</p>\n",
       "</div>"
      ],
      "text/plain": [
       "         SEQN  age_group  RIDAGEYR  RIAGENDR  PAQ605  BMXBMI  LBXGLU  DIQ010  \\\n",
       "0     73564.0          0      61.0       2.0     2.0    35.7   110.0     2.0   \n",
       "1     73568.0          0      26.0       2.0     2.0    20.3    89.0     2.0   \n",
       "2     73576.0          0      16.0       1.0     2.0    23.2    89.0     2.0   \n",
       "3     73577.0          0      32.0       1.0     2.0    28.9   104.0     2.0   \n",
       "4     73580.0          0      38.0       2.0     1.0    35.9   103.0     2.0   \n",
       "...       ...        ...       ...       ...     ...     ...     ...     ...   \n",
       "2273  83711.0          0      38.0       2.0     2.0    33.5   100.0     2.0   \n",
       "2274  83712.0          0      61.0       1.0     2.0    30.0    93.0     2.0   \n",
       "2275  83713.0          0      34.0       1.0     2.0    23.7   103.0     2.0   \n",
       "2276  83718.0          0      60.0       2.0     2.0    27.4    90.0     2.0   \n",
       "2277  83727.0          0      26.0       1.0     2.0    24.5   108.0     2.0   \n",
       "\n",
       "      LBXGLT  LBXIN  \n",
       "0      150.0  14.91  \n",
       "1       80.0   3.85  \n",
       "2       68.0   6.14  \n",
       "3       84.0  16.15  \n",
       "4       81.0  10.92  \n",
       "...      ...    ...  \n",
       "2273    73.0   6.53  \n",
       "2274   208.0  13.02  \n",
       "2275   124.0  21.41  \n",
       "2276   108.0   4.99  \n",
       "2277   108.0   3.76  \n",
       "\n",
       "[2278 rows x 10 columns]"
      ]
     },
     "execution_count": 119,
     "metadata": {},
     "output_type": "execute_result"
    }
   ],
   "source": [
    "le.fit(data[\"age_group\"])\n",
    "data[\"age_group\"] = le.transform(data[\"age_group\"])\n",
    "data"
   ]
  },
  {
   "cell_type": "code",
   "execution_count": 120,
   "metadata": {},
   "outputs": [
    {
     "data": {
      "text/plain": [
       "<Axes: >"
      ]
     },
     "execution_count": 120,
     "metadata": {},
     "output_type": "execute_result"
    },
    {
     "data": {
      "image/png": "[encoded data removed]",
      "text/plain": [
       "<Figure size 640x480 with 2 Axes>"
      ]
     },
     "metadata": {},
     "output_type": "display_data"
    }
   ],
   "source": [
    "sns.heatmap(data.corr())"
   ]
  },
  {
   "cell_type": "code",
   "execution_count": 121,
   "metadata": {},
   "outputs": [],
   "source": [
    "# train_X, test_X, train_y, test_y = train_test_split(data.drop([\"age_group\", \"SEQN\", \"RIDAGEYR\"], axis=1), data[\"age_group\"], test_size=0.2, stratify=data[\"age_group\"])\n",
    "train_X, test_X, train_y, test_y = train_test_split(data.drop(\"age_group\", axis=1), data[\"age_group\"], test_size=0.2, stratify=data[\"age_group\"])\n",
    "# mms = MinMaxScaler()\n",
    "# mms.fit(pd.concat((train_X,test_X)).sort_index())\n",
    "# train_X = pd.DataFrame(mms.transform(train_X))\n",
    "# test_X = pd.DataFrame(mms.transform(test_X))\n",
    "# train_X"
   ]
  },
  {
   "cell_type": "code",
   "execution_count": 122,
   "metadata": {},
   "outputs": [
    {
     "data": {
      "text/plain": [
       "<Axes: xlabel='0', ylabel='1'>"
      ]
     },
     "execution_count": 122,
     "metadata": {},
     "output_type": "execute_result"
    },
    {
     "data": {
      "image/png": "[encoded data removed]",
      "text/plain": [
       "<Figure size 640x480 with 1 Axes>"
      ]
     },
     "metadata": {},
     "output_type": "display_data"
    }
   ],
   "source": [
    "pca = PCA(n_components=2, svd_solver='full')\n",
    "pca.fit(data.drop(\"age_group\", axis=1))\n",
    "data_for_draw = np.matmul(data.drop(\"age_group\", axis=1), pca.components_.T)\n",
    "sns.scatterplot(data=data_for_draw, x=data_for_draw[0], y=data_for_draw[1], hue=data[\"age_group\"])"
   ]
  },
  {
   "cell_type": "code",
   "execution_count": 123,
   "metadata": {},
   "outputs": [
    {
     "data": {
      "text/html": [
       "<div>\n",
       "<style scoped>\n",
       "    .dataframe tbody tr th:only-of-type {\n",
       "        vertical-align: middle;\n",
       "    }\n",
       "\n",
       "    .dataframe tbody tr th {\n",
       "        vertical-align: top;\n",
       "    }\n",
       "\n",
       "    .dataframe thead th {\n",
       "        text-align: right;\n",
       "    }\n",
       "</style>\n",
       "<table border=\"1\" class=\"dataframe\">\n",
       "  <thead>\n",
       "    <tr style=\"text-align: right;\">\n",
       "      <th></th>\n",
       "      <th>0</th>\n",
       "      <th>1</th>\n",
       "    </tr>\n",
       "  </thead>\n",
       "  <tbody>\n",
       "    <tr>\n",
       "      <th>0</th>\n",
       "      <td>-73563.998649</td>\n",
       "      <td>178.104365</td>\n",
       "    </tr>\n",
       "    <tr>\n",
       "      <th>1</th>\n",
       "      <td>-73567.998318</td>\n",
       "      <td>99.690501</td>\n",
       "    </tr>\n",
       "    <tr>\n",
       "      <th>2</th>\n",
       "      <td>-73575.997014</td>\n",
       "      <td>86.957320</td>\n",
       "    </tr>\n",
       "    <tr>\n",
       "      <th>3</th>\n",
       "      <td>-73576.995016</td>\n",
       "      <td>109.218527</td>\n",
       "    </tr>\n",
       "    <tr>\n",
       "      <th>4</th>\n",
       "      <td>-73579.994017</td>\n",
       "      <td>107.005518</td>\n",
       "    </tr>\n",
       "    <tr>\n",
       "      <th>...</th>\n",
       "      <td>...</td>\n",
       "      <td>...</td>\n",
       "    </tr>\n",
       "    <tr>\n",
       "      <th>2273</th>\n",
       "      <td>-83710.993985</td>\n",
       "      <td>97.670376</td>\n",
       "    </tr>\n",
       "    <tr>\n",
       "      <th>2274</th>\n",
       "      <td>-83712.005565</td>\n",
       "      <td>227.744029</td>\n",
       "    </tr>\n",
       "    <tr>\n",
       "      <th>2275</th>\n",
       "      <td>-83712.998624</td>\n",
       "      <td>146.661413</td>\n",
       "    </tr>\n",
       "    <tr>\n",
       "      <th>2276</th>\n",
       "      <td>-83717.997440</td>\n",
       "      <td>131.346950</td>\n",
       "    </tr>\n",
       "    <tr>\n",
       "      <th>2277</th>\n",
       "      <td>-83726.999656</td>\n",
       "      <td>130.823194</td>\n",
       "    </tr>\n",
       "  </tbody>\n",
       "</table>\n",
       "<p>2278 rows × 2 columns</p>\n",
       "</div>"
      ],
      "text/plain": [
       "                 0           1\n",
       "0    -73563.998649  178.104365\n",
       "1    -73567.998318   99.690501\n",
       "2    -73575.997014   86.957320\n",
       "3    -73576.995016  109.218527\n",
       "4    -73579.994017  107.005518\n",
       "...            ...         ...\n",
       "2273 -83710.993985   97.670376\n",
       "2274 -83712.005565  227.744029\n",
       "2275 -83712.998624  146.661413\n",
       "2276 -83717.997440  131.346950\n",
       "2277 -83726.999656  130.823194\n",
       "\n",
       "[2278 rows x 2 columns]"
      ]
     },
     "execution_count": 123,
     "metadata": {},
     "output_type": "execute_result"
    }
   ],
   "source": [
    "data_for_draw"
   ]
  },
  {
   "cell_type": "code",
   "execution_count": 124,
   "metadata": {},
   "outputs": [
    {
     "data": {
      "text/html": [
       "<div>\n",
       "<style scoped>\n",
       "    .dataframe tbody tr th:only-of-type {\n",
       "        vertical-align: middle;\n",
       "    }\n",
       "\n",
       "    .dataframe tbody tr th {\n",
       "        vertical-align: top;\n",
       "    }\n",
       "\n",
       "    .dataframe thead th {\n",
       "        text-align: right;\n",
       "    }\n",
       "</style>\n",
       "<table border=\"1\" class=\"dataframe\">\n",
       "  <thead>\n",
       "    <tr style=\"text-align: right;\">\n",
       "      <th></th>\n",
       "      <th>0</th>\n",
       "      <th>1</th>\n",
       "      <th>2</th>\n",
       "      <th>3</th>\n",
       "      <th>4</th>\n",
       "      <th>5</th>\n",
       "      <th>6</th>\n",
       "    </tr>\n",
       "  </thead>\n",
       "  <tbody>\n",
       "    <tr>\n",
       "      <th>0</th>\n",
       "      <td>1.0</td>\n",
       "      <td>0.166667</td>\n",
       "      <td>0.428058</td>\n",
       "      <td>0.096491</td>\n",
       "      <td>0.5</td>\n",
       "      <td>0.106383</td>\n",
       "      <td>0.077925</td>\n",
       "    </tr>\n",
       "    <tr>\n",
       "      <th>1</th>\n",
       "      <td>1.0</td>\n",
       "      <td>0.166667</td>\n",
       "      <td>0.142086</td>\n",
       "      <td>0.114035</td>\n",
       "      <td>0.5</td>\n",
       "      <td>0.113475</td>\n",
       "      <td>0.125208</td>\n",
       "    </tr>\n",
       "    <tr>\n",
       "      <th>2</th>\n",
       "      <td>0.0</td>\n",
       "      <td>0.000000</td>\n",
       "      <td>0.262590</td>\n",
       "      <td>0.131579</td>\n",
       "      <td>0.5</td>\n",
       "      <td>0.101064</td>\n",
       "      <td>0.066275</td>\n",
       "    </tr>\n",
       "    <tr>\n",
       "      <th>3</th>\n",
       "      <td>1.0</td>\n",
       "      <td>0.166667</td>\n",
       "      <td>0.293165</td>\n",
       "      <td>0.061404</td>\n",
       "      <td>1.0</td>\n",
       "      <td>0.085106</td>\n",
       "      <td>0.131865</td>\n",
       "    </tr>\n",
       "    <tr>\n",
       "      <th>4</th>\n",
       "      <td>1.0</td>\n",
       "      <td>0.166667</td>\n",
       "      <td>0.174460</td>\n",
       "      <td>0.204678</td>\n",
       "      <td>0.5</td>\n",
       "      <td>0.164894</td>\n",
       "      <td>0.087127</td>\n",
       "    </tr>\n",
       "    <tr>\n",
       "      <th>...</th>\n",
       "      <td>...</td>\n",
       "      <td>...</td>\n",
       "      <td>...</td>\n",
       "      <td>...</td>\n",
       "      <td>...</td>\n",
       "      <td>...</td>\n",
       "      <td>...</td>\n",
       "    </tr>\n",
       "    <tr>\n",
       "      <th>1817</th>\n",
       "      <td>0.0</td>\n",
       "      <td>0.166667</td>\n",
       "      <td>0.208633</td>\n",
       "      <td>0.128655</td>\n",
       "      <td>0.5</td>\n",
       "      <td>0.118794</td>\n",
       "      <td>0.459520</td>\n",
       "    </tr>\n",
       "    <tr>\n",
       "      <th>1818</th>\n",
       "      <td>0.0</td>\n",
       "      <td>0.166667</td>\n",
       "      <td>0.285971</td>\n",
       "      <td>0.467836</td>\n",
       "      <td>0.0</td>\n",
       "      <td>0.382979</td>\n",
       "      <td>0.092413</td>\n",
       "    </tr>\n",
       "    <tr>\n",
       "      <th>1819</th>\n",
       "      <td>0.0</td>\n",
       "      <td>0.166667</td>\n",
       "      <td>0.230216</td>\n",
       "      <td>0.061404</td>\n",
       "      <td>0.5</td>\n",
       "      <td>0.117021</td>\n",
       "      <td>0.030641</td>\n",
       "    </tr>\n",
       "    <tr>\n",
       "      <th>1820</th>\n",
       "      <td>1.0</td>\n",
       "      <td>0.166667</td>\n",
       "      <td>0.386691</td>\n",
       "      <td>0.087719</td>\n",
       "      <td>0.5</td>\n",
       "      <td>0.150709</td>\n",
       "      <td>0.124816</td>\n",
       "    </tr>\n",
       "    <tr>\n",
       "      <th>1821</th>\n",
       "      <td>0.0</td>\n",
       "      <td>0.000000</td>\n",
       "      <td>0.095324</td>\n",
       "      <td>0.108187</td>\n",
       "      <td>0.5</td>\n",
       "      <td>0.072695</td>\n",
       "      <td>0.059031</td>\n",
       "    </tr>\n",
       "  </tbody>\n",
       "</table>\n",
       "<p>1822 rows × 7 columns</p>\n",
       "</div>"
      ],
      "text/plain": [
       "        0         1         2         3    4         5         6\n",
       "0     1.0  0.166667  0.428058  0.096491  0.5  0.106383  0.077925\n",
       "1     1.0  0.166667  0.142086  0.114035  0.5  0.113475  0.125208\n",
       "2     0.0  0.000000  0.262590  0.131579  0.5  0.101064  0.066275\n",
       "3     1.0  0.166667  0.293165  0.061404  1.0  0.085106  0.131865\n",
       "4     1.0  0.166667  0.174460  0.204678  0.5  0.164894  0.087127\n",
       "...   ...       ...       ...       ...  ...       ...       ...\n",
       "1817  0.0  0.166667  0.208633  0.128655  0.5  0.118794  0.459520\n",
       "1818  0.0  0.166667  0.285971  0.467836  0.0  0.382979  0.092413\n",
       "1819  0.0  0.166667  0.230216  0.061404  0.5  0.117021  0.030641\n",
       "1820  1.0  0.166667  0.386691  0.087719  0.5  0.150709  0.124816\n",
       "1821  0.0  0.000000  0.095324  0.108187  0.5  0.072695  0.059031\n",
       "\n",
       "[1822 rows x 7 columns]"
      ]
     },
     "execution_count": 124,
     "metadata": {},
     "output_type": "execute_result"
    }
   ],
   "source": [
    "# train_X, test_X, train_y, test_y = train_test_split(data['RIDAGEYR'], data[\"age_group\"], test_size=0.2, stratify=data[\"age_group\"])\n",
    "# train_X = np.expand_dims(train_X.to_numpy(), axis=-1)\n",
    "# test_X = np.ex\"pand_dims(test_X.to_numpy(), axis=-1)\n",
    "train_X, test_X, train_y, test_y = train_test_split(data.drop([\"age_group\", \"SEQN\", \"RIDAGEYR\"], axis=1), data[\"age_group\"], test_size=0.2, stratify=data[\"age_group\"])\n",
    "mms = MinMaxScaler()\n",
    "mms.fit(pd.concat((train_X,test_X)).sort_index())\n",
    "train_X = pd.DataFrame(mms.transform(train_X))\n",
    "test_X = pd.DataFrame(mms.transform(test_X))\n",
    "train_X"
   ]
  },
  {
   "cell_type": "code",
   "execution_count": 125,
   "metadata": {},
   "outputs": [
    {
     "data": {
      "text/html": [
       "<div>\n",
       "<style scoped>\n",
       "    .dataframe tbody tr th:only-of-type {\n",
       "        vertical-align: middle;\n",
       "    }\n",
       "\n",
       "    .dataframe tbody tr th {\n",
       "        vertical-align: top;\n",
       "    }\n",
       "\n",
       "    .dataframe thead th {\n",
       "        text-align: right;\n",
       "    }\n",
       "</style>\n",
       "<table border=\"1\" class=\"dataframe\">\n",
       "  <thead>\n",
       "    <tr style=\"text-align: right;\">\n",
       "      <th></th>\n",
       "      <th>0</th>\n",
       "      <th>1</th>\n",
       "      <th>2</th>\n",
       "      <th>3</th>\n",
       "      <th>4</th>\n",
       "      <th>5</th>\n",
       "      <th>6</th>\n",
       "    </tr>\n",
       "  </thead>\n",
       "  <tbody>\n",
       "    <tr>\n",
       "      <th>0</th>\n",
       "      <td>0.0</td>\n",
       "      <td>0.166667</td>\n",
       "      <td>0.214029</td>\n",
       "      <td>0.125731</td>\n",
       "      <td>0.5</td>\n",
       "      <td>0.003546</td>\n",
       "      <td>0.077044</td>\n",
       "    </tr>\n",
       "    <tr>\n",
       "      <th>1</th>\n",
       "      <td>1.0</td>\n",
       "      <td>0.166667</td>\n",
       "      <td>0.323741</td>\n",
       "      <td>0.087719</td>\n",
       "      <td>0.5</td>\n",
       "      <td>0.097518</td>\n",
       "      <td>0.073519</td>\n",
       "    </tr>\n",
       "    <tr>\n",
       "      <th>2</th>\n",
       "      <td>1.0</td>\n",
       "      <td>0.166667</td>\n",
       "      <td>0.446043</td>\n",
       "      <td>0.172515</td>\n",
       "      <td>1.0</td>\n",
       "      <td>0.235816</td>\n",
       "      <td>0.225453</td>\n",
       "    </tr>\n",
       "    <tr>\n",
       "      <th>3</th>\n",
       "      <td>1.0</td>\n",
       "      <td>0.166667</td>\n",
       "      <td>0.311151</td>\n",
       "      <td>0.096491</td>\n",
       "      <td>0.5</td>\n",
       "      <td>0.101064</td>\n",
       "      <td>0.085756</td>\n",
       "    </tr>\n",
       "    <tr>\n",
       "      <th>4</th>\n",
       "      <td>1.0</td>\n",
       "      <td>0.000000</td>\n",
       "      <td>0.285971</td>\n",
       "      <td>0.111111</td>\n",
       "      <td>0.5</td>\n",
       "      <td>0.159574</td>\n",
       "      <td>0.071953</td>\n",
       "    </tr>\n",
       "    <tr>\n",
       "      <th>...</th>\n",
       "      <td>...</td>\n",
       "      <td>...</td>\n",
       "      <td>...</td>\n",
       "      <td>...</td>\n",
       "      <td>...</td>\n",
       "      <td>...</td>\n",
       "      <td>...</td>\n",
       "    </tr>\n",
       "    <tr>\n",
       "      <th>451</th>\n",
       "      <td>1.0</td>\n",
       "      <td>0.166667</td>\n",
       "      <td>0.127698</td>\n",
       "      <td>0.052632</td>\n",
       "      <td>0.5</td>\n",
       "      <td>0.101064</td>\n",
       "      <td>0.019285</td>\n",
       "    </tr>\n",
       "    <tr>\n",
       "      <th>452</th>\n",
       "      <td>0.0</td>\n",
       "      <td>0.166667</td>\n",
       "      <td>0.158273</td>\n",
       "      <td>0.058480</td>\n",
       "      <td>0.5</td>\n",
       "      <td>0.063830</td>\n",
       "      <td>0.060499</td>\n",
       "    </tr>\n",
       "    <tr>\n",
       "      <th>453</th>\n",
       "      <td>0.0</td>\n",
       "      <td>0.166667</td>\n",
       "      <td>0.176259</td>\n",
       "      <td>0.134503</td>\n",
       "      <td>1.0</td>\n",
       "      <td>0.168440</td>\n",
       "      <td>0.086735</td>\n",
       "    </tr>\n",
       "    <tr>\n",
       "      <th>454</th>\n",
       "      <td>1.0</td>\n",
       "      <td>0.166667</td>\n",
       "      <td>0.561151</td>\n",
       "      <td>0.076023</td>\n",
       "      <td>0.5</td>\n",
       "      <td>0.118794</td>\n",
       "      <td>0.460597</td>\n",
       "    </tr>\n",
       "    <tr>\n",
       "      <th>455</th>\n",
       "      <td>1.0</td>\n",
       "      <td>0.166667</td>\n",
       "      <td>0.275180</td>\n",
       "      <td>0.119883</td>\n",
       "      <td>0.5</td>\n",
       "      <td>0.046099</td>\n",
       "      <td>0.101615</td>\n",
       "    </tr>\n",
       "  </tbody>\n",
       "</table>\n",
       "<p>456 rows × 7 columns</p>\n",
       "</div>"
      ],
      "text/plain": [
       "       0         1         2         3    4         5         6\n",
       "0    0.0  0.166667  0.214029  0.125731  0.5  0.003546  0.077044\n",
       "1    1.0  0.166667  0.323741  0.087719  0.5  0.097518  0.073519\n",
       "2    1.0  0.166667  0.446043  0.172515  1.0  0.235816  0.225453\n",
       "3    1.0  0.166667  0.311151  0.096491  0.5  0.101064  0.085756\n",
       "4    1.0  0.000000  0.285971  0.111111  0.5  0.159574  0.071953\n",
       "..   ...       ...       ...       ...  ...       ...       ...\n",
       "451  1.0  0.166667  0.127698  0.052632  0.5  0.101064  0.019285\n",
       "452  0.0  0.166667  0.158273  0.058480  0.5  0.063830  0.060499\n",
       "453  0.0  0.166667  0.176259  0.134503  1.0  0.168440  0.086735\n",
       "454  1.0  0.166667  0.561151  0.076023  0.5  0.118794  0.460597\n",
       "455  1.0  0.166667  0.275180  0.119883  0.5  0.046099  0.101615\n",
       "\n",
       "[456 rows x 7 columns]"
      ]
     },
     "execution_count": 125,
     "metadata": {},
     "output_type": "execute_result"
    }
   ],
   "source": [
    "test_X"
   ]
  },
  {
   "cell_type": "code",
   "execution_count": 126,
   "metadata": {},
   "outputs": [],
   "source": [
    "features = {'n_estimators' : list(range(1, 20, 3)),\n",
    "    'criterion': ['gini', 'entropy'],\n",
    "    'max_depth': list(range(1, 13, 4)),\n",
    "    'min_samples_split': list(range(2, 20, 4)),\n",
    "    'min_samples_leaf': list(range(2, 20, 4)),}\n",
    "gscv = GridSearchCV(estimator=RandomForestClassifier(), param_grid=features, verbose=2)"
   ]
  },
  {
   "cell_type": "code",
   "execution_count": 127,
   "metadata": {},
   "outputs": [],
   "source": [
    "# gscv.fit(train_X, train_y)\n"
   ]
  },
  {
   "cell_type": "markdown",
   "metadata": {},
   "source": [
    "RandomForestClassifier(max_depth=9, min_samples_leaf=10, min_samples_split=18, n_estimators=16)"
   ]
  },
  {
   "cell_type": "code",
   "execution_count": 128,
   "metadata": {},
   "outputs": [
    {
     "data": {
      "text/html": [
       "<div>\n",
       "<style scoped>\n",
       "    .dataframe tbody tr th:only-of-type {\n",
       "        vertical-align: middle;\n",
       "    }\n",
       "\n",
       "    .dataframe tbody tr th {\n",
       "        vertical-align: top;\n",
       "    }\n",
       "\n",
       "    .dataframe thead th {\n",
       "        text-align: right;\n",
       "    }\n",
       "</style>\n",
       "<table border=\"1\" class=\"dataframe\">\n",
       "  <thead>\n",
       "    <tr style=\"text-align: right;\">\n",
       "      <th></th>\n",
       "      <th>0</th>\n",
       "      <th>1</th>\n",
       "      <th>2</th>\n",
       "      <th>3</th>\n",
       "      <th>4</th>\n",
       "      <th>5</th>\n",
       "      <th>6</th>\n",
       "      <th>7</th>\n",
       "    </tr>\n",
       "  </thead>\n",
       "  <tbody>\n",
       "    <tr>\n",
       "      <th>0</th>\n",
       "      <td>0.117647</td>\n",
       "      <td>1.0</td>\n",
       "      <td>0.166667</td>\n",
       "      <td>0.388489</td>\n",
       "      <td>0.052632</td>\n",
       "      <td>0.5</td>\n",
       "      <td>0.187943</td>\n",
       "      <td>0.077631</td>\n",
       "    </tr>\n",
       "    <tr>\n",
       "      <th>1</th>\n",
       "      <td>0.382353</td>\n",
       "      <td>0.0</td>\n",
       "      <td>0.166667</td>\n",
       "      <td>0.120504</td>\n",
       "      <td>0.084795</td>\n",
       "      <td>0.5</td>\n",
       "      <td>0.168440</td>\n",
       "      <td>0.039452</td>\n",
       "    </tr>\n",
       "    <tr>\n",
       "      <th>2</th>\n",
       "      <td>0.485294</td>\n",
       "      <td>0.0</td>\n",
       "      <td>0.166667</td>\n",
       "      <td>0.138489</td>\n",
       "      <td>0.128655</td>\n",
       "      <td>0.5</td>\n",
       "      <td>0.111702</td>\n",
       "      <td>0.115712</td>\n",
       "    </tr>\n",
       "    <tr>\n",
       "      <th>3</th>\n",
       "      <td>0.044118</td>\n",
       "      <td>1.0</td>\n",
       "      <td>0.166667</td>\n",
       "      <td>0.068345</td>\n",
       "      <td>0.076023</td>\n",
       "      <td>0.5</td>\n",
       "      <td>0.106383</td>\n",
       "      <td>0.040235</td>\n",
       "    </tr>\n",
       "    <tr>\n",
       "      <th>4</th>\n",
       "      <td>0.441176</td>\n",
       "      <td>1.0</td>\n",
       "      <td>0.166667</td>\n",
       "      <td>0.086331</td>\n",
       "      <td>0.070175</td>\n",
       "      <td>0.5</td>\n",
       "      <td>0.090426</td>\n",
       "      <td>0.025453</td>\n",
       "    </tr>\n",
       "    <tr>\n",
       "      <th>...</th>\n",
       "      <td>...</td>\n",
       "      <td>...</td>\n",
       "      <td>...</td>\n",
       "      <td>...</td>\n",
       "      <td>...</td>\n",
       "      <td>...</td>\n",
       "      <td>...</td>\n",
       "      <td>...</td>\n",
       "    </tr>\n",
       "    <tr>\n",
       "      <th>1817</th>\n",
       "      <td>0.750000</td>\n",
       "      <td>0.0</td>\n",
       "      <td>0.166667</td>\n",
       "      <td>0.174460</td>\n",
       "      <td>0.213450</td>\n",
       "      <td>0.5</td>\n",
       "      <td>0.140071</td>\n",
       "      <td>0.024474</td>\n",
       "    </tr>\n",
       "    <tr>\n",
       "      <th>1818</th>\n",
       "      <td>1.000000</td>\n",
       "      <td>0.0</td>\n",
       "      <td>0.166667</td>\n",
       "      <td>0.210432</td>\n",
       "      <td>0.119883</td>\n",
       "      <td>0.5</td>\n",
       "      <td>0.115248</td>\n",
       "      <td>0.040822</td>\n",
       "    </tr>\n",
       "    <tr>\n",
       "      <th>1819</th>\n",
       "      <td>0.176471</td>\n",
       "      <td>1.0</td>\n",
       "      <td>0.166667</td>\n",
       "      <td>0.285971</td>\n",
       "      <td>0.058480</td>\n",
       "      <td>0.5</td>\n",
       "      <td>0.187943</td>\n",
       "      <td>0.156241</td>\n",
       "    </tr>\n",
       "    <tr>\n",
       "      <th>1820</th>\n",
       "      <td>0.838235</td>\n",
       "      <td>0.0</td>\n",
       "      <td>0.166667</td>\n",
       "      <td>0.086331</td>\n",
       "      <td>0.096491</td>\n",
       "      <td>0.5</td>\n",
       "      <td>0.070922</td>\n",
       "      <td>0.027509</td>\n",
       "    </tr>\n",
       "    <tr>\n",
       "      <th>1821</th>\n",
       "      <td>0.720588</td>\n",
       "      <td>1.0</td>\n",
       "      <td>0.166667</td>\n",
       "      <td>0.381295</td>\n",
       "      <td>0.137427</td>\n",
       "      <td>0.5</td>\n",
       "      <td>0.195035</td>\n",
       "      <td>0.144591</td>\n",
       "    </tr>\n",
       "  </tbody>\n",
       "</table>\n",
       "<p>1822 rows × 8 columns</p>\n",
       "</div>"
      ],
      "text/plain": [
       "             0    1         2         3         4    5         6         7\n",
       "0     0.117647  1.0  0.166667  0.388489  0.052632  0.5  0.187943  0.077631\n",
       "1     0.382353  0.0  0.166667  0.120504  0.084795  0.5  0.168440  0.039452\n",
       "2     0.485294  0.0  0.166667  0.138489  0.128655  0.5  0.111702  0.115712\n",
       "3     0.044118  1.0  0.166667  0.068345  0.076023  0.5  0.106383  0.040235\n",
       "4     0.441176  1.0  0.166667  0.086331  0.070175  0.5  0.090426  0.025453\n",
       "...        ...  ...       ...       ...       ...  ...       ...       ...\n",
       "1817  0.750000  0.0  0.166667  0.174460  0.213450  0.5  0.140071  0.024474\n",
       "1818  1.000000  0.0  0.166667  0.210432  0.119883  0.5  0.115248  0.040822\n",
       "1819  0.176471  1.0  0.166667  0.285971  0.058480  0.5  0.187943  0.156241\n",
       "1820  0.838235  0.0  0.166667  0.086331  0.096491  0.5  0.070922  0.027509\n",
       "1821  0.720588  1.0  0.166667  0.381295  0.137427  0.5  0.195035  0.144591\n",
       "\n",
       "[1822 rows x 8 columns]"
      ]
     },
     "execution_count": 128,
     "metadata": {},
     "output_type": "execute_result"
    }
   ],
   "source": [
    "# train_X, test_X, train_y, test_y = train_test_split(data['RIDAGEYR'], data[\"age_group\"], test_size=0.2, stratify=data[\"age_group\"])\n",
    "# train_X = np.expand_dims(train_X.to_numpy(), axis=-1)\n",
    "# test_X = np.ex\"pand_dims(test_X.to_numpy(), axis=-1)\n",
    "train_X, test_X, train_y, test_y = train_test_split(data.drop([\"age_group\", \"SEQN\"], axis=1), data[\"age_group\"], test_size=0.2, stratify=data[\"age_group\"])\n",
    "mms = MinMaxScaler()\n",
    "mms.fit(pd.concat((train_X,test_X)).sort_index())\n",
    "train_X = pd.DataFrame(mms.transform(train_X))\n",
    "test_X = pd.DataFrame(mms.transform(test_X))\n",
    "train_X"
   ]
  },
  {
   "cell_type": "code",
   "execution_count": 129,
   "metadata": {},
   "outputs": [],
   "source": [
    "rfc = RandomForestClassifier(max_depth=9, min_samples_leaf=10, min_samples_split=18, n_estimators=16)\n",
    "rfc.fit(train_X, train_y)\n",
    "y_pred = rfc.predict(test_X)"
   ]
  },
  {
   "cell_type": "code",
   "execution_count": 130,
   "metadata": {},
   "outputs": [
    {
     "data": {
      "text/plain": [
       "1.0"
      ]
     },
     "execution_count": 130,
     "metadata": {},
     "output_type": "execute_result"
    }
   ],
   "source": [
    "precision_score(test_y, y_pred)"
   ]
  },
  {
   "cell_type": "code",
   "execution_count": 131,
   "metadata": {},
   "outputs": [
    {
     "data": {
      "text/plain": [
       "1.0"
      ]
     },
     "execution_count": 131,
     "metadata": {},
     "output_type": "execute_result"
    }
   ],
   "source": [
    "recall_score(test_y, y_pred)"
   ]
  },
  {
   "cell_type": "code",
   "execution_count": 132,
   "metadata": {},
   "outputs": [
    {
     "data": {
      "text/plain": [
       "1.0"
      ]
     },
     "execution_count": 132,
     "metadata": {},
     "output_type": "execute_result"
    }
   ],
   "source": [
    "f1_score(test_y, y_pred)"
   ]
  },
  {
   "cell_type": "code",
   "execution_count": 133,
   "metadata": {},
   "outputs": [
    {
     "data": {
      "text/plain": [
       "['/home/mike/python_files/ML_services/ml_models/random_forest_classifier_w_ridageyr.joblib']"
      ]
     },
     "execution_count": 133,
     "metadata": {},
     "output_type": "execute_result"
    }
   ],
   "source": [
    "rfc_pickle = pickle.dumps(rfc)\n",
    "dump(rfc_pickle, '/home/mike/python_files/ML_services/ml_models/random_forest_classifier_w_ridageyr.joblib') "
   ]
  },
  {
   "cell_type": "code",
   "execution_count": null,
   "metadata": {},
   "outputs": [],
   "source": []
  },
  {
   "cell_type": "code",
   "execution_count": 134,
   "metadata": {},
   "outputs": [],
   "source": [
    "train_X, test_X, train_y, test_y = train_test_split(data.drop([\"age_group\", \"SEQN\", \"RIDAGEYR\"], axis=1), data[\"age_group\"], test_size=0.2, stratify=data[\"age_group\"])\n",
    "mms = MinMaxScaler()\n",
    "mms.fit(pd.concat((train_X,test_X)))\n",
    "train_X = pd.DataFrame(mms.transform(train_X))\n",
    "test_X = pd.DataFrame(mms.transform(test_X))"
   ]
  },
  {
   "cell_type": "code",
   "execution_count": 135,
   "metadata": {},
   "outputs": [],
   "source": [
    "abc = AdaBoostClassifier(estimator=DecisionTreeClassifier(), n_estimators=50)\n",
    "abc.fit(train_X, train_y)\n",
    "y_pred = abc.predict(test_X)"
   ]
  },
  {
   "cell_type": "code",
   "execution_count": 136,
   "metadata": {},
   "outputs": [
    {
     "data": {
      "text/plain": [
       "0.27184466019417475"
      ]
     },
     "execution_count": 136,
     "metadata": {},
     "output_type": "execute_result"
    }
   ],
   "source": [
    "precision_score(test_y, y_pred)"
   ]
  },
  {
   "cell_type": "code",
   "execution_count": 137,
   "metadata": {},
   "outputs": [
    {
     "data": {
      "text/plain": [
       "0.3835616438356164"
      ]
     },
     "execution_count": 137,
     "metadata": {},
     "output_type": "execute_result"
    }
   ],
   "source": [
    "recall_score(test_y, y_pred)"
   ]
  },
  {
   "cell_type": "code",
   "execution_count": 138,
   "metadata": {},
   "outputs": [
    {
     "data": {
      "text/plain": [
       "0.3181818181818182"
      ]
     },
     "execution_count": 138,
     "metadata": {},
     "output_type": "execute_result"
    }
   ],
   "source": [
    "f1_score(test_y, y_pred)"
   ]
  },
  {
   "cell_type": "code",
   "execution_count": 139,
   "metadata": {},
   "outputs": [
    {
     "data": {
      "text/plain": [
       "['/home/mike/python_files/ML_services/ml_models/ada_boost_classifier_wo_ridageyr.joblib']"
      ]
     },
     "execution_count": 139,
     "metadata": {},
     "output_type": "execute_result"
    }
   ],
   "source": [
    "abc_pickle = pickle.dumps(abc)\n",
    "dump(abc_pickle, '/home/mike/python_files/ML_services/ml_models/ada_boost_classifier_wo_ridageyr.joblib') "
   ]
  },
  {
   "cell_type": "code",
   "execution_count": null,
   "metadata": {},
   "outputs": [],
   "source": []
  },
  {
   "cell_type": "code",
   "execution_count": 140,
   "metadata": {},
   "outputs": [],
   "source": [
    "train_X, test_X, train_y, test_y = train_test_split(data.drop([\"age_group\", \"SEQN\", \"RIDAGEYR\"], axis=1), data[\"age_group\"], test_size=0.2, stratify=data[\"age_group\"])\n",
    "mms = MinMaxScaler()\n",
    "mms.fit(pd.concat((train_X,test_X)))\n",
    "train_X = pd.DataFrame(mms.transform(train_X))\n",
    "test_X = pd.DataFrame(mms.transform(test_X))"
   ]
  },
  {
   "cell_type": "code",
   "execution_count": 141,
   "metadata": {},
   "outputs": [],
   "source": [
    "bc = BaggingClassifier(estimator=DecisionTreeClassifier(), n_estimators=10)\n",
    "bc.fit(train_X, train_y)\n",
    "y_pred = bc.predict(test_X)"
   ]
  },
  {
   "cell_type": "code",
   "execution_count": 142,
   "metadata": {},
   "outputs": [
    {
     "data": {
      "text/plain": [
       "0.36666666666666664"
      ]
     },
     "execution_count": 142,
     "metadata": {},
     "output_type": "execute_result"
    }
   ],
   "source": [
    "precision_score(test_y, y_pred)"
   ]
  },
  {
   "cell_type": "code",
   "execution_count": 143,
   "metadata": {},
   "outputs": [
    {
     "data": {
      "text/plain": [
       "0.1506849315068493"
      ]
     },
     "execution_count": 143,
     "metadata": {},
     "output_type": "execute_result"
    }
   ],
   "source": [
    "recall_score(test_y, y_pred)"
   ]
  },
  {
   "cell_type": "code",
   "execution_count": 144,
   "metadata": {},
   "outputs": [
    {
     "data": {
      "text/plain": [
       "0.21359223300970873"
      ]
     },
     "execution_count": 144,
     "metadata": {},
     "output_type": "execute_result"
    }
   ],
   "source": [
    "f1_score(test_y, y_pred)"
   ]
  },
  {
   "cell_type": "code",
   "execution_count": 145,
   "metadata": {},
   "outputs": [
    {
     "data": {
      "text/plain": [
       "['/home/mike/python_files/ML_services/ml_models/bagging_classifier_wo_ridageyr.joblib']"
      ]
     },
     "execution_count": 145,
     "metadata": {},
     "output_type": "execute_result"
    }
   ],
   "source": [
    "bc = pickle.dumps(bc)\n",
    "dump(bc, '/home/mike/python_files/ML_services/ml_models/bagging_classifier_wo_ridageyr.joblib') "
   ]
  },
  {
   "cell_type": "code",
   "execution_count": 146,
   "metadata": {},
   "outputs": [],
   "source": [
    "train_X, test_X, train_y, test_y = train_test_split(data.drop([\"age_group\", \"SEQN\"], axis=1), data[\"age_group\"], test_size=0.2, stratify=data[\"age_group\"])\n",
    "mms = MinMaxScaler()\n",
    "mms.fit(pd.concat((train_X,test_X)))\n",
    "train_X = pd.DataFrame(mms.transform(train_X))\n",
    "test_X = pd.DataFrame(mms.transform(test_X))"
   ]
  },
  {
   "cell_type": "code",
   "execution_count": 147,
   "metadata": {},
   "outputs": [],
   "source": [
    "gbc = GradientBoostingClassifier()\n",
    "gbc.fit(train_X, train_y)\n",
    "y_pred = gbc.predict(test_X)"
   ]
  },
  {
   "cell_type": "code",
   "execution_count": 148,
   "metadata": {},
   "outputs": [
    {
     "data": {
      "text/plain": [
       "1.0"
      ]
     },
     "execution_count": 148,
     "metadata": {},
     "output_type": "execute_result"
    }
   ],
   "source": [
    "precision_score(test_y, y_pred)"
   ]
  },
  {
   "cell_type": "code",
   "execution_count": 149,
   "metadata": {},
   "outputs": [
    {
     "data": {
      "text/plain": [
       "1.0"
      ]
     },
     "execution_count": 149,
     "metadata": {},
     "output_type": "execute_result"
    }
   ],
   "source": [
    "recall_score(test_y, y_pred)"
   ]
  },
  {
   "cell_type": "code",
   "execution_count": 150,
   "metadata": {},
   "outputs": [
    {
     "data": {
      "text/plain": [
       "1.0"
      ]
     },
     "execution_count": 150,
     "metadata": {},
     "output_type": "execute_result"
    }
   ],
   "source": [
    "f1_score(test_y, y_pred)"
   ]
  },
  {
   "cell_type": "code",
   "execution_count": 151,
   "metadata": {},
   "outputs": [
    {
     "data": {
      "text/plain": [
       "['/home/mike/python_files/ML_services/ml_models/gradient_boosting_w_ridageyr.joblib']"
      ]
     },
     "execution_count": 151,
     "metadata": {},
     "output_type": "execute_result"
    }
   ],
   "source": [
    "gbc = pickle.dumps(gbc)\n",
    "dump(gbc, '/home/mike/python_files/ML_services/ml_models/gradient_boosting_w_ridageyr.joblib') "
   ]
  },
  {
   "cell_type": "code",
   "execution_count": null,
   "metadata": {},
   "outputs": [],
   "source": []
  },
  {
   "cell_type": "code",
   "execution_count": 152,
   "metadata": {},
   "outputs": [
    {
     "data": {
      "text/html": [
       "<div>\n",
       "<style scoped>\n",
       "    .dataframe tbody tr th:only-of-type {\n",
       "        vertical-align: middle;\n",
       "    }\n",
       "\n",
       "    .dataframe tbody tr th {\n",
       "        vertical-align: top;\n",
       "    }\n",
       "\n",
       "    .dataframe thead th {\n",
       "        text-align: right;\n",
       "    }\n",
       "</style>\n",
       "<table border=\"1\" class=\"dataframe\">\n",
       "  <thead>\n",
       "    <tr style=\"text-align: right;\">\n",
       "      <th></th>\n",
       "      <th>0</th>\n",
       "      <th>1</th>\n",
       "      <th>2</th>\n",
       "      <th>3</th>\n",
       "      <th>4</th>\n",
       "      <th>5</th>\n",
       "      <th>6</th>\n",
       "    </tr>\n",
       "  </thead>\n",
       "  <tbody>\n",
       "    <tr>\n",
       "      <th>0</th>\n",
       "      <td>1.0</td>\n",
       "      <td>0.166667</td>\n",
       "      <td>0.417266</td>\n",
       "      <td>0.198830</td>\n",
       "      <td>0.5</td>\n",
       "      <td>0.205674</td>\n",
       "      <td>0.211845</td>\n",
       "    </tr>\n",
       "    <tr>\n",
       "      <th>1</th>\n",
       "      <td>0.0</td>\n",
       "      <td>0.166667</td>\n",
       "      <td>0.294964</td>\n",
       "      <td>0.119883</td>\n",
       "      <td>0.5</td>\n",
       "      <td>0.136525</td>\n",
       "      <td>0.109153</td>\n",
       "    </tr>\n",
       "    <tr>\n",
       "      <th>2</th>\n",
       "      <td>0.0</td>\n",
       "      <td>0.166667</td>\n",
       "      <td>0.237410</td>\n",
       "      <td>0.140351</td>\n",
       "      <td>0.5</td>\n",
       "      <td>0.131206</td>\n",
       "      <td>0.131473</td>\n",
       "    </tr>\n",
       "    <tr>\n",
       "      <th>3</th>\n",
       "      <td>1.0</td>\n",
       "      <td>0.000000</td>\n",
       "      <td>0.183453</td>\n",
       "      <td>0.116959</td>\n",
       "      <td>0.5</td>\n",
       "      <td>0.157801</td>\n",
       "      <td>0.066275</td>\n",
       "    </tr>\n",
       "    <tr>\n",
       "      <th>4</th>\n",
       "      <td>0.0</td>\n",
       "      <td>0.166667</td>\n",
       "      <td>0.232014</td>\n",
       "      <td>0.216374</td>\n",
       "      <td>0.5</td>\n",
       "      <td>0.251773</td>\n",
       "      <td>0.064415</td>\n",
       "    </tr>\n",
       "    <tr>\n",
       "      <th>...</th>\n",
       "      <td>...</td>\n",
       "      <td>...</td>\n",
       "      <td>...</td>\n",
       "      <td>...</td>\n",
       "      <td>...</td>\n",
       "      <td>...</td>\n",
       "      <td>...</td>\n",
       "    </tr>\n",
       "    <tr>\n",
       "      <th>1817</th>\n",
       "      <td>1.0</td>\n",
       "      <td>0.166667</td>\n",
       "      <td>0.401079</td>\n",
       "      <td>0.093567</td>\n",
       "      <td>0.5</td>\n",
       "      <td>0.150709</td>\n",
       "      <td>0.355164</td>\n",
       "    </tr>\n",
       "    <tr>\n",
       "      <th>1818</th>\n",
       "      <td>0.0</td>\n",
       "      <td>0.000000</td>\n",
       "      <td>0.273381</td>\n",
       "      <td>0.096491</td>\n",
       "      <td>0.5</td>\n",
       "      <td>0.124113</td>\n",
       "      <td>0.067548</td>\n",
       "    </tr>\n",
       "    <tr>\n",
       "      <th>1819</th>\n",
       "      <td>1.0</td>\n",
       "      <td>0.166667</td>\n",
       "      <td>0.302158</td>\n",
       "      <td>0.108187</td>\n",
       "      <td>0.5</td>\n",
       "      <td>0.120567</td>\n",
       "      <td>0.081253</td>\n",
       "    </tr>\n",
       "    <tr>\n",
       "      <th>1820</th>\n",
       "      <td>0.0</td>\n",
       "      <td>0.166667</td>\n",
       "      <td>0.079137</td>\n",
       "      <td>0.067251</td>\n",
       "      <td>0.5</td>\n",
       "      <td>0.067376</td>\n",
       "      <td>0.038375</td>\n",
       "    </tr>\n",
       "    <tr>\n",
       "      <th>1821</th>\n",
       "      <td>0.0</td>\n",
       "      <td>0.000000</td>\n",
       "      <td>0.221223</td>\n",
       "      <td>0.172515</td>\n",
       "      <td>0.5</td>\n",
       "      <td>0.141844</td>\n",
       "      <td>0.148116</td>\n",
       "    </tr>\n",
       "  </tbody>\n",
       "</table>\n",
       "<p>1822 rows × 7 columns</p>\n",
       "</div>"
      ],
      "text/plain": [
       "        0         1         2         3    4         5         6\n",
       "0     1.0  0.166667  0.417266  0.198830  0.5  0.205674  0.211845\n",
       "1     0.0  0.166667  0.294964  0.119883  0.5  0.136525  0.109153\n",
       "2     0.0  0.166667  0.237410  0.140351  0.5  0.131206  0.131473\n",
       "3     1.0  0.000000  0.183453  0.116959  0.5  0.157801  0.066275\n",
       "4     0.0  0.166667  0.232014  0.216374  0.5  0.251773  0.064415\n",
       "...   ...       ...       ...       ...  ...       ...       ...\n",
       "1817  1.0  0.166667  0.401079  0.093567  0.5  0.150709  0.355164\n",
       "1818  0.0  0.000000  0.273381  0.096491  0.5  0.124113  0.067548\n",
       "1819  1.0  0.166667  0.302158  0.108187  0.5  0.120567  0.081253\n",
       "1820  0.0  0.166667  0.079137  0.067251  0.5  0.067376  0.038375\n",
       "1821  0.0  0.000000  0.221223  0.172515  0.5  0.141844  0.148116\n",
       "\n",
       "[1822 rows x 7 columns]"
      ]
     },
     "execution_count": 152,
     "metadata": {},
     "output_type": "execute_result"
    }
   ],
   "source": [
    "train_X, test_X, train_y, test_y = train_test_split(data.drop([\"age_group\", \"SEQN\", \"RIDAGEYR\"], axis=1), data[\"age_group\"], test_size=0.2, stratify=data[\"age_group\"])\n",
    "# train_X, test_X, train_y, test_y = train_test_split(data.drop(\"age_group\", axis=1), data[\"age_group\"], test_size=0.2, stratify=data[\"age_group\"])\n",
    "mms = MinMaxScaler()\n",
    "mms.fit(pd.concat((train_X,test_X)))\n",
    "train_X = pd.DataFrame(mms.transform(train_X))\n",
    "test_X = pd.DataFrame(mms.transform(test_X))\n",
    "train_X"
   ]
  },
  {
   "cell_type": "code",
   "execution_count": 153,
   "metadata": {},
   "outputs": [],
   "source": [
    "rfc = RandomForestClassifier(n_estimators=7)\n",
    "rfc.fit(train_X, train_y)\n",
    "y_pred = rfc.predict(test_X)"
   ]
  },
  {
   "cell_type": "code",
   "execution_count": 154,
   "metadata": {},
   "outputs": [
    {
     "data": {
      "text/plain": [
       "0.4473684210526316"
      ]
     },
     "execution_count": 154,
     "metadata": {},
     "output_type": "execute_result"
    }
   ],
   "source": [
    "precision_score(test_y, y_pred)"
   ]
  },
  {
   "cell_type": "code",
   "execution_count": 155,
   "metadata": {},
   "outputs": [
    {
     "data": {
      "text/plain": [
       "0.2328767123287671"
      ]
     },
     "execution_count": 155,
     "metadata": {},
     "output_type": "execute_result"
    }
   ],
   "source": [
    "recall_score(test_y, y_pred)"
   ]
  },
  {
   "cell_type": "code",
   "execution_count": 156,
   "metadata": {},
   "outputs": [
    {
     "data": {
      "text/plain": [
       "0.3063063063063063"
      ]
     },
     "execution_count": 156,
     "metadata": {},
     "output_type": "execute_result"
    }
   ],
   "source": [
    "f1_score(test_y, y_pred)"
   ]
  },
  {
   "cell_type": "code",
   "execution_count": 157,
   "metadata": {},
   "outputs": [
    {
     "data": {
      "text/plain": [
       "array([0.0314784 , 0.01642347, 0.22464021, 0.19388191, 0.01384275,\n",
       "       0.26702606, 0.2527072 ])"
      ]
     },
     "execution_count": 157,
     "metadata": {},
     "output_type": "execute_result"
    }
   ],
   "source": [
    "rfc.feature_importances_"
   ]
  },
  {
   "cell_type": "code",
   "execution_count": 158,
   "metadata": {},
   "outputs": [],
   "source": [
    "# train_X, test_X, train_y, test_y = train_test_split(data.drop([\"age_group\", \"SEQN\", \"RIDAGEYR\"], axis=1), data[\"age_group\"], test_size=0.2, stratify=data[\"age_group\"])\n",
    "train_X, test_X, train_y, test_y = train_test_split(data.drop(\"age_group\", axis=1), data[\"age_group\"], test_size=0.2, stratify=data[\"age_group\"])\n",
    "mms = MinMaxScaler()\n",
    "mms.fit(pd.concat((train_X,test_X)))\n",
    "train_X = pd.DataFrame(mms.transform(train_X))\n",
    "test_X = pd.DataFrame(mms.transform(test_X))"
   ]
  },
  {
   "cell_type": "code",
   "execution_count": 159,
   "metadata": {},
   "outputs": [],
   "source": [
    "lr = LogisticRegression()\n",
    "lr.fit(train_X, train_y)\n",
    "y_pred = lr.predict(test_X)"
   ]
  },
  {
   "cell_type": "code",
   "execution_count": 160,
   "metadata": {},
   "outputs": [
    {
     "data": {
      "text/plain": [
       "0.9104477611940298"
      ]
     },
     "execution_count": 160,
     "metadata": {},
     "output_type": "execute_result"
    }
   ],
   "source": [
    "f1_score(test_y, y_pred)"
   ]
  },
  {
   "cell_type": "code",
   "execution_count": 161,
   "metadata": {},
   "outputs": [
    {
     "data": {
      "text/plain": [
       "['/home/mike/python_files/ML_services/ml_models/logistic_w_ridageyr.joblib']"
      ]
     },
     "execution_count": 161,
     "metadata": {},
     "output_type": "execute_result"
    }
   ],
   "source": [
    "lr = pickle.dumps(lr)\n",
    "dump(lr, '/home/mike/python_files/ML_services/ml_models/logistic_w_ridageyr.joblib') "
   ]
  },
  {
   "cell_type": "code",
   "execution_count": 162,
   "metadata": {},
   "outputs": [],
   "source": [
    "train_X, test_X, train_y, test_y = train_test_split(data.drop([\"age_group\", \"SEQN\", \"RIDAGEYR\"], axis=1), data[\"age_group\"], test_size=0.2, stratify=data[\"age_group\"])\n",
    "# train_X, test_X, train_y, test_y = train_test_split(data.drop(\"age_group\", axis=1), data[\"age_group\"], test_size=0.2, stratify=data[\"age_group\"])\n",
    "mms = MinMaxScaler()\n",
    "mms.fit(pd.concat((train_X,test_X)))\n",
    "train_X = pd.DataFrame(mms.transform(train_X))\n",
    "test_X = pd.DataFrame(mms.transform(test_X))"
   ]
  },
  {
   "cell_type": "code",
   "execution_count": 163,
   "metadata": {},
   "outputs": [],
   "source": [
    "svc = SVC()\n",
    "svc.fit(train_X, train_y)\n",
    "y_pred = svc.predict(test_X)"
   ]
  },
  {
   "cell_type": "code",
   "execution_count": 164,
   "metadata": {},
   "outputs": [
    {
     "data": {
      "text/plain": [
       "0.02631578947368421"
      ]
     },
     "execution_count": 164,
     "metadata": {},
     "output_type": "execute_result"
    }
   ],
   "source": [
    "f1_score(test_y, y_pred)"
   ]
  },
  {
   "cell_type": "code",
   "execution_count": 165,
   "metadata": {},
   "outputs": [],
   "source": [
    "# train_X, test_X, train_y, test_y = train_test_split(data.drop([\"age_group\", \"SEQN\", \"RIDAGEYR\"], axis=1), data[\"age_group\"], test_size=0.2, stratify=data[\"age_group\"])\n",
    "train_X, test_X, train_y, test_y = train_test_split(data.drop(\"age_group\", axis=1), data[\"age_group\"], test_size=0.2, stratify=data[\"age_group\"])\n",
    "mms = MinMaxScaler()\n",
    "mms.fit(pd.concat((train_X,test_X)))\n",
    "train_X = pd.DataFrame(mms.transform(train_X))\n",
    "test_X = pd.DataFrame(mms.transform(test_X))"
   ]
  },
  {
   "cell_type": "code",
   "execution_count": 166,
   "metadata": {},
   "outputs": [],
   "source": [
    "dtc = DecisionTreeClassifier()\n",
    "dtc.fit(train_X, train_y)\n",
    "y_pred = dtc.predict(test_X)"
   ]
  },
  {
   "cell_type": "code",
   "execution_count": 167,
   "metadata": {},
   "outputs": [
    {
     "data": {
      "text/plain": [
       "1.0"
      ]
     },
     "execution_count": 167,
     "metadata": {},
     "output_type": "execute_result"
    }
   ],
   "source": [
    "f1_score(test_y, y_pred)"
   ]
  },
  {
   "cell_type": "code",
   "execution_count": 168,
   "metadata": {},
   "outputs": [
    {
     "data": {
      "text/plain": [
       "['/home/mike/python_files/ML_services/ml_models/decision_tree_w_ridageyr.joblib']"
      ]
     },
     "execution_count": 168,
     "metadata": {},
     "output_type": "execute_result"
    }
   ],
   "source": [
    "dtc = pickle.dumps(dtc)\n",
    "dump(dtc, '/home/mike/python_files/ML_services/ml_models/decision_tree_w_ridageyr.joblib') "
   ]
  },
  {
   "cell_type": "code",
   "execution_count": 169,
   "metadata": {},
   "outputs": [],
   "source": [
    "# train_X, test_X, train_y, test_y = train_test_split(data.drop([\"age_group\", \"SEQN\", \"RIDAGEYR\"], axis=1), data[\"age_group\"], test_size=0.2, stratify=data[\"age_group\"])\n",
    "train_X, test_X, train_y, test_y = train_test_split(data.drop(\"age_group\", axis=1), data[\"age_group\"], test_size=0.2, stratify=data[\"age_group\"])\n",
    "mms = MinMaxScaler()\n",
    "mms.fit(pd.concat((train_X,test_X)))\n",
    "train_X = pd.DataFrame(mms.transform(train_X))\n",
    "test_X = pd.DataFrame(mms.transform(test_X))"
   ]
  },
  {
   "cell_type": "code",
   "execution_count": 170,
   "metadata": {},
   "outputs": [],
   "source": [
    "knn = KNeighborsClassifier()\n",
    "knn.fit(train_X, train_y)\n",
    "y_pred = knn.predict(test_X)"
   ]
  },
  {
   "cell_type": "code",
   "execution_count": 171,
   "metadata": {},
   "outputs": [
    {
     "data": {
      "text/plain": [
       "0.8695652173913043"
      ]
     },
     "execution_count": 171,
     "metadata": {},
     "output_type": "execute_result"
    }
   ],
   "source": [
    "f1_score(test_y, y_pred)"
   ]
  },
  {
   "cell_type": "code",
   "execution_count": null,
   "metadata": {},
   "outputs": [],
   "source": []
  }
 ],
 "metadata": {
  "kernelspec": {
   "display_name": "openmmlab",
   "language": "python",
   "name": "python3"
  },
  "language_info": {
   "codemirror_mode": {
    "name": "ipython",
    "version": 3
   },
   "file_extension": ".py",
   "mimetype": "text/x-python",
   "name": "python",
   "nbconvert_exporter": "python",
   "pygments_lexer": "ipython3",
   "version": "3.8.18"
  }
 },
 "nbformat": 4,
 "nbformat_minor": 2
}
