{
  "cells": [
    {
      "cell_type": "markdown",
      "id": "b945fb3f",
      "metadata": {
        "id": "b945fb3f"
      },
      "source": [
        "# Классификация зловредного ПО"
      ]
    },
    {
      "cell_type": "markdown",
      "id": "d8b4fcba",
      "metadata": {
        "id": "d8b4fcba"
      },
      "source": [
        "## Описание исследования"
      ]
    },
    {
      "cell_type": "markdown",
      "id": "a04a0bb7",
      "metadata": {
        "id": "a04a0bb7"
      },
      "source": [
        "**Бизнес-контекст:**    \n",
        "В современном мире мобильные устройства, особенно с операционной системой Android, стали неотъемлемой частью нашей повседневной жизни. Однако с ростом популярности Android появилась и угроза зловредного программного обеспечения. Более миллиарда человек используют смартфоны, и ожидается, что к 2025 году число пользователей мобильных телефонов достигнет 7,49 миллиарда.   \n",
        "\n",
        "С появлением Android увеличилась и активность разработчиков зловредного программного обеспечения. Около 2,5 миллионов новых образцов Android-вредоносных программ обнаруживаются ежегодно. Это создает угрозу для безопасности и конфиденциальности пользователей Android.    \n",
        "\n",
        "Предложенное задание направлено на разработку модели машинного обучения для обнаружения зловредного программного обеспечения на устройствах Android. Задача включает в себя сравнение производительности нескольких классификаторов с использованием нового набора данных и анализ ключевых признаков, влияющих на классификацию.    \n",
        "\n",
        "**Формальное описание задачи:**  \n",
        "Разработать сервис классификации зловредного и безвредного программного обеспечения.    \n",
        "\n",
        "**ML-задачи:**\n",
        "* провести входной анализ данных (EDA)\n",
        "* определить метрики для оценки эффективности модели\n",
        "* сформировать baseline-модель\n",
        "* предложить улучшенную модель\n",
        "\n",
        "**Описание датасета:**\n",
        "Датасет содержит данные о мобильных устройствах на платформе Android и образцах зловредного программного обеспечения. Всего в датасете 4465 экземпляров ПО и 241 предварительно обработанный категориальный признак. Целевым признаком для классификации является значение поля label - отношение ПО к зловредному (1) или доверенному (0).\n"
      ]
    },
    {
      "cell_type": "markdown",
      "id": "3252d1b2",
      "metadata": {
        "id": "3252d1b2"
      },
      "source": [
        "## Исследовательский анализ данных"
      ]
    },
    {
      "cell_type": "markdown",
      "id": "3489d8a8",
      "metadata": {
        "id": "3489d8a8"
      },
      "source": [
        "### Импорт библиотек и загрузка данных"
      ]
    },
    {
      "cell_type": "code",
      "execution_count": 1,
      "id": "ktyeO8RNQ-n2",
      "metadata": {
        "colab": {
          "base_uri": "https://localhost:8080/"
        },
        "id": "ktyeO8RNQ-n2",
        "outputId": "c743a994-8799-4d79-83a2-cd108a7de7e3",
        "scrolled": true
      },
      "outputs": [
        {
          "output_type": "stream",
          "name": "stdout",
          "text": [
            "Collecting catboost\n",
            "  Downloading catboost-1.2.2-cp310-cp310-manylinux2014_x86_64.whl (98.7 MB)\n",
            "\u001b[2K     \u001b[90m━━━━━━━━━━━━━━━━━━━━━━━━━━━━━━━━━━━━━━━━\u001b[0m \u001b[32m98.7/98.7 MB\u001b[0m \u001b[31m10.0 MB/s\u001b[0m eta \u001b[36m0:00:00\u001b[0m\n",
            "\u001b[?25hRequirement already satisfied: graphviz in /usr/local/lib/python3.10/dist-packages (from catboost) (0.20.1)\n",
            "Requirement already satisfied: matplotlib in /usr/local/lib/python3.10/dist-packages (from catboost) (3.7.1)\n",
            "Requirement already satisfied: numpy>=1.16.0 in /usr/local/lib/python3.10/dist-packages (from catboost) (1.23.5)\n",
            "Requirement already satisfied: pandas>=0.24 in /usr/local/lib/python3.10/dist-packages (from catboost) (1.5.3)\n",
            "Requirement already satisfied: scipy in /usr/local/lib/python3.10/dist-packages (from catboost) (1.11.4)\n",
            "Requirement already satisfied: plotly in /usr/local/lib/python3.10/dist-packages (from catboost) (5.15.0)\n",
            "Requirement already satisfied: six in /usr/local/lib/python3.10/dist-packages (from catboost) (1.16.0)\n",
            "Requirement already satisfied: python-dateutil>=2.8.1 in /usr/local/lib/python3.10/dist-packages (from pandas>=0.24->catboost) (2.8.2)\n",
            "Requirement already satisfied: pytz>=2020.1 in /usr/local/lib/python3.10/dist-packages (from pandas>=0.24->catboost) (2023.3.post1)\n",
            "Requirement already satisfied: contourpy>=1.0.1 in /usr/local/lib/python3.10/dist-packages (from matplotlib->catboost) (1.2.0)\n",
            "Requirement already satisfied: cycler>=0.10 in /usr/local/lib/python3.10/dist-packages (from matplotlib->catboost) (0.12.1)\n",
            "Requirement already satisfied: fonttools>=4.22.0 in /usr/local/lib/python3.10/dist-packages (from matplotlib->catboost) (4.45.1)\n",
            "Requirement already satisfied: kiwisolver>=1.0.1 in /usr/local/lib/python3.10/dist-packages (from matplotlib->catboost) (1.4.5)\n",
            "Requirement already satisfied: packaging>=20.0 in /usr/local/lib/python3.10/dist-packages (from matplotlib->catboost) (23.2)\n",
            "Requirement already satisfied: pillow>=6.2.0 in /usr/local/lib/python3.10/dist-packages (from matplotlib->catboost) (9.4.0)\n",
            "Requirement already satisfied: pyparsing>=2.3.1 in /usr/local/lib/python3.10/dist-packages (from matplotlib->catboost) (3.1.1)\n",
            "Requirement already satisfied: tenacity>=6.2.0 in /usr/local/lib/python3.10/dist-packages (from plotly->catboost) (8.2.3)\n",
            "Installing collected packages: catboost\n",
            "Successfully installed catboost-1.2.2\n"
          ]
        }
      ],
      "source": [
        "!pip install catboost"
      ]
    },
    {
      "cell_type": "code",
      "execution_count": 2,
      "id": "e6a594eb",
      "metadata": {
        "id": "e6a594eb"
      },
      "outputs": [],
      "source": [
        "import pandas as pd\n",
        "import numpy as np\n",
        "from tqdm import tqdm\n",
        "import random\n",
        "import seaborn as sns\n",
        "import matplotlib.pyplot as plt\n",
        "from mlxtend.plotting import plot_confusion_matrix\n",
        "import joblib\n",
        "from imblearn.over_sampling import SMOTE\n",
        "\n",
        "from sklearn.linear_model import LogisticRegression\n",
        "from sklearn.ensemble import RandomForestClassifier, AdaBoostClassifier\n",
        "from sklearn.gaussian_process import GaussianProcessClassifier\n",
        "from sklearn.neural_network import MLPClassifier\n",
        "from catboost import CatBoostClassifier\n",
        "\n",
        "from sklearn.model_selection import train_test_split, GridSearchCV\n",
        "from sklearn.metrics import f1_score, roc_auc_score, roc_curve, RocCurveDisplay, classification_report, confusion_matrix\n",
        "from sklearn.utils import shuffle"
      ]
    },
    {
      "cell_type": "code",
      "execution_count": 3,
      "id": "f9da23f9",
      "metadata": {
        "id": "f9da23f9"
      },
      "outputs": [],
      "source": [
        "DATA_PATH = \"TUANDROMD.csv\"\n",
        "\n",
        "SEED = 42\n",
        "random.seed(SEED)\n",
        "np.random.seed(SEED)"
      ]
    },
    {
      "cell_type": "code",
      "execution_count": 4,
      "id": "06d6e1a3",
      "metadata": {
        "id": "06d6e1a3"
      },
      "outputs": [],
      "source": [
        "# чтение файлов с данными и сохранение в df\n",
        "df = pd.read_csv(DATA_PATH)"
      ]
    },
    {
      "cell_type": "code",
      "execution_count": 5,
      "id": "35d1cfcd",
      "metadata": {
        "colab": {
          "base_uri": "https://localhost:8080/",
          "height": 273
        },
        "id": "35d1cfcd",
        "outputId": "4f26ee61-fe7c-43b1-bb8a-6e0ab4d722ec"
      },
      "outputs": [
        {
          "output_type": "execute_result",
          "data": {
            "text/plain": [
              "   ACCESS_ALL_DOWNLOADS  ACCESS_CACHE_FILESYSTEM  ACCESS_CHECKIN_PROPERTIES  \\\n",
              "0                   0.0                      0.0                        0.0   \n",
              "1                   0.0                      0.0                        0.0   \n",
              "2                   0.0                      0.0                        0.0   \n",
              "3                   0.0                      0.0                        0.0   \n",
              "4                   0.0                      0.0                        0.0   \n",
              "\n",
              "   ACCESS_COARSE_LOCATION  ACCESS_COARSE_UPDATES  ACCESS_FINE_LOCATION  \\\n",
              "0                     0.0                    0.0                   0.0   \n",
              "1                     0.0                    0.0                   0.0   \n",
              "2                     0.0                    0.0                   0.0   \n",
              "3                     0.0                    0.0                   0.0   \n",
              "4                     0.0                    0.0                   0.0   \n",
              "\n",
              "   ACCESS_LOCATION_EXTRA_COMMANDS  ACCESS_MOCK_LOCATION  ACCESS_MTK_MMHW  \\\n",
              "0                             0.0                   0.0              0.0   \n",
              "1                             0.0                   0.0              0.0   \n",
              "2                             0.0                   0.0              0.0   \n",
              "3                             0.0                   0.0              0.0   \n",
              "4                             0.0                   0.0              0.0   \n",
              "\n",
              "   ACCESS_NETWORK_STATE  ...  \\\n",
              "0                   1.0  ...   \n",
              "1                   1.0  ...   \n",
              "2                   1.0  ...   \n",
              "3                   0.0  ...   \n",
              "4                   0.0  ...   \n",
              "\n",
              "   Landroid/telephony/TelephonyManager;->getLine1Number  \\\n",
              "0                                                1.0      \n",
              "1                                                0.0      \n",
              "2                                                0.0      \n",
              "3                                                0.0      \n",
              "4                                                0.0      \n",
              "\n",
              "   Landroid/telephony/TelephonyManager;->getNetworkOperator  \\\n",
              "0                                                1.0          \n",
              "1                                                0.0          \n",
              "2                                                0.0          \n",
              "3                                                1.0          \n",
              "4                                                0.0          \n",
              "\n",
              "   Landroid/telephony/TelephonyManager;->getNetworkOperatorName  \\\n",
              "0                                                1.0              \n",
              "1                                                0.0              \n",
              "2                                                0.0              \n",
              "3                                                1.0              \n",
              "4                                                0.0              \n",
              "\n",
              "   Landroid/telephony/TelephonyManager;->getNetworkCountryIso  \\\n",
              "0                                                0.0            \n",
              "1                                                1.0            \n",
              "2                                                0.0            \n",
              "3                                                1.0            \n",
              "4                                                0.0            \n",
              "\n",
              "   Landroid/telephony/TelephonyManager;->getSimOperator  \\\n",
              "0                                                0.0      \n",
              "1                                                0.0      \n",
              "2                                                0.0      \n",
              "3                                                1.0      \n",
              "4                                                0.0      \n",
              "\n",
              "   Landroid/telephony/TelephonyManager;->getSimOperatorName  \\\n",
              "0                                                0.0          \n",
              "1                                                0.0          \n",
              "2                                                0.0          \n",
              "3                                                0.0          \n",
              "4                                                0.0          \n",
              "\n",
              "   Landroid/telephony/TelephonyManager;->getSimCountryIso  \\\n",
              "0                                                0.0        \n",
              "1                                                1.0        \n",
              "2                                                0.0        \n",
              "3                                                1.0        \n",
              "4                                                0.0        \n",
              "\n",
              "   Landroid/telephony/TelephonyManager;->getSimSerialNumber  \\\n",
              "0                                                0.0          \n",
              "1                                                0.0          \n",
              "2                                                0.0          \n",
              "3                                                0.0          \n",
              "4                                                0.0          \n",
              "\n",
              "   Lorg/apache/http/impl/client/DefaultHttpClient;->execute  Label  \n",
              "0                                                1.0           1.0  \n",
              "1                                                0.0           1.0  \n",
              "2                                                0.0           1.0  \n",
              "3                                                0.0           1.0  \n",
              "4                                                0.0           1.0  \n",
              "\n",
              "[5 rows x 242 columns]"
            ],
            "text/html": [
              "\n",
              "  <div id=\"df-3565d4df-cfa7-4baa-9ab8-2135f548d7a3\" class=\"colab-df-container\">\n",
              "    <div>\n",
              "<style scoped>\n",
              "    .dataframe tbody tr th:only-of-type {\n",
              "        vertical-align: middle;\n",
              "    }\n",
              "\n",
              "    .dataframe tbody tr th {\n",
              "        vertical-align: top;\n",
              "    }\n",
              "\n",
              "    .dataframe thead th {\n",
              "        text-align: right;\n",
              "    }\n",
              "</style>\n",
              "<table border=\"1\" class=\"dataframe\">\n",
              "  <thead>\n",
              "    <tr style=\"text-align: right;\">\n",
              "      <th></th>\n",
              "      <th>ACCESS_ALL_DOWNLOADS</th>\n",
              "      <th>ACCESS_CACHE_FILESYSTEM</th>\n",
              "      <th>ACCESS_CHECKIN_PROPERTIES</th>\n",
              "      <th>ACCESS_COARSE_LOCATION</th>\n",
              "      <th>ACCESS_COARSE_UPDATES</th>\n",
              "      <th>ACCESS_FINE_LOCATION</th>\n",
              "      <th>ACCESS_LOCATION_EXTRA_COMMANDS</th>\n",
              "      <th>ACCESS_MOCK_LOCATION</th>\n",
              "      <th>ACCESS_MTK_MMHW</th>\n",
              "      <th>ACCESS_NETWORK_STATE</th>\n",
              "      <th>...</th>\n",
              "      <th>Landroid/telephony/TelephonyManager;-&gt;getLine1Number</th>\n",
              "      <th>Landroid/telephony/TelephonyManager;-&gt;getNetworkOperator</th>\n",
              "      <th>Landroid/telephony/TelephonyManager;-&gt;getNetworkOperatorName</th>\n",
              "      <th>Landroid/telephony/TelephonyManager;-&gt;getNetworkCountryIso</th>\n",
              "      <th>Landroid/telephony/TelephonyManager;-&gt;getSimOperator</th>\n",
              "      <th>Landroid/telephony/TelephonyManager;-&gt;getSimOperatorName</th>\n",
              "      <th>Landroid/telephony/TelephonyManager;-&gt;getSimCountryIso</th>\n",
              "      <th>Landroid/telephony/TelephonyManager;-&gt;getSimSerialNumber</th>\n",
              "      <th>Lorg/apache/http/impl/client/DefaultHttpClient;-&gt;execute</th>\n",
              "      <th>Label</th>\n",
              "    </tr>\n",
              "  </thead>\n",
              "  <tbody>\n",
              "    <tr>\n",
              "      <th>0</th>\n",
              "      <td>0.0</td>\n",
              "      <td>0.0</td>\n",
              "      <td>0.0</td>\n",
              "      <td>0.0</td>\n",
              "      <td>0.0</td>\n",
              "      <td>0.0</td>\n",
              "      <td>0.0</td>\n",
              "      <td>0.0</td>\n",
              "      <td>0.0</td>\n",
              "      <td>1.0</td>\n",
              "      <td>...</td>\n",
              "      <td>1.0</td>\n",
              "      <td>1.0</td>\n",
              "      <td>1.0</td>\n",
              "      <td>0.0</td>\n",
              "      <td>0.0</td>\n",
              "      <td>0.0</td>\n",
              "      <td>0.0</td>\n",
              "      <td>0.0</td>\n",
              "      <td>1.0</td>\n",
              "      <td>1.0</td>\n",
              "    </tr>\n",
              "    <tr>\n",
              "      <th>1</th>\n",
              "      <td>0.0</td>\n",
              "      <td>0.0</td>\n",
              "      <td>0.0</td>\n",
              "      <td>0.0</td>\n",
              "      <td>0.0</td>\n",
              "      <td>0.0</td>\n",
              "      <td>0.0</td>\n",
              "      <td>0.0</td>\n",
              "      <td>0.0</td>\n",
              "      <td>1.0</td>\n",
              "      <td>...</td>\n",
              "      <td>0.0</td>\n",
              "      <td>0.0</td>\n",
              "      <td>0.0</td>\n",
              "      <td>1.0</td>\n",
              "      <td>0.0</td>\n",
              "      <td>0.0</td>\n",
              "      <td>1.0</td>\n",
              "      <td>0.0</td>\n",
              "      <td>0.0</td>\n",
              "      <td>1.0</td>\n",
              "    </tr>\n",
              "    <tr>\n",
              "      <th>2</th>\n",
              "      <td>0.0</td>\n",
              "      <td>0.0</td>\n",
              "      <td>0.0</td>\n",
              "      <td>0.0</td>\n",
              "      <td>0.0</td>\n",
              "      <td>0.0</td>\n",
              "      <td>0.0</td>\n",
              "      <td>0.0</td>\n",
              "      <td>0.0</td>\n",
              "      <td>1.0</td>\n",
              "      <td>...</td>\n",
              "      <td>0.0</td>\n",
              "      <td>0.0</td>\n",
              "      <td>0.0</td>\n",
              "      <td>0.0</td>\n",
              "      <td>0.0</td>\n",
              "      <td>0.0</td>\n",
              "      <td>0.0</td>\n",
              "      <td>0.0</td>\n",
              "      <td>0.0</td>\n",
              "      <td>1.0</td>\n",
              "    </tr>\n",
              "    <tr>\n",
              "      <th>3</th>\n",
              "      <td>0.0</td>\n",
              "      <td>0.0</td>\n",
              "      <td>0.0</td>\n",
              "      <td>0.0</td>\n",
              "      <td>0.0</td>\n",
              "      <td>0.0</td>\n",
              "      <td>0.0</td>\n",
              "      <td>0.0</td>\n",
              "      <td>0.0</td>\n",
              "      <td>0.0</td>\n",
              "      <td>...</td>\n",
              "      <td>0.0</td>\n",
              "      <td>1.0</td>\n",
              "      <td>1.0</td>\n",
              "      <td>1.0</td>\n",
              "      <td>1.0</td>\n",
              "      <td>0.0</td>\n",
              "      <td>1.0</td>\n",
              "      <td>0.0</td>\n",
              "      <td>0.0</td>\n",
              "      <td>1.0</td>\n",
              "    </tr>\n",
              "    <tr>\n",
              "      <th>4</th>\n",
              "      <td>0.0</td>\n",
              "      <td>0.0</td>\n",
              "      <td>0.0</td>\n",
              "      <td>0.0</td>\n",
              "      <td>0.0</td>\n",
              "      <td>0.0</td>\n",
              "      <td>0.0</td>\n",
              "      <td>0.0</td>\n",
              "      <td>0.0</td>\n",
              "      <td>0.0</td>\n",
              "      <td>...</td>\n",
              "      <td>0.0</td>\n",
              "      <td>0.0</td>\n",
              "      <td>0.0</td>\n",
              "      <td>0.0</td>\n",
              "      <td>0.0</td>\n",
              "      <td>0.0</td>\n",
              "      <td>0.0</td>\n",
              "      <td>0.0</td>\n",
              "      <td>0.0</td>\n",
              "      <td>1.0</td>\n",
              "    </tr>\n",
              "  </tbody>\n",
              "</table>\n",
              "<p>5 rows × 242 columns</p>\n",
              "</div>\n",
              "    <div class=\"colab-df-buttons\">\n",
              "\n",
              "  <div class=\"colab-df-container\">\n",
              "    <button class=\"colab-df-convert\" onclick=\"convertToInteractive('df-3565d4df-cfa7-4baa-9ab8-2135f548d7a3')\"\n",
              "            title=\"Convert this dataframe to an interactive table.\"\n",
              "            style=\"display:none;\">\n",
              "\n",
              "  <svg xmlns=\"http://www.w3.org/2000/svg\" height=\"24px\" viewBox=\"0 -960 960 960\">\n",
              "    <path d=\"M120-120v-720h720v720H120Zm60-500h600v-160H180v160Zm220 220h160v-160H400v160Zm0 220h160v-160H400v160ZM180-400h160v-160H180v160Zm440 0h160v-160H620v160ZM180-180h160v-160H180v160Zm440 0h160v-160H620v160Z\"/>\n",
              "  </svg>\n",
              "    </button>\n",
              "\n",
              "  <style>\n",
              "    .colab-df-container {\n",
              "      display:flex;\n",
              "      gap: 12px;\n",
              "    }\n",
              "\n",
              "    .colab-df-convert {\n",
              "      background-color: #E8F0FE;\n",
              "      border: none;\n",
              "      border-radius: 50%;\n",
              "      cursor: pointer;\n",
              "      display: none;\n",
              "      fill: #1967D2;\n",
              "      height: 32px;\n",
              "      padding: 0 0 0 0;\n",
              "      width: 32px;\n",
              "    }\n",
              "\n",
              "    .colab-df-convert:hover {\n",
              "      background-color: #E2EBFA;\n",
              "      box-shadow: 0px 1px 2px rgba(60, 64, 67, 0.3), 0px 1px 3px 1px rgba(60, 64, 67, 0.15);\n",
              "      fill: #174EA6;\n",
              "    }\n",
              "\n",
              "    .colab-df-buttons div {\n",
              "      margin-bottom: 4px;\n",
              "    }\n",
              "\n",
              "    [theme=dark] .colab-df-convert {\n",
              "      background-color: #3B4455;\n",
              "      fill: #D2E3FC;\n",
              "    }\n",
              "\n",
              "    [theme=dark] .colab-df-convert:hover {\n",
              "      background-color: #434B5C;\n",
              "      box-shadow: 0px 1px 3px 1px rgba(0, 0, 0, 0.15);\n",
              "      filter: drop-shadow(0px 1px 2px rgba(0, 0, 0, 0.3));\n",
              "      fill: #FFFFFF;\n",
              "    }\n",
              "  </style>\n",
              "\n",
              "    <script>\n",
              "      const buttonEl =\n",
              "        document.querySelector('#df-3565d4df-cfa7-4baa-9ab8-2135f548d7a3 button.colab-df-convert');\n",
              "      buttonEl.style.display =\n",
              "        google.colab.kernel.accessAllowed ? 'block' : 'none';\n",
              "\n",
              "      async function convertToInteractive(key) {\n",
              "        const element = document.querySelector('#df-3565d4df-cfa7-4baa-9ab8-2135f548d7a3');\n",
              "        const dataTable =\n",
              "          await google.colab.kernel.invokeFunction('convertToInteractive',\n",
              "                                                    [key], {});\n",
              "        if (!dataTable) return;\n",
              "\n",
              "        const docLinkHtml = 'Like what you see? Visit the ' +\n",
              "          '<a target=\"_blank\" href=https://colab.research.google.com/notebooks/data_table.ipynb>data table notebook</a>'\n",
              "          + ' to learn more about interactive tables.';\n",
              "        element.innerHTML = '';\n",
              "        dataTable['output_type'] = 'display_data';\n",
              "        await google.colab.output.renderOutput(dataTable, element);\n",
              "        const docLink = document.createElement('div');\n",
              "        docLink.innerHTML = docLinkHtml;\n",
              "        element.appendChild(docLink);\n",
              "      }\n",
              "    </script>\n",
              "  </div>\n",
              "\n",
              "\n",
              "<div id=\"df-a155dd8b-379f-46c7-9d6b-b284c6855d28\">\n",
              "  <button class=\"colab-df-quickchart\" onclick=\"quickchart('df-a155dd8b-379f-46c7-9d6b-b284c6855d28')\"\n",
              "            title=\"Suggest charts\"\n",
              "            style=\"display:none;\">\n",
              "\n",
              "<svg xmlns=\"http://www.w3.org/2000/svg\" height=\"24px\"viewBox=\"0 0 24 24\"\n",
              "     width=\"24px\">\n",
              "    <g>\n",
              "        <path d=\"M19 3H5c-1.1 0-2 .9-2 2v14c0 1.1.9 2 2 2h14c1.1 0 2-.9 2-2V5c0-1.1-.9-2-2-2zM9 17H7v-7h2v7zm4 0h-2V7h2v10zm4 0h-2v-4h2v4z\"/>\n",
              "    </g>\n",
              "</svg>\n",
              "  </button>\n",
              "\n",
              "<style>\n",
              "  .colab-df-quickchart {\n",
              "      --bg-color: #E8F0FE;\n",
              "      --fill-color: #1967D2;\n",
              "      --hover-bg-color: #E2EBFA;\n",
              "      --hover-fill-color: #174EA6;\n",
              "      --disabled-fill-color: #AAA;\n",
              "      --disabled-bg-color: #DDD;\n",
              "  }\n",
              "\n",
              "  [theme=dark] .colab-df-quickchart {\n",
              "      --bg-color: #3B4455;\n",
              "      --fill-color: #D2E3FC;\n",
              "      --hover-bg-color: #434B5C;\n",
              "      --hover-fill-color: #FFFFFF;\n",
              "      --disabled-bg-color: #3B4455;\n",
              "      --disabled-fill-color: #666;\n",
              "  }\n",
              "\n",
              "  .colab-df-quickchart {\n",
              "    background-color: var(--bg-color);\n",
              "    border: none;\n",
              "    border-radius: 50%;\n",
              "    cursor: pointer;\n",
              "    display: none;\n",
              "    fill: var(--fill-color);\n",
              "    height: 32px;\n",
              "    padding: 0;\n",
              "    width: 32px;\n",
              "  }\n",
              "\n",
              "  .colab-df-quickchart:hover {\n",
              "    background-color: var(--hover-bg-color);\n",
              "    box-shadow: 0 1px 2px rgba(60, 64, 67, 0.3), 0 1px 3px 1px rgba(60, 64, 67, 0.15);\n",
              "    fill: var(--button-hover-fill-color);\n",
              "  }\n",
              "\n",
              "  .colab-df-quickchart-complete:disabled,\n",
              "  .colab-df-quickchart-complete:disabled:hover {\n",
              "    background-color: var(--disabled-bg-color);\n",
              "    fill: var(--disabled-fill-color);\n",
              "    box-shadow: none;\n",
              "  }\n",
              "\n",
              "  .colab-df-spinner {\n",
              "    border: 2px solid var(--fill-color);\n",
              "    border-color: transparent;\n",
              "    border-bottom-color: var(--fill-color);\n",
              "    animation:\n",
              "      spin 1s steps(1) infinite;\n",
              "  }\n",
              "\n",
              "  @keyframes spin {\n",
              "    0% {\n",
              "      border-color: transparent;\n",
              "      border-bottom-color: var(--fill-color);\n",
              "      border-left-color: var(--fill-color);\n",
              "    }\n",
              "    20% {\n",
              "      border-color: transparent;\n",
              "      border-left-color: var(--fill-color);\n",
              "      border-top-color: var(--fill-color);\n",
              "    }\n",
              "    30% {\n",
              "      border-color: transparent;\n",
              "      border-left-color: var(--fill-color);\n",
              "      border-top-color: var(--fill-color);\n",
              "      border-right-color: var(--fill-color);\n",
              "    }\n",
              "    40% {\n",
              "      border-color: transparent;\n",
              "      border-right-color: var(--fill-color);\n",
              "      border-top-color: var(--fill-color);\n",
              "    }\n",
              "    60% {\n",
              "      border-color: transparent;\n",
              "      border-right-color: var(--fill-color);\n",
              "    }\n",
              "    80% {\n",
              "      border-color: transparent;\n",
              "      border-right-color: var(--fill-color);\n",
              "      border-bottom-color: var(--fill-color);\n",
              "    }\n",
              "    90% {\n",
              "      border-color: transparent;\n",
              "      border-bottom-color: var(--fill-color);\n",
              "    }\n",
              "  }\n",
              "</style>\n",
              "\n",
              "  <script>\n",
              "    async function quickchart(key) {\n",
              "      const quickchartButtonEl =\n",
              "        document.querySelector('#' + key + ' button');\n",
              "      quickchartButtonEl.disabled = true;  // To prevent multiple clicks.\n",
              "      quickchartButtonEl.classList.add('colab-df-spinner');\n",
              "      try {\n",
              "        const charts = await google.colab.kernel.invokeFunction(\n",
              "            'suggestCharts', [key], {});\n",
              "      } catch (error) {\n",
              "        console.error('Error during call to suggestCharts:', error);\n",
              "      }\n",
              "      quickchartButtonEl.classList.remove('colab-df-spinner');\n",
              "      quickchartButtonEl.classList.add('colab-df-quickchart-complete');\n",
              "    }\n",
              "    (() => {\n",
              "      let quickchartButtonEl =\n",
              "        document.querySelector('#df-a155dd8b-379f-46c7-9d6b-b284c6855d28 button');\n",
              "      quickchartButtonEl.style.display =\n",
              "        google.colab.kernel.accessAllowed ? 'block' : 'none';\n",
              "    })();\n",
              "  </script>\n",
              "</div>\n",
              "    </div>\n",
              "  </div>\n"
            ]
          },
          "metadata": {},
          "execution_count": 5
        }
      ],
      "source": [
        "# получение первых пяти строк таблицы\n",
        "df.head()"
      ]
    },
    {
      "cell_type": "code",
      "source": [
        "columns = df.columns.tolist()\n",
        "print(columns)"
      ],
      "metadata": {
        "colab": {
          "base_uri": "https://localhost:8080/"
        },
        "id": "hjuZPN0rpohJ",
        "outputId": "928d2956-a39c-43fc-c459-53f3b963d7e2"
      },
      "id": "hjuZPN0rpohJ",
      "execution_count": 6,
      "outputs": [
        {
          "output_type": "stream",
          "name": "stdout",
          "text": [
            "['ACCESS_ALL_DOWNLOADS', 'ACCESS_CACHE_FILESYSTEM', 'ACCESS_CHECKIN_PROPERTIES', 'ACCESS_COARSE_LOCATION', 'ACCESS_COARSE_UPDATES', 'ACCESS_FINE_LOCATION', 'ACCESS_LOCATION_EXTRA_COMMANDS', 'ACCESS_MOCK_LOCATION', 'ACCESS_MTK_MMHW', 'ACCESS_NETWORK_STATE', 'ACCESS_PROVIDER', 'ACCESS_SERVICE', 'ACCESS_SHARED_DATA', 'ACCESS_SUPERUSER', 'ACCESS_SURFACE_FLINGER', 'ACCESS_WIFI_STATE', 'activityCalled', 'ACTIVITY_RECOGNITION', 'ACCOUNT_MANAGER', 'ADD_VOICEMAIL', 'ANT', 'ANT_ADMIN', 'AUTHENTICATE_ACCOUNTS', 'AUTORUN_MANAGER_LICENSE_MANAGER', 'AUTORUN_MANAGER_LICENSE_SERVICE(.autorun)', 'BATTERY_STATS', 'BILLING', 'BIND_ACCESSIBILITY_SERVICE', 'BIND_APPWIDGET', 'BIND_CARRIER_MESSAGING_SERVICE', 'BIND_DEVICE_ADMIN', 'BIND_DREAM_SERVICE', 'BIND_GET_INSTALL_REFERRER_SERVICE', 'BIND_INPUT_METHOD', 'BIND_NFC_SERVICE', 'BIND_0TIFICATION_LISTENER_SERVICE', 'BIND_PRINT_SERVICE', 'BIND_REMOTEVIEWS', 'BIND_TEXT_SERVICE', 'BIND_TV_INPUT', 'BIND_VOICE_INTERACTION', 'BIND_VPN_SERVICE', 'BIND_WALLPAPER', 'BLUETOOTH', 'BLUETOOTH_ADMIN', 'BLUETOOTH_PRIVILEGED', 'BODY_SENSORS', 'BRICK', 'BROADCAST_PACKAGE_REMOVED', 'BROADCAST_SMS', 'BROADCAST_STICKY', 'BROADCAST_WAP_PUSH', 'C2D_MESSAGE', 'CALL_PHONE', 'CALL_PRIVILEGED', 'CAMERA', 'CAPTURE_AUDIO_OUTPUT', 'CAPTURE_SECURE_VIDEO_OUTPUT', 'CAPTURE_VIDEO_OUTPUT', 'CHANGE_COMPONENT_ENABLED_STATE', 'CHANGE_CONFIGURATION', 'CHANGE_DISPLAY_MODE', 'CHANGE_NETWORK_STATE', 'CHANGE_WIFI_MULTICAST_STATE', 'CHANGE_WIFI_STATE', 'CHECK_LICENSE', 'CLEAR_APP_CACHE', 'CLEAR_APP_USER_DATA', 'CONTROL_LOCATION_UPDATES', 'DATABASE_INTERFACE_SERVICE', 'DELETE_CACHE_FILES', 'DELETE_PACKAGES', 'DEVICE_POWER', 'DIAG0STIC', 'DISABLE_KEYGUARD', 'DOWNLOAD_SERVICE', 'DOWNLOAD_WITHOUT_0TIFICATION', 'DUMP', 'EXPAND_STATUS_BAR', 'EXTENSION_PERMISSION', 'FACTORY_TEST', 'FLASHLIGHT', 'FORCE_BACK', 'FULLSCREEN.FULL', 'GET_ACCOUNTS', 'GET_PACKAGE_SIZE', 'GET_TASKS', 'GET_TOP_ACTIVITY_INFO', 'GLOBAL_SEARCH', 'GOOGLE_AUTH', 'GOOGLE_PHOTOS', 'HARDWARE_TEST', 'INJECT_EVENTS', 'INSTALL_LOCATION_PROVIDER', 'INSTALL_PACKAGES', 'INSTALL_SHORTCUT', 'INTERACT_ACROSS_USERS', 'INTERNAL_SYSTEM_WINDOW', 'INTERNET', 'JPUSH_MESSAGE', 'KILL_BACKGROUND_PROCESSES', 'LOCATION_HARDWARE', 'MANAGE_ACCOUNTS', 'MANAGE_APP_TOKENS', 'MANAGE_DOCUMENTS', 'MAPS_RECEIVE', 'MASTER_CLEAR', 'MEDIA_BUTTON', 'MEDIA_CONTENT_CONTROL', 'MESSAGE', 'MODIFY_AUDIO_SETTINGS', 'MODIFY_PHONE_STATE', 'MOUNT_FORMAT_FILESYSTEMS', 'MOUNT_UNMOUNT_FILESYSTEMS', 'NFC', 'PERSISTENT_ACTIVITY', 'PERMISSION', 'PERMISSION_RUN_TASKS', 'PLUGIN', 'PROCESS_OUTGOING_CALLS', 'READ', 'READ_ATTACHMENT', 'READ_AVESTTINGS', 'READ_CALENDAR', 'READ_CALL_LOG', 'READ_CONTACTS', 'READ_CONTENT_PROVIDER', 'READ_DATA', 'READ_DATABASES', 'READ_EXTERNAL_STORAGE', 'READ_FRAME_BUFFER', 'READ_GMAIL', 'READ_GSERVICES', 'READ_HISTORY_BOOKMARKS', 'READ_INPUT_STATE', 'READ_LOGS', 'READ_MESSAGES', 'READ_OWNER_DATA', 'READ_PHONE_STATE', 'READ_PROFILE', 'READ_SETTINGS', 'READ_SMS', 'READ_SOCIAL_STREAM', 'READ_SYNC_SETTINGS', 'READ_SYNC_STATS', 'READ_USER_DICTIONARY', 'READ_VOICEMAIL', 'REBOOT', 'RECEIVE', 'RECEIVE_BOOT_COMPLETED', 'RECEIVE_MMS', 'RECEIVE_SIGNED_DATA_RESULT', 'RECEIVE_SMS', 'RECEIVE_USER_PRESENT', 'RECEIVE_WAP_PUSH', 'RECORD_AUDIO', 'REORDER_TASKS', 'RESPOND', 'RESTART_PACKAGES', 'REQUEST', 'SDCARD_WRITE', 'SEND', 'SEND_RESPOND_VIA_MESSAGE', 'SEND_SMS', 'SET_ACTIVITY_WATCHER', 'SET_ALARM', 'SET_ALWAYS_FINISH', 'SET_ANIMATION_SCALE', 'SET_DEBUG_APP', 'SET_ORIENTATION', 'SET_POINTER_SPEED', 'SET_PREFERRED_APPLICATIONS', 'SET_PROCESS_LIMIT', 'SET_TIME', 'SET_TIME_ZONE', 'SET_WALLPAPER', 'SET_WALLPAPER_HINTS', 'SIGNAL_PERSISTENT_PROCESSES', 'STATUS_BAR', 'STORAGE', 'SUBSCRIBED_FEEDS_READ', 'SUBSCRIBED_FEEDS_WRITE', 'SYSTEM_ALERT_WINDOW', 'TRANSMIT_IR', 'UNINSTALL_SHORTCUT', 'UPDATE_DEVICE_STATS', 'USES_POLICY_FORCE_LOCK', 'USE_CREDENTIALS', 'USE_FINGERPRINT', 'USE_SIP', 'VIBRATE', 'WAKE_LOCK', 'WRITE', 'WRITE_APN_SETTINGS', 'WRITE_AVSETTING', 'WRITE_CALENDAR', 'WRITE_CALL_LOG', 'WRITE_CONTACTS', 'WRITE_DATA', 'WRITE_DATABASES', 'WRITE_EXTERNAL_STORAGE', 'WRITE_GSERVICES', 'WRITE_HISTORY_BOOKMARKS', 'WRITE_INTERNAL_STORAGE', 'WRITE_MEDIA_STORAGE', 'WRITE_OWNER_DATA', 'WRITE_PROFILE', 'WRITE_SECURE_SETTINGS', 'WRITE_SETTINGS', 'WRITE_SMS', 'WRITE_SOCIAL_STREAM', 'WRITE_SYNC_SETTINGS', 'WRITE_USER_DICTIONARY', 'WRITE_VOICEMAIL', 'Ljava/lang/reflect/Method;->invoke', 'Ljavax/crypto/Cipher;->doFinal', 'Ljava/lang/Runtime;->exec', 'Ljava/lang/System;->load', 'Ldalvik/system/DexClassLoader;->loadClass', 'Ljava/lang/System;->loadLibrary', 'Ljava/net/URL;->openConnection', 'Landroid/hardware/Camera;->open', 'Landroid/hardware/Camera;->takePicture', 'Landroid/telephony/SmsManager;->sendMultipartTextMessage', 'Landroid/telephony/SmsManager;->sendTextMessage', 'Landroid/media/AudioRecord;->startRecording', 'Landroid/telephony/TelephonyManager;->getCellLocation', 'Lcom/google/android/gms/location/LocationClient;->getLastLocation', 'Landroid/location/LocationManager;->getLastK0wnLocation', 'Landroid/telephony/TelephonyManager;->getDeviceId', 'Landroid/content/pm/PackageManager;->getInstalledApplications', 'Landroid/content/pm/PackageManager;->getInstalledPackages', 'Landroid/telephony/TelephonyManager;->getLine1Number', 'Landroid/telephony/TelephonyManager;->getNetworkOperator', 'Landroid/telephony/TelephonyManager;->getNetworkOperatorName', 'Landroid/telephony/TelephonyManager;->getNetworkCountryIso', 'Landroid/telephony/TelephonyManager;->getSimOperator', 'Landroid/telephony/TelephonyManager;->getSimOperatorName', 'Landroid/telephony/TelephonyManager;->getSimCountryIso', 'Landroid/telephony/TelephonyManager;->getSimSerialNumber', 'Lorg/apache/http/impl/client/DefaultHttpClient;->execute', 'Label']\n"
          ]
        }
      ]
    },
    {
      "cell_type": "markdown",
      "id": "9e2988de",
      "metadata": {
        "id": "9e2988de"
      },
      "source": [
        "### EDA и предобработка"
      ]
    },
    {
      "cell_type": "code",
      "execution_count": 7,
      "id": "3c94b987",
      "metadata": {
        "colab": {
          "base_uri": "https://localhost:8080/"
        },
        "id": "3c94b987",
        "outputId": "df63e739-c948-4155-f6da-45832a1b45ec"
      },
      "outputs": [
        {
          "output_type": "stream",
          "name": "stdout",
          "text": [
            "<class 'pandas.core.frame.DataFrame'>\n",
            "RangeIndex: 4465 entries, 0 to 4464\n",
            "Columns: 242 entries, ACCESS_ALL_DOWNLOADS to Label\n",
            "dtypes: float64(242)\n",
            "memory usage: 8.2 MB\n"
          ]
        }
      ],
      "source": [
        "# получение общей информации о данных\n",
        "df.info()"
      ]
    },
    {
      "cell_type": "code",
      "execution_count": 8,
      "id": "rgAa1rXnSBU8",
      "metadata": {
        "colab": {
          "base_uri": "https://localhost:8080/"
        },
        "id": "rgAa1rXnSBU8",
        "outputId": "a9195d76-1bea-40d7-a200-a63716c4fde4"
      },
      "outputs": [
        {
          "output_type": "execute_result",
          "data": {
            "text/plain": [
              "ACCESS_ALL_DOWNLOADS                                        1\n",
              "ACCESS_CACHE_FILESYSTEM                                     1\n",
              "ACCESS_CHECKIN_PROPERTIES                                   1\n",
              "ACCESS_COARSE_LOCATION                                      1\n",
              "ACCESS_COARSE_UPDATES                                       1\n",
              "                                                           ..\n",
              "Landroid/telephony/TelephonyManager;->getSimOperatorName    1\n",
              "Landroid/telephony/TelephonyManager;->getSimCountryIso      1\n",
              "Landroid/telephony/TelephonyManager;->getSimSerialNumber    1\n",
              "Lorg/apache/http/impl/client/DefaultHttpClient;->execute    1\n",
              "Label                                                       1\n",
              "Length: 242, dtype: int64"
            ]
          },
          "metadata": {},
          "execution_count": 8
        }
      ],
      "source": [
        "# подсчет пропущенных значений\n",
        "df.isna().sum()"
      ]
    },
    {
      "cell_type": "code",
      "execution_count": 9,
      "id": "VorsyRn6Se5H",
      "metadata": {
        "id": "VorsyRn6Se5H"
      },
      "outputs": [],
      "source": [
        "# удаление пропусков\n",
        "df = df.dropna()"
      ]
    },
    {
      "cell_type": "code",
      "execution_count": 10,
      "id": "f9424e62",
      "metadata": {
        "colab": {
          "base_uri": "https://localhost:8080/",
          "height": 367
        },
        "id": "f9424e62",
        "outputId": "a661b3b4-afac-4052-ea26-99738272ccda"
      },
      "outputs": [
        {
          "output_type": "execute_result",
          "data": {
            "text/plain": [
              "       ACCESS_ALL_DOWNLOADS  ACCESS_CACHE_FILESYSTEM  \\\n",
              "count                4464.0                   4464.0   \n",
              "mean                    0.0                      0.0   \n",
              "std                     0.0                      0.0   \n",
              "min                     0.0                      0.0   \n",
              "25%                     0.0                      0.0   \n",
              "50%                     0.0                      0.0   \n",
              "75%                     0.0                      0.0   \n",
              "max                     1.0                      1.0   \n",
              "\n",
              "       ACCESS_CHECKIN_PROPERTIES  ACCESS_COARSE_LOCATION  \\\n",
              "count                     4464.0                  4464.0   \n",
              "mean                         0.0                     0.0   \n",
              "std                          0.0                     0.0   \n",
              "min                          0.0                     0.0   \n",
              "25%                          0.0                     0.0   \n",
              "50%                          0.0                     0.0   \n",
              "75%                          0.0                     0.0   \n",
              "max                          1.0                     1.0   \n",
              "\n",
              "       ACCESS_COARSE_UPDATES  ACCESS_FINE_LOCATION  \\\n",
              "count                 4464.0                4464.0   \n",
              "mean                     0.0                   0.0   \n",
              "std                      0.0                   0.0   \n",
              "min                      0.0                   0.0   \n",
              "25%                      0.0                   0.0   \n",
              "50%                      0.0                   0.0   \n",
              "75%                      0.0                   0.0   \n",
              "max                      1.0                   1.0   \n",
              "\n",
              "       ACCESS_LOCATION_EXTRA_COMMANDS  ACCESS_MOCK_LOCATION  ACCESS_MTK_MMHW  \\\n",
              "count                          4464.0                4464.0           4464.0   \n",
              "mean                              0.0                   0.0              0.0   \n",
              "std                               0.0                   0.0              0.0   \n",
              "min                               0.0                   0.0              0.0   \n",
              "25%                               0.0                   0.0              0.0   \n",
              "50%                               0.0                   0.0              0.0   \n",
              "75%                               0.0                   0.0              0.0   \n",
              "max                               1.0                   1.0              1.0   \n",
              "\n",
              "       ACCESS_NETWORK_STATE  ...  \\\n",
              "count                4464.0  ...   \n",
              "mean                    1.0  ...   \n",
              "std                     0.0  ...   \n",
              "min                     0.0  ...   \n",
              "25%                     0.0  ...   \n",
              "50%                     1.0  ...   \n",
              "75%                     1.0  ...   \n",
              "max                     1.0  ...   \n",
              "\n",
              "       Landroid/telephony/TelephonyManager;->getLine1Number  \\\n",
              "count                                             4464.0      \n",
              "mean                                                 0.0      \n",
              "std                                                  0.0      \n",
              "min                                                  0.0      \n",
              "25%                                                  0.0      \n",
              "50%                                                  0.0      \n",
              "75%                                                  0.0      \n",
              "max                                                  1.0      \n",
              "\n",
              "       Landroid/telephony/TelephonyManager;->getNetworkOperator  \\\n",
              "count                                             4464.0          \n",
              "mean                                                 0.0          \n",
              "std                                                  0.0          \n",
              "min                                                  0.0          \n",
              "25%                                                  0.0          \n",
              "50%                                                  0.0          \n",
              "75%                                                  0.0          \n",
              "max                                                  1.0          \n",
              "\n",
              "       Landroid/telephony/TelephonyManager;->getNetworkOperatorName  \\\n",
              "count                                             4464.0              \n",
              "mean                                                 0.0              \n",
              "std                                                  0.0              \n",
              "min                                                  0.0              \n",
              "25%                                                  0.0              \n",
              "50%                                                  0.0              \n",
              "75%                                                  0.0              \n",
              "max                                                  1.0              \n",
              "\n",
              "       Landroid/telephony/TelephonyManager;->getNetworkCountryIso  \\\n",
              "count                                             4464.0            \n",
              "mean                                                 0.0            \n",
              "std                                                  0.0            \n",
              "min                                                  0.0            \n",
              "25%                                                  0.0            \n",
              "50%                                                  0.0            \n",
              "75%                                                  0.0            \n",
              "max                                                  1.0            \n",
              "\n",
              "       Landroid/telephony/TelephonyManager;->getSimOperator  \\\n",
              "count                                             4464.0      \n",
              "mean                                                 0.0      \n",
              "std                                                  0.0      \n",
              "min                                                  0.0      \n",
              "25%                                                  0.0      \n",
              "50%                                                  0.0      \n",
              "75%                                                  0.0      \n",
              "max                                                  1.0      \n",
              "\n",
              "       Landroid/telephony/TelephonyManager;->getSimOperatorName  \\\n",
              "count                                             4464.0          \n",
              "mean                                                 0.0          \n",
              "std                                                  0.0          \n",
              "min                                                  0.0          \n",
              "25%                                                  0.0          \n",
              "50%                                                  0.0          \n",
              "75%                                                  0.0          \n",
              "max                                                  1.0          \n",
              "\n",
              "       Landroid/telephony/TelephonyManager;->getSimCountryIso  \\\n",
              "count                                             4464.0        \n",
              "mean                                                 0.0        \n",
              "std                                                  0.0        \n",
              "min                                                  0.0        \n",
              "25%                                                  0.0        \n",
              "50%                                                  0.0        \n",
              "75%                                                  0.0        \n",
              "max                                                  1.0        \n",
              "\n",
              "       Landroid/telephony/TelephonyManager;->getSimSerialNumber  \\\n",
              "count                                             4464.0          \n",
              "mean                                                 0.0          \n",
              "std                                                  0.0          \n",
              "min                                                  0.0          \n",
              "25%                                                  0.0          \n",
              "50%                                                  0.0          \n",
              "75%                                                  0.0          \n",
              "max                                                  1.0          \n",
              "\n",
              "       Lorg/apache/http/impl/client/DefaultHttpClient;->execute   Label  \n",
              "count                                             4464.0         4464.0  \n",
              "mean                                                 0.0            1.0  \n",
              "std                                                  0.0            0.0  \n",
              "min                                                  0.0            0.0  \n",
              "25%                                                  0.0            1.0  \n",
              "50%                                                  0.0            1.0  \n",
              "75%                                                  0.0            1.0  \n",
              "max                                                  1.0            1.0  \n",
              "\n",
              "[8 rows x 242 columns]"
            ],
            "text/html": [
              "\n",
              "  <div id=\"df-6e612f2d-1719-47fc-825a-28f8a936c0e9\" class=\"colab-df-container\">\n",
              "    <div>\n",
              "<style scoped>\n",
              "    .dataframe tbody tr th:only-of-type {\n",
              "        vertical-align: middle;\n",
              "    }\n",
              "\n",
              "    .dataframe tbody tr th {\n",
              "        vertical-align: top;\n",
              "    }\n",
              "\n",
              "    .dataframe thead th {\n",
              "        text-align: right;\n",
              "    }\n",
              "</style>\n",
              "<table border=\"1\" class=\"dataframe\">\n",
              "  <thead>\n",
              "    <tr style=\"text-align: right;\">\n",
              "      <th></th>\n",
              "      <th>ACCESS_ALL_DOWNLOADS</th>\n",
              "      <th>ACCESS_CACHE_FILESYSTEM</th>\n",
              "      <th>ACCESS_CHECKIN_PROPERTIES</th>\n",
              "      <th>ACCESS_COARSE_LOCATION</th>\n",
              "      <th>ACCESS_COARSE_UPDATES</th>\n",
              "      <th>ACCESS_FINE_LOCATION</th>\n",
              "      <th>ACCESS_LOCATION_EXTRA_COMMANDS</th>\n",
              "      <th>ACCESS_MOCK_LOCATION</th>\n",
              "      <th>ACCESS_MTK_MMHW</th>\n",
              "      <th>ACCESS_NETWORK_STATE</th>\n",
              "      <th>...</th>\n",
              "      <th>Landroid/telephony/TelephonyManager;-&gt;getLine1Number</th>\n",
              "      <th>Landroid/telephony/TelephonyManager;-&gt;getNetworkOperator</th>\n",
              "      <th>Landroid/telephony/TelephonyManager;-&gt;getNetworkOperatorName</th>\n",
              "      <th>Landroid/telephony/TelephonyManager;-&gt;getNetworkCountryIso</th>\n",
              "      <th>Landroid/telephony/TelephonyManager;-&gt;getSimOperator</th>\n",
              "      <th>Landroid/telephony/TelephonyManager;-&gt;getSimOperatorName</th>\n",
              "      <th>Landroid/telephony/TelephonyManager;-&gt;getSimCountryIso</th>\n",
              "      <th>Landroid/telephony/TelephonyManager;-&gt;getSimSerialNumber</th>\n",
              "      <th>Lorg/apache/http/impl/client/DefaultHttpClient;-&gt;execute</th>\n",
              "      <th>Label</th>\n",
              "    </tr>\n",
              "  </thead>\n",
              "  <tbody>\n",
              "    <tr>\n",
              "      <th>count</th>\n",
              "      <td>4464.0</td>\n",
              "      <td>4464.0</td>\n",
              "      <td>4464.0</td>\n",
              "      <td>4464.0</td>\n",
              "      <td>4464.0</td>\n",
              "      <td>4464.0</td>\n",
              "      <td>4464.0</td>\n",
              "      <td>4464.0</td>\n",
              "      <td>4464.0</td>\n",
              "      <td>4464.0</td>\n",
              "      <td>...</td>\n",
              "      <td>4464.0</td>\n",
              "      <td>4464.0</td>\n",
              "      <td>4464.0</td>\n",
              "      <td>4464.0</td>\n",
              "      <td>4464.0</td>\n",
              "      <td>4464.0</td>\n",
              "      <td>4464.0</td>\n",
              "      <td>4464.0</td>\n",
              "      <td>4464.0</td>\n",
              "      <td>4464.0</td>\n",
              "    </tr>\n",
              "    <tr>\n",
              "      <th>mean</th>\n",
              "      <td>0.0</td>\n",
              "      <td>0.0</td>\n",
              "      <td>0.0</td>\n",
              "      <td>0.0</td>\n",
              "      <td>0.0</td>\n",
              "      <td>0.0</td>\n",
              "      <td>0.0</td>\n",
              "      <td>0.0</td>\n",
              "      <td>0.0</td>\n",
              "      <td>1.0</td>\n",
              "      <td>...</td>\n",
              "      <td>0.0</td>\n",
              "      <td>0.0</td>\n",
              "      <td>0.0</td>\n",
              "      <td>0.0</td>\n",
              "      <td>0.0</td>\n",
              "      <td>0.0</td>\n",
              "      <td>0.0</td>\n",
              "      <td>0.0</td>\n",
              "      <td>0.0</td>\n",
              "      <td>1.0</td>\n",
              "    </tr>\n",
              "    <tr>\n",
              "      <th>std</th>\n",
              "      <td>0.0</td>\n",
              "      <td>0.0</td>\n",
              "      <td>0.0</td>\n",
              "      <td>0.0</td>\n",
              "      <td>0.0</td>\n",
              "      <td>0.0</td>\n",
              "      <td>0.0</td>\n",
              "      <td>0.0</td>\n",
              "      <td>0.0</td>\n",
              "      <td>0.0</td>\n",
              "      <td>...</td>\n",
              "      <td>0.0</td>\n",
              "      <td>0.0</td>\n",
              "      <td>0.0</td>\n",
              "      <td>0.0</td>\n",
              "      <td>0.0</td>\n",
              "      <td>0.0</td>\n",
              "      <td>0.0</td>\n",
              "      <td>0.0</td>\n",
              "      <td>0.0</td>\n",
              "      <td>0.0</td>\n",
              "    </tr>\n",
              "    <tr>\n",
              "      <th>min</th>\n",
              "      <td>0.0</td>\n",
              "      <td>0.0</td>\n",
              "      <td>0.0</td>\n",
              "      <td>0.0</td>\n",
              "      <td>0.0</td>\n",
              "      <td>0.0</td>\n",
              "      <td>0.0</td>\n",
              "      <td>0.0</td>\n",
              "      <td>0.0</td>\n",
              "      <td>0.0</td>\n",
              "      <td>...</td>\n",
              "      <td>0.0</td>\n",
              "      <td>0.0</td>\n",
              "      <td>0.0</td>\n",
              "      <td>0.0</td>\n",
              "      <td>0.0</td>\n",
              "      <td>0.0</td>\n",
              "      <td>0.0</td>\n",
              "      <td>0.0</td>\n",
              "      <td>0.0</td>\n",
              "      <td>0.0</td>\n",
              "    </tr>\n",
              "    <tr>\n",
              "      <th>25%</th>\n",
              "      <td>0.0</td>\n",
              "      <td>0.0</td>\n",
              "      <td>0.0</td>\n",
              "      <td>0.0</td>\n",
              "      <td>0.0</td>\n",
              "      <td>0.0</td>\n",
              "      <td>0.0</td>\n",
              "      <td>0.0</td>\n",
              "      <td>0.0</td>\n",
              "      <td>0.0</td>\n",
              "      <td>...</td>\n",
              "      <td>0.0</td>\n",
              "      <td>0.0</td>\n",
              "      <td>0.0</td>\n",
              "      <td>0.0</td>\n",
              "      <td>0.0</td>\n",
              "      <td>0.0</td>\n",
              "      <td>0.0</td>\n",
              "      <td>0.0</td>\n",
              "      <td>0.0</td>\n",
              "      <td>1.0</td>\n",
              "    </tr>\n",
              "    <tr>\n",
              "      <th>50%</th>\n",
              "      <td>0.0</td>\n",
              "      <td>0.0</td>\n",
              "      <td>0.0</td>\n",
              "      <td>0.0</td>\n",
              "      <td>0.0</td>\n",
              "      <td>0.0</td>\n",
              "      <td>0.0</td>\n",
              "      <td>0.0</td>\n",
              "      <td>0.0</td>\n",
              "      <td>1.0</td>\n",
              "      <td>...</td>\n",
              "      <td>0.0</td>\n",
              "      <td>0.0</td>\n",
              "      <td>0.0</td>\n",
              "      <td>0.0</td>\n",
              "      <td>0.0</td>\n",
              "      <td>0.0</td>\n",
              "      <td>0.0</td>\n",
              "      <td>0.0</td>\n",
              "      <td>0.0</td>\n",
              "      <td>1.0</td>\n",
              "    </tr>\n",
              "    <tr>\n",
              "      <th>75%</th>\n",
              "      <td>0.0</td>\n",
              "      <td>0.0</td>\n",
              "      <td>0.0</td>\n",
              "      <td>0.0</td>\n",
              "      <td>0.0</td>\n",
              "      <td>0.0</td>\n",
              "      <td>0.0</td>\n",
              "      <td>0.0</td>\n",
              "      <td>0.0</td>\n",
              "      <td>1.0</td>\n",
              "      <td>...</td>\n",
              "      <td>0.0</td>\n",
              "      <td>0.0</td>\n",
              "      <td>0.0</td>\n",
              "      <td>0.0</td>\n",
              "      <td>0.0</td>\n",
              "      <td>0.0</td>\n",
              "      <td>0.0</td>\n",
              "      <td>0.0</td>\n",
              "      <td>0.0</td>\n",
              "      <td>1.0</td>\n",
              "    </tr>\n",
              "    <tr>\n",
              "      <th>max</th>\n",
              "      <td>1.0</td>\n",
              "      <td>1.0</td>\n",
              "      <td>1.0</td>\n",
              "      <td>1.0</td>\n",
              "      <td>1.0</td>\n",
              "      <td>1.0</td>\n",
              "      <td>1.0</td>\n",
              "      <td>1.0</td>\n",
              "      <td>1.0</td>\n",
              "      <td>1.0</td>\n",
              "      <td>...</td>\n",
              "      <td>1.0</td>\n",
              "      <td>1.0</td>\n",
              "      <td>1.0</td>\n",
              "      <td>1.0</td>\n",
              "      <td>1.0</td>\n",
              "      <td>1.0</td>\n",
              "      <td>1.0</td>\n",
              "      <td>1.0</td>\n",
              "      <td>1.0</td>\n",
              "      <td>1.0</td>\n",
              "    </tr>\n",
              "  </tbody>\n",
              "</table>\n",
              "<p>8 rows × 242 columns</p>\n",
              "</div>\n",
              "    <div class=\"colab-df-buttons\">\n",
              "\n",
              "  <div class=\"colab-df-container\">\n",
              "    <button class=\"colab-df-convert\" onclick=\"convertToInteractive('df-6e612f2d-1719-47fc-825a-28f8a936c0e9')\"\n",
              "            title=\"Convert this dataframe to an interactive table.\"\n",
              "            style=\"display:none;\">\n",
              "\n",
              "  <svg xmlns=\"http://www.w3.org/2000/svg\" height=\"24px\" viewBox=\"0 -960 960 960\">\n",
              "    <path d=\"M120-120v-720h720v720H120Zm60-500h600v-160H180v160Zm220 220h160v-160H400v160Zm0 220h160v-160H400v160ZM180-400h160v-160H180v160Zm440 0h160v-160H620v160ZM180-180h160v-160H180v160Zm440 0h160v-160H620v160Z\"/>\n",
              "  </svg>\n",
              "    </button>\n",
              "\n",
              "  <style>\n",
              "    .colab-df-container {\n",
              "      display:flex;\n",
              "      gap: 12px;\n",
              "    }\n",
              "\n",
              "    .colab-df-convert {\n",
              "      background-color: #E8F0FE;\n",
              "      border: none;\n",
              "      border-radius: 50%;\n",
              "      cursor: pointer;\n",
              "      display: none;\n",
              "      fill: #1967D2;\n",
              "      height: 32px;\n",
              "      padding: 0 0 0 0;\n",
              "      width: 32px;\n",
              "    }\n",
              "\n",
              "    .colab-df-convert:hover {\n",
              "      background-color: #E2EBFA;\n",
              "      box-shadow: 0px 1px 2px rgba(60, 64, 67, 0.3), 0px 1px 3px 1px rgba(60, 64, 67, 0.15);\n",
              "      fill: #174EA6;\n",
              "    }\n",
              "\n",
              "    .colab-df-buttons div {\n",
              "      margin-bottom: 4px;\n",
              "    }\n",
              "\n",
              "    [theme=dark] .colab-df-convert {\n",
              "      background-color: #3B4455;\n",
              "      fill: #D2E3FC;\n",
              "    }\n",
              "\n",
              "    [theme=dark] .colab-df-convert:hover {\n",
              "      background-color: #434B5C;\n",
              "      box-shadow: 0px 1px 3px 1px rgba(0, 0, 0, 0.15);\n",
              "      filter: drop-shadow(0px 1px 2px rgba(0, 0, 0, 0.3));\n",
              "      fill: #FFFFFF;\n",
              "    }\n",
              "  </style>\n",
              "\n",
              "    <script>\n",
              "      const buttonEl =\n",
              "        document.querySelector('#df-6e612f2d-1719-47fc-825a-28f8a936c0e9 button.colab-df-convert');\n",
              "      buttonEl.style.display =\n",
              "        google.colab.kernel.accessAllowed ? 'block' : 'none';\n",
              "\n",
              "      async function convertToInteractive(key) {\n",
              "        const element = document.querySelector('#df-6e612f2d-1719-47fc-825a-28f8a936c0e9');\n",
              "        const dataTable =\n",
              "          await google.colab.kernel.invokeFunction('convertToInteractive',\n",
              "                                                    [key], {});\n",
              "        if (!dataTable) return;\n",
              "\n",
              "        const docLinkHtml = 'Like what you see? Visit the ' +\n",
              "          '<a target=\"_blank\" href=https://colab.research.google.com/notebooks/data_table.ipynb>data table notebook</a>'\n",
              "          + ' to learn more about interactive tables.';\n",
              "        element.innerHTML = '';\n",
              "        dataTable['output_type'] = 'display_data';\n",
              "        await google.colab.output.renderOutput(dataTable, element);\n",
              "        const docLink = document.createElement('div');\n",
              "        docLink.innerHTML = docLinkHtml;\n",
              "        element.appendChild(docLink);\n",
              "      }\n",
              "    </script>\n",
              "  </div>\n",
              "\n",
              "\n",
              "<div id=\"df-7cbffbee-6656-4437-ae8f-9443c5798088\">\n",
              "  <button class=\"colab-df-quickchart\" onclick=\"quickchart('df-7cbffbee-6656-4437-ae8f-9443c5798088')\"\n",
              "            title=\"Suggest charts\"\n",
              "            style=\"display:none;\">\n",
              "\n",
              "<svg xmlns=\"http://www.w3.org/2000/svg\" height=\"24px\"viewBox=\"0 0 24 24\"\n",
              "     width=\"24px\">\n",
              "    <g>\n",
              "        <path d=\"M19 3H5c-1.1 0-2 .9-2 2v14c0 1.1.9 2 2 2h14c1.1 0 2-.9 2-2V5c0-1.1-.9-2-2-2zM9 17H7v-7h2v7zm4 0h-2V7h2v10zm4 0h-2v-4h2v4z\"/>\n",
              "    </g>\n",
              "</svg>\n",
              "  </button>\n",
              "\n",
              "<style>\n",
              "  .colab-df-quickchart {\n",
              "      --bg-color: #E8F0FE;\n",
              "      --fill-color: #1967D2;\n",
              "      --hover-bg-color: #E2EBFA;\n",
              "      --hover-fill-color: #174EA6;\n",
              "      --disabled-fill-color: #AAA;\n",
              "      --disabled-bg-color: #DDD;\n",
              "  }\n",
              "\n",
              "  [theme=dark] .colab-df-quickchart {\n",
              "      --bg-color: #3B4455;\n",
              "      --fill-color: #D2E3FC;\n",
              "      --hover-bg-color: #434B5C;\n",
              "      --hover-fill-color: #FFFFFF;\n",
              "      --disabled-bg-color: #3B4455;\n",
              "      --disabled-fill-color: #666;\n",
              "  }\n",
              "\n",
              "  .colab-df-quickchart {\n",
              "    background-color: var(--bg-color);\n",
              "    border: none;\n",
              "    border-radius: 50%;\n",
              "    cursor: pointer;\n",
              "    display: none;\n",
              "    fill: var(--fill-color);\n",
              "    height: 32px;\n",
              "    padding: 0;\n",
              "    width: 32px;\n",
              "  }\n",
              "\n",
              "  .colab-df-quickchart:hover {\n",
              "    background-color: var(--hover-bg-color);\n",
              "    box-shadow: 0 1px 2px rgba(60, 64, 67, 0.3), 0 1px 3px 1px rgba(60, 64, 67, 0.15);\n",
              "    fill: var(--button-hover-fill-color);\n",
              "  }\n",
              "\n",
              "  .colab-df-quickchart-complete:disabled,\n",
              "  .colab-df-quickchart-complete:disabled:hover {\n",
              "    background-color: var(--disabled-bg-color);\n",
              "    fill: var(--disabled-fill-color);\n",
              "    box-shadow: none;\n",
              "  }\n",
              "\n",
              "  .colab-df-spinner {\n",
              "    border: 2px solid var(--fill-color);\n",
              "    border-color: transparent;\n",
              "    border-bottom-color: var(--fill-color);\n",
              "    animation:\n",
              "      spin 1s steps(1) infinite;\n",
              "  }\n",
              "\n",
              "  @keyframes spin {\n",
              "    0% {\n",
              "      border-color: transparent;\n",
              "      border-bottom-color: var(--fill-color);\n",
              "      border-left-color: var(--fill-color);\n",
              "    }\n",
              "    20% {\n",
              "      border-color: transparent;\n",
              "      border-left-color: var(--fill-color);\n",
              "      border-top-color: var(--fill-color);\n",
              "    }\n",
              "    30% {\n",
              "      border-color: transparent;\n",
              "      border-left-color: var(--fill-color);\n",
              "      border-top-color: var(--fill-color);\n",
              "      border-right-color: var(--fill-color);\n",
              "    }\n",
              "    40% {\n",
              "      border-color: transparent;\n",
              "      border-right-color: var(--fill-color);\n",
              "      border-top-color: var(--fill-color);\n",
              "    }\n",
              "    60% {\n",
              "      border-color: transparent;\n",
              "      border-right-color: var(--fill-color);\n",
              "    }\n",
              "    80% {\n",
              "      border-color: transparent;\n",
              "      border-right-color: var(--fill-color);\n",
              "      border-bottom-color: var(--fill-color);\n",
              "    }\n",
              "    90% {\n",
              "      border-color: transparent;\n",
              "      border-bottom-color: var(--fill-color);\n",
              "    }\n",
              "  }\n",
              "</style>\n",
              "\n",
              "  <script>\n",
              "    async function quickchart(key) {\n",
              "      const quickchartButtonEl =\n",
              "        document.querySelector('#' + key + ' button');\n",
              "      quickchartButtonEl.disabled = true;  // To prevent multiple clicks.\n",
              "      quickchartButtonEl.classList.add('colab-df-spinner');\n",
              "      try {\n",
              "        const charts = await google.colab.kernel.invokeFunction(\n",
              "            'suggestCharts', [key], {});\n",
              "      } catch (error) {\n",
              "        console.error('Error during call to suggestCharts:', error);\n",
              "      }\n",
              "      quickchartButtonEl.classList.remove('colab-df-spinner');\n",
              "      quickchartButtonEl.classList.add('colab-df-quickchart-complete');\n",
              "    }\n",
              "    (() => {\n",
              "      let quickchartButtonEl =\n",
              "        document.querySelector('#df-7cbffbee-6656-4437-ae8f-9443c5798088 button');\n",
              "      quickchartButtonEl.style.display =\n",
              "        google.colab.kernel.accessAllowed ? 'block' : 'none';\n",
              "    })();\n",
              "  </script>\n",
              "</div>\n",
              "    </div>\n",
              "  </div>\n"
            ]
          },
          "metadata": {},
          "execution_count": 10
        }
      ],
      "source": [
        "# числовое описание данных\n",
        "round(df.describe(), 0)"
      ]
    },
    {
      "cell_type": "code",
      "execution_count": 11,
      "id": "34ddfc9d",
      "metadata": {
        "colab": {
          "base_uri": "https://localhost:8080/"
        },
        "id": "34ddfc9d",
        "outputId": "8e68ee25-12b4-4a8f-8d78-7c3a981f41a8"
      },
      "outputs": [
        {
          "output_type": "execute_result",
          "data": {
            "text/plain": [
              "1.0    0.798611\n",
              "0.0    0.201389\n",
              "Name: Label, dtype: float64"
            ]
          },
          "metadata": {},
          "execution_count": 11
        }
      ],
      "source": [
        "# оценка баланса классов\n",
        "df[\"Label\"].value_counts(normalize=True)"
      ]
    },
    {
      "cell_type": "code",
      "execution_count": 12,
      "id": "SaVCmyz-JgQM",
      "metadata": {
        "colab": {
          "base_uri": "https://localhost:8080/",
          "height": 322
        },
        "id": "SaVCmyz-JgQM",
        "outputId": "1982c115-f989-4853-d550-fbff3c58c655"
      },
      "outputs": [
        {
          "output_type": "display_data",
          "data": {
            "text/plain": [
              "<Figure size 800x300 with 1 Axes>"
            ],
            "image/png": "[encoded data removed]"
          },
          "metadata": {}
        }
      ],
      "source": [
        "df[\"Label\"].value_counts().plot(kind='bar', figsize=(8, 3), ec='white',\n",
        "                              color='#F76E51', title=\"Частотное распределение классов\");"
      ]
    },
    {
      "cell_type": "markdown",
      "id": "6c311109",
      "metadata": {
        "id": "6c311109"
      },
      "source": [
        "#### Борьба с дисбалансом классов"
      ]
    },
    {
      "cell_type": "code",
      "execution_count": 13,
      "id": "2ad4b143",
      "metadata": {
        "id": "2ad4b143",
        "colab": {
          "base_uri": "https://localhost:8080/"
        },
        "outputId": "af344fb6-70cd-429d-a1af-999b91dfd691"
      },
      "outputs": [
        {
          "output_type": "stream",
          "name": "stdout",
          "text": [
            "Размер исходного датасета (4464,)\n",
            "Размер сбалансированного датасета (7130,)\n"
          ]
        }
      ],
      "source": [
        "y = df['Label']\n",
        "X = df.drop(['Label'], axis = 1)\n",
        "smote = SMOTE()\n",
        "x_smote, y_smote = smote.fit_resample(X, y)\n",
        "\n",
        "print('Размер исходного датасета', y.shape)\n",
        "print('Размер сбалансированного датасета', y_smote.shape)"
      ]
    },
    {
      "cell_type": "code",
      "execution_count": 14,
      "id": "55aeb279",
      "metadata": {
        "colab": {
          "base_uri": "https://localhost:8080/"
        },
        "id": "55aeb279",
        "outputId": "3bdd25d0-e644-4e35-9165-630f6ae81a7f"
      },
      "outputs": [
        {
          "output_type": "execute_result",
          "data": {
            "text/plain": [
              "1.0    0.5\n",
              "0.0    0.5\n",
              "Name: Label, dtype: float64"
            ]
          },
          "metadata": {},
          "execution_count": 14
        }
      ],
      "source": [
        "# оценка баланса классов\n",
        "y_smote.value_counts(normalize=True)"
      ]
    },
    {
      "cell_type": "markdown",
      "id": "eca6d31d",
      "metadata": {
        "id": "eca6d31d"
      },
      "source": [
        "### Подготовка выборок"
      ]
    },
    {
      "cell_type": "markdown",
      "id": "d70d0352",
      "metadata": {
        "id": "d70d0352"
      },
      "source": [
        "Разделим данные на обучающую (80%) и тестовую (20%) выборки:"
      ]
    },
    {
      "cell_type": "code",
      "source": [
        "# разделение данных на обучающую и тестовую выборки\n",
        "X_train, X_test, y_train, y_test = train_test_split(x_smote, y_smote, test_size = 0.2, random_state=SEED)"
      ],
      "metadata": {
        "id": "djNYLciIsNKV"
      },
      "id": "djNYLciIsNKV",
      "execution_count": 15,
      "outputs": []
    },
    {
      "cell_type": "markdown",
      "id": "b76e5822",
      "metadata": {
        "id": "b76e5822"
      },
      "source": [
        "## Определение метрик для оценки эффективности модели"
      ]
    },
    {
      "cell_type": "markdown",
      "id": "46d47ed5",
      "metadata": {
        "id": "46d47ed5"
      },
      "source": [
        "В задачах бинарной классификации применяется ряд метрик, которые оценивают качество модели с различных точек зрения.    \n",
        "Для оценки качества модели будет применяться **F1-мера**, которая является гармоническим средним между точностью и полнотой и обеспечивает баланс между ними: $F1=2×\\frac{Precision × Recall}{Precision + Recall}$    \n",
        "В качестве вспомогательной метрики будет рассчитан **ROC-AUC**, а также отображена **ROC-кривая**, для наглядной оценки баланса между чувствительностью и специфичностью.     \n",
        "Кроме качества моделей на конечных задачах, будем замерять их производительность (среднее число миллисекунд на предикт одного объкта при запуске на CPU либо GPU) и размер (в мегабайтах, которые модель занимает на диске)."
      ]
    },
    {
      "cell_type": "markdown",
      "id": "3e21ebb2",
      "metadata": {
        "id": "3e21ebb2"
      },
      "source": [
        "## Baseline-модель"
      ]
    },
    {
      "cell_type": "markdown",
      "id": "cdec334e",
      "metadata": {
        "id": "cdec334e"
      },
      "source": [
        "В качестве baseline-модели будем использовать случайную модель, которая просто предсказывает класс случайным образом."
      ]
    },
    {
      "cell_type": "code",
      "execution_count": 16,
      "id": "824177f8",
      "metadata": {
        "id": "824177f8"
      },
      "outputs": [],
      "source": [
        "def random_model(X):\n",
        "    # Генерация случайных предсказаний\n",
        "    predictions = np.random.choice([0, 1], size=len(X))\n",
        "    # Генерация случайных вероятностей между 0 и 1\n",
        "    probabilities = np.random.rand(len(X))\n",
        "    return predictions, probabilities"
      ]
    },
    {
      "cell_type": "code",
      "execution_count": 17,
      "id": "d1a744e8",
      "metadata": {
        "id": "d1a744e8"
      },
      "outputs": [],
      "source": [
        "predictions_RM, probabilities_RM  = random_model(X_test)"
      ]
    },
    {
      "cell_type": "code",
      "execution_count": 18,
      "id": "981dfae3",
      "metadata": {
        "colab": {
          "base_uri": "https://localhost:8080/"
        },
        "id": "981dfae3",
        "outputId": "94a38e8c-83db-4ee1-8ff4-f77c2bf63c53"
      },
      "outputs": [
        {
          "output_type": "stream",
          "name": "stdout",
          "text": [
            "F1 случайной модели: 0.501\n"
          ]
        }
      ],
      "source": [
        "f1_RM = round(f1_score(y_test, predictions_RM), 3)\n",
        "print(\"F1 случайной модели:\", f1_RM)"
      ]
    },
    {
      "cell_type": "code",
      "source": [
        "fpr, tpr, _ = roc_curve(y_test, probabilities_RM)\n",
        "\n",
        "roc_auc_RM = round(roc_auc_score(y_test, probabilities_RM), 3)\n",
        "print(\"ROC-AUC случайной модели:\", roc_auc_RM)\n",
        "\n",
        "# Построение ROC-кривой\n",
        "roc_display = RocCurveDisplay(fpr=fpr, tpr=tpr, roc_auc=roc_auc_RM)\n",
        "roc_display.plot()\n",
        "plt.show()"
      ],
      "metadata": {
        "colab": {
          "base_uri": "https://localhost:8080/",
          "height": 467
        },
        "id": "hW3xeY8FFyrv",
        "outputId": "34c937e8-7c09-4d4a-a841-4320a851c0b5"
      },
      "id": "hW3xeY8FFyrv",
      "execution_count": 19,
      "outputs": [
        {
          "output_type": "stream",
          "name": "stdout",
          "text": [
            "ROC-AUC случайной модели: 0.497\n"
          ]
        },
        {
          "output_type": "display_data",
          "data": {
            "text/plain": [
              "<Figure size 640x480 with 1 Axes>"
            ],
            "image/png": "[encoded data removed]"
          },
          "metadata": {}
        }
      ]
    },
    {
      "cell_type": "markdown",
      "id": "510ded35",
      "metadata": {
        "id": "510ded35"
      },
      "source": [
        "## Обучение моделей"
      ]
    },
    {
      "cell_type": "markdown",
      "source": [
        "Обучим несколько моделей из различных семейств:    \n",
        "\n",
        "1) **LogisticRegression:** это линейный метод классификации, использующий логистическую функцию для моделирования вероятности принадлежности экземпляра к определенному классу.\n",
        "\n",
        "2) **RandomForestClassifier:** это ансамбль деревьев решений, где каждое дерево обучается на случайном подмножестве данных и признаков. Относится к семейству ансамблевых моделей.\n",
        "\n",
        "3) **CatBoostClassifier:** это градиентный бустинговый алгоритм, разработанный для работы с категориальными признаками. Относится к семейству градиентного бустинга.\n",
        "\n",
        "4) **AdaBoostClassifier:** это еще один градиентный бустинговый алгоритм, который комбинирует несколько слабых (недообученных) моделей для создания сильной модели.\n",
        "\n",
        "5) **GaussianProcessClassifier:** классификатор на основе гауссовских процессов. Он использует гауссовский процесс для моделирования распределения вероятностей по классам.\n",
        "\n",
        "6) **MLPClassifier:** многослойный перцептрон - это нейронная сеть, состоящая из нескольких слоев нейронов."
      ],
      "metadata": {
        "id": "kOtjNyPtVHR5"
      },
      "id": "kOtjNyPtVHR5"
    },
    {
      "cell_type": "markdown",
      "id": "089cb696",
      "metadata": {
        "id": "089cb696"
      },
      "source": [
        "### Определение параметров и функций"
      ]
    },
    {
      "cell_type": "code",
      "execution_count": 20,
      "id": "c389149e",
      "metadata": {
        "id": "c389149e"
      },
      "outputs": [],
      "source": [
        "CV = 3 #количество итераций при кросс-валидации\n",
        "\n",
        "params_LR = {'solver': ['liblinear', 'saga'],  # Алгоритм оптимизации\n",
        "                 'penalty': ['l1', 'l2'],  # Штраф за норму\n",
        "                 'class_weight': [None, 'balanced'],  # Веса классов\n",
        "                 'C': [0.001, 0.01, 0.1, 1, 10, 100]    # Обратная сила регуляризации\n",
        "             }\n",
        "\n",
        "params_RF = {'n_estimators': [10, 30, 50],  # Количество деревьев\n",
        "                 'max_depth': [10, 20, 30, 40, 50]  # Максимальная глубина каждого дерева\n",
        "             }\n",
        "\n",
        "params_CB = {'depth': [4, 6, 8, 10]\n",
        "             }  # Максимальная глубина деревьев (the optimal depth ranges from 4 to 10)\n",
        "\n",
        "params_AB = {'learning_rate': [0.01, 0.1, 0.5, 1.0]  # Learning rate\n",
        "                 }\n",
        "\n",
        "params_GP = {'max_iter_predict': [100, 200, 300]\n",
        "             }    # Максимальное количество итераций при предсказании\n",
        "\n",
        "\n",
        "params_MLP = {'alpha': [0.0001, 0.001, 0.01, 0.5, 1]\n",
        "              }    # Параметр регуляризации\n",
        "\n",
        "\n",
        "models_list = [[LogisticRegression(random_state=SEED), params_LR, \"Logistic regression\"],\n",
        "               [RandomForestClassifier(random_state=SEED), params_RF, \"Random Forest\"],\n",
        "               [CatBoostClassifier(random_state=SEED, verbose=False, task_type=\"GPU\", devices='0:1'), params_CB, \"CatBoost\"],\n",
        "               [AdaBoostClassifier(random_state=SEED), params_AB, \"Adaboost\"],\n",
        "               [GaussianProcessClassifier(random_state=SEED), params_GP, \"Gaussian Process\"],\n",
        "               [MLPClassifier(max_iter=1000, random_state=SEED), params_MLP, \"MLP Classifier\"]\n",
        "               ]"
      ]
    },
    {
      "cell_type": "code",
      "execution_count": 21,
      "id": "fd3826b7",
      "metadata": {
        "id": "fd3826b7"
      },
      "outputs": [],
      "source": [
        "def grid_search_cv(model, features_train, target_train, features_test, target_test, parameters):\n",
        "\n",
        "    # cross-validation and hyperparameter selection\n",
        "    grid = GridSearchCV(estimator=model, param_grid=parameters, cv=CV, scoring='f1',\n",
        "                        n_jobs=-1, error_score='raise')\n",
        "\n",
        "    grid.fit(features_train, target_train)\n",
        "    best_params = grid.best_params_\n",
        "    print(\"Наилучшие параметры:\", best_params)\n",
        "\n",
        "    # prediction based on the best parameters\n",
        "    best_model = model.set_params(**best_params)\n",
        "    best_model.fit(features_train, target_train)\n",
        "    predictions = best_model.predict(features_test)\n",
        "    probabilities = best_model.predict_proba(features_test)[:, 1]\n",
        "    fpr, tpr, _ = roc_curve(target_test, probabilities)\n",
        "\n",
        "    # metrics\n",
        "    f1 = round(f1_score(target_test, predictions), 3)\n",
        "    roc_auc = round(roc_auc_score(target_test, probabilities), 3)\n",
        "\n",
        "    print(f'f1:', f1)\n",
        "    print(f'ROC-AUC:', roc_auc)\n",
        "    print()\n",
        "\n",
        "    # Построение ROC-кривой\n",
        "    roc_display = RocCurveDisplay(fpr=fpr, tpr=tpr, roc_auc=roc_auc)\n",
        "    roc_display.plot()\n",
        "    plt.show()\n",
        "    print(\"\\n\")\n",
        "\n",
        "    # Построение матрицы ошибок\n",
        "    cnf = confusion_matrix(target_test, predictions)\n",
        "    fig, ax = plot_confusion_matrix(conf_mat = cnf)\n",
        "    plt.show()\n",
        "    print(\"\\n\")\n",
        "\n",
        "    # Classification report\n",
        "    classes = {0: 'Goodware', 1: 'Malware'}\n",
        "    clf_report = classification_report(predictions, target_test, target_names = list(classes.values()))\n",
        "    print(clf_report)\n",
        "\n",
        "    return f1, roc_auc, best_model"
      ]
    },
    {
      "cell_type": "markdown",
      "source": [
        "### Обучение и тестирование различных моделей"
      ],
      "metadata": {
        "id": "M3liOpZqIlCq"
      },
      "id": "M3liOpZqIlCq"
    },
    {
      "cell_type": "code",
      "source": [
        "results_metrics = {}  # Создание пустого словаря для хранения результатов\n",
        "\n",
        "for model in models_list:\n",
        "  print(\"Модель:\", model[2])\n",
        "  f1, roc_auc, trained_model = grid_search_cv(model[0], X_train, y_train, X_test, y_test, model[1])\n",
        "\n",
        "  # Сохранение модели в формате joblib\n",
        "  model_name = model[2].replace(\" \", \"_\").lower()  # Преобразование имени модели в нижний регистр и замена пробелов\n",
        "  joblib.dump(trained_model, f'{model_name}_model.joblib')\n",
        "\n",
        "  # Сохранение результатов в словаре\n",
        "  results_metrics[model[2]] = {'f1': f1, 'roc_auc': roc_auc}"
      ],
      "metadata": {
        "id": "5_kW7fzXYAdg",
        "colab": {
          "base_uri": "https://localhost:8080/",
          "height": 1000
        },
        "outputId": "98f905d0-fa3a-4268-8edc-3b4a30cfde31"
      },
      "id": "5_kW7fzXYAdg",
      "execution_count": 22,
      "outputs": [
        {
          "output_type": "stream",
          "name": "stdout",
          "text": [
            "Модель: Logistic regression\n",
            "Наилучшие параметры: {'C': 1, 'class_weight': None, 'penalty': 'l2', 'solver': 'liblinear'}\n",
            "f1: 0.988\n",
            "ROC-AUC: 0.999\n",
            "\n"
          ]
        },
        {
          "output_type": "display_data",
          "data": {
            "text/plain": [
              "<Figure size 640x480 with 1 Axes>"
            ],
            "image/png": "[encoded data removed]"
          },
          "metadata": {}
        },
        {
          "output_type": "stream",
          "name": "stdout",
          "text": [
            "\n",
            "\n"
          ]
        },
        {
          "output_type": "display_data",
          "data": {
            "text/plain": [
              "<Figure size 640x480 with 1 Axes>"
            ],
            "image/png": "[encoded data removed]"
          },
          "metadata": {}
        },
        {
          "output_type": "stream",
          "name": "stdout",
          "text": [
            "\n",
            "\n",
            "              precision    recall  f1-score   support\n",
            "\n",
            "    Goodware       0.99      0.99      0.99       695\n",
            "     Malware       0.99      0.99      0.99       731\n",
            "\n",
            "    accuracy                           0.99      1426\n",
            "   macro avg       0.99      0.99      0.99      1426\n",
            "weighted avg       0.99      0.99      0.99      1426\n",
            "\n",
            "Модель: Random Forest\n",
            "Наилучшие параметры: {'max_depth': 30, 'n_estimators': 50}\n",
            "f1: 0.997\n",
            "ROC-AUC: 1.0\n",
            "\n"
          ]
        },
        {
          "output_type": "display_data",
          "data": {
            "text/plain": [
              "<Figure size 640x480 with 1 Axes>"
            ],
            "image/png": "[encoded data removed]"
          },
          "metadata": {}
        },
        {
          "output_type": "stream",
          "name": "stdout",
          "text": [
            "\n",
            "\n"
          ]
        },
        {
          "output_type": "display_data",
          "data": {
            "text/plain": [
              "<Figure size 640x480 with 1 Axes>"
            ],
            "image/png": "[encoded data removed]"
          },
          "metadata": {}
        },
        {
          "output_type": "stream",
          "name": "stdout",
          "text": [
            "\n",
            "\n",
            "              precision    recall  f1-score   support\n",
            "\n",
            "    Goodware       1.00      0.99      1.00       697\n",
            "     Malware       0.99      1.00      1.00       729\n",
            "\n",
            "    accuracy                           1.00      1426\n",
            "   macro avg       1.00      1.00      1.00      1426\n",
            "weighted avg       1.00      1.00      1.00      1426\n",
            "\n",
            "Модель: CatBoost\n"
          ]
        },
        {
          "output_type": "stream",
          "name": "stderr",
          "text": [
            "/usr/local/lib/python3.10/dist-packages/joblib/externals/loky/process_executor.py:752: UserWarning: A worker stopped while some jobs were given to the executor. This can be caused by a too short worker timeout or by a memory leak.\n",
            "  warnings.warn(\n"
          ]
        },
        {
          "output_type": "stream",
          "name": "stdout",
          "text": [
            "Наилучшие параметры: {'depth': 8}\n",
            "f1: 0.995\n",
            "ROC-AUC: 1.0\n",
            "\n"
          ]
        },
        {
          "output_type": "display_data",
          "data": {
            "text/plain": [
              "<Figure size 640x480 with 1 Axes>"
            ],
            "image/png": "[encoded data removed]"
          },
          "metadata": {}
        },
        {
          "output_type": "stream",
          "name": "stdout",
          "text": [
            "\n",
            "\n"
          ]
        },
        {
          "output_type": "display_data",
          "data": {
            "text/plain": [
              "<Figure size 640x480 with 1 Axes>"
            ],
            "image/png": "[encoded data removed]"
          },
          "metadata": {}
        },
        {
          "output_type": "stream",
          "name": "stdout",
          "text": [
            "\n",
            "\n",
            "              precision    recall  f1-score   support\n",
            "\n",
            "    Goodware       1.00      0.99      0.99       696\n",
            "     Malware       0.99      1.00      0.99       730\n",
            "\n",
            "    accuracy                           0.99      1426\n",
            "   macro avg       0.99      0.99      0.99      1426\n",
            "weighted avg       0.99      0.99      0.99      1426\n",
            "\n",
            "Модель: Adaboost\n",
            "Наилучшие параметры: {'learning_rate': 0.5}\n",
            "f1: 0.985\n",
            "ROC-AUC: 0.998\n",
            "\n"
          ]
        },
        {
          "output_type": "display_data",
          "data": {
            "text/plain": [
              "<Figure size 640x480 with 1 Axes>"
            ],
            "image/png": "[encoded data removed]"
          },
          "metadata": {}
        },
        {
          "output_type": "stream",
          "name": "stdout",
          "text": [
            "\n",
            "\n"
          ]
        },
        {
          "output_type": "display_data",
          "data": {
            "text/plain": [
              "<Figure size 640x480 with 1 Axes>"
            ],
            "image/png": "[encoded data removed]"
          },
          "metadata": {}
        },
        {
          "output_type": "stream",
          "name": "stdout",
          "text": [
            "\n",
            "\n",
            "              precision    recall  f1-score   support\n",
            "\n",
            "    Goodware       0.98      0.99      0.98       690\n",
            "     Malware       0.99      0.98      0.99       736\n",
            "\n",
            "    accuracy                           0.98      1426\n",
            "   macro avg       0.98      0.98      0.98      1426\n",
            "weighted avg       0.98      0.98      0.98      1426\n",
            "\n",
            "Модель: Gaussian Process\n",
            "Наилучшие параметры: {'max_iter_predict': 100}\n",
            "f1: 0.995\n",
            "ROC-AUC: 0.996\n",
            "\n"
          ]
        },
        {
          "output_type": "display_data",
          "data": {
            "text/plain": [
              "<Figure size 640x480 with 1 Axes>"
            ],
            "image/png": "[encoded data removed]"
          },
          "metadata": {}
        },
        {
          "output_type": "stream",
          "name": "stdout",
          "text": [
            "\n",
            "\n"
          ]
        },
        {
          "output_type": "display_data",
          "data": {
            "text/plain": [
              "<Figure size 640x480 with 1 Axes>"
            ],
            "image/png": "[encoded data removed]"
          },
          "metadata": {}
        },
        {
          "output_type": "stream",
          "name": "stdout",
          "text": [
            "\n",
            "\n",
            "              precision    recall  f1-score   support\n",
            "\n",
            "    Goodware       1.00      0.99      0.99       701\n",
            "     Malware       0.99      1.00      1.00       725\n",
            "\n",
            "    accuracy                           1.00      1426\n",
            "   macro avg       1.00      1.00      1.00      1426\n",
            "weighted avg       1.00      1.00      1.00      1426\n",
            "\n",
            "Модель: MLP Classifier\n",
            "Наилучшие параметры: {'alpha': 0.0001}\n",
            "f1: 0.995\n",
            "ROC-AUC: 0.999\n",
            "\n"
          ]
        },
        {
          "output_type": "display_data",
          "data": {
            "text/plain": [
              "<Figure size 640x480 with 1 Axes>"
            ],
            "image/png": "[encoded data removed]"
          },
          "metadata": {}
        },
        {
          "output_type": "stream",
          "name": "stdout",
          "text": [
            "\n",
            "\n"
          ]
        },
        {
          "output_type": "display_data",
          "data": {
            "text/plain": [
              "<Figure size 640x480 with 1 Axes>"
            ],
            "image/png": "[encoded data removed]"
          },
          "metadata": {}
        },
        {
          "output_type": "stream",
          "name": "stdout",
          "text": [
            "\n",
            "\n",
            "              precision    recall  f1-score   support\n",
            "\n",
            "    Goodware       1.00      0.99      0.99       695\n",
            "     Malware       0.99      1.00      1.00       731\n",
            "\n",
            "    accuracy                           1.00      1426\n",
            "   macro avg       1.00      1.00      1.00      1426\n",
            "weighted avg       1.00      1.00      1.00      1426\n",
            "\n"
          ]
        }
      ]
    },
    {
      "cell_type": "markdown",
      "source": [
        "### Измерение производительности"
      ],
      "metadata": {
        "id": "YKovT_7OROEc"
      },
      "id": "YKovT_7OROEc"
    },
    {
      "cell_type": "code",
      "source": [
        "import time\n",
        "import os\n",
        "\n",
        "def measure_performance(model, features_test):\n",
        "    start_time = time.time()\n",
        "    predictions = model.predict(features_test[:1])  # Измеряем только на одном объекте\n",
        "    end_time = time.time()\n",
        "    average_prediction_time = round((end_time - start_time) * 1000, 1)  # в миллисекундах\n",
        "    print(f\"Среднее время предсказания на одном объекте: {average_prediction_time:.1f} мс\")\n",
        "    return average_prediction_time\n",
        "\n",
        "def measure_model_size(model, model_name):\n",
        "    model_size_mb = round(os.path.getsize(f'{model_name}_model.joblib') / (1024 * 1024), 2)  # в мегабайтах\n",
        "    print(f\"Размер модели на диске: {model_size_mb:.2f} МБ\")\n",
        "    return model_size_mb"
      ],
      "metadata": {
        "id": "kBkHWaHRRScU"
      },
      "id": "kBkHWaHRRScU",
      "execution_count": 62,
      "outputs": []
    },
    {
      "cell_type": "code",
      "source": [
        "results_perfomance = {}  # Создание пустого словаря для хранения результатов\n",
        "\n",
        "for model in models_list:\n",
        "    print(\"Модель:\", model[2])\n",
        "    model_name = model[2].replace(\" \", \"_\").lower()\n",
        "    pretrained_model = joblib.load(f'{model_name}_model.joblib')\n",
        "\n",
        "    # Измерение производительности\n",
        "    performance_time = measure_performance(pretrained_model, X_test)\n",
        "\n",
        "    # Измерение размера модели\n",
        "    model_size = measure_model_size(pretrained_model, model_name)\n",
        "    print(\"\\n\")\n",
        "\n",
        "    # Сохранение результатов в словаре\n",
        "    results_perfomance[model[2]] = {'performance_time': performance_time, 'model_size': model_size}"
      ],
      "metadata": {
        "id": "inPNZW4ZRi5h",
        "colab": {
          "base_uri": "https://localhost:8080/"
        },
        "outputId": "e5dfa74f-6990-4618-c9be-fb3aa813f358"
      },
      "id": "inPNZW4ZRi5h",
      "execution_count": 63,
      "outputs": [
        {
          "output_type": "stream",
          "name": "stdout",
          "text": [
            "Модель: Logistic regression\n",
            "Среднее время предсказания на одном объекте: 4.5 мс\n",
            "Размер модели на диске: 0.01 МБ\n",
            "\n",
            "\n",
            "Модель: Random Forest\n",
            "Среднее время предсказания на одном объекте: 5.1 мс\n",
            "Размер модели на диске: 0.89 МБ\n",
            "\n",
            "\n",
            "Модель: CatBoost\n",
            "Среднее время предсказания на одном объекте: 14.1 мс\n",
            "Размер модели на диске: 3.93 МБ\n",
            "\n",
            "\n",
            "Модель: Adaboost\n",
            "Среднее время предсказания на одном объекте: 12.9 мс\n",
            "Размер модели на диске: 0.04 МБ\n",
            "\n",
            "\n",
            "Модель: Gaussian Process\n",
            "Среднее время предсказания на одном объекте: 10.3 мс\n",
            "Размер модели на диске: 258.90 МБ\n",
            "\n",
            "\n",
            "Модель: MLP Classifier\n",
            "Среднее время предсказания на одном объекте: 2.8 мс\n",
            "Размер модели на диске: 0.57 МБ\n",
            "\n",
            "\n"
          ]
        }
      ]
    },
    {
      "cell_type": "markdown",
      "id": "1-QcUlqrNh_u",
      "metadata": {
        "id": "1-QcUlqrNh_u"
      },
      "source": [
        "## Результаты обучения моделей и выводы"
      ]
    },
    {
      "cell_type": "markdown",
      "id": "cat0bDTCQ09L",
      "metadata": {
        "id": "cat0bDTCQ09L"
      },
      "source": [
        "В исследовании был проведен EDA с предобработкой данных, входе которого были удалены пропуски, а выборки сбалансированы.    \n",
        "\n",
        "В качестве основных метрик оценки качества моделей машинного обучения были выбраны F1-мера и ROC-AUC. Кроме того была замерена производительность моделей и их размер.\n",
        "\n",
        "При тестировании на отложенной выборке лучшие показатели по метрикам показала модель Random Forest. С точки зрения времени инференса и \"легковесности\" модели самыми быстрыми и легкими оказались модель логистической регрессии и MLP Classifier (Многослойный перцептронный классификатор).        \n",
        "\n",
        "Таким образом, все представленные ML-модели справились со своей задачей и могут быть использованы для обнаружения зловредного программного обеспечения на устройствах Android.    \n",
        "Однако, по полученным метрикам качества и производительности для использования в конечном сервисе выбраны модели:    \n",
        "1) Random Forest: как самая точная модель;    \n",
        "2) MLP Classifier: как самая сбалансированная по точности и скорости работы модель;    \n",
        "3) Logistic regression: как менеее точная, но достаточно быстрая и \"дешевая\" для конечного пользователя."
      ]
    },
    {
      "cell_type": "code",
      "source": [
        "df_results = pd.DataFrame.from_dict(results_metrics, orient='index')\n",
        "df_perfomance = pd.DataFrame.from_dict(results_perfomance, orient='index')\n",
        "df_baseline = pd.DataFrame.from_dict({'Baseline': {'f1': f1_RM, 'roc_auc': roc_auc_RM, 'performance_time': \"-\" , 'model_size': \"-\"}}, orient='index')\n",
        "\n",
        "# Объединение трех DataFrame\n",
        "final_df = pd.concat([df_results, df_perfomance], axis=1)\n",
        "final_df = pd.concat([final_df, df_baseline], axis=0)\n",
        "final_df.sort_values(by=[\"f1\", \"roc_auc\"], ascending=False, inplace=True)\n",
        "\n",
        "# Вывод результирующего DataFrame\n",
        "print(final_df)"
      ],
      "metadata": {
        "id": "jbv3wV7jLAw-",
        "colab": {
          "base_uri": "https://localhost:8080/"
        },
        "outputId": "ad2c6658-75ff-413c-b1bb-a78217cfaa48"
      },
      "id": "jbv3wV7jLAw-",
      "execution_count": 64,
      "outputs": [
        {
          "output_type": "stream",
          "name": "stdout",
          "text": [
            "                        f1  roc_auc performance_time model_size\n",
            "Random Forest        0.997    1.000              5.1       0.89\n",
            "CatBoost             0.995    1.000             14.1       3.93\n",
            "MLP Classifier       0.995    0.999              2.8       0.57\n",
            "Gaussian Process     0.995    0.996             10.3      258.9\n",
            "Logistic regression  0.988    0.999              4.5       0.01\n",
            "Adaboost             0.985    0.998             12.9       0.04\n",
            "Baseline             0.501    0.497                -          -\n"
          ]
        }
      ]
    },
    {
      "cell_type": "code",
      "source": [],
      "metadata": {
        "id": "jNpMtKqlTXsL"
      },
      "id": "jNpMtKqlTXsL",
      "execution_count": null,
      "outputs": []
    }
  ],
  "metadata": {
    "colab": {
      "provenance": [],
      "gpuType": "V100"
    },
    "kernelspec": {
      "display_name": "Python 3",
      "name": "python3"
    },
    "language_info": {
      "codemirror_mode": {
        "name": "ipython",
        "version": 3
      },
      "file_extension": ".py",
      "mimetype": "text/x-python",
      "name": "python",
      "nbconvert_exporter": "python",
      "pygments_lexer": "ipython3",
      "version": "3.11.4"
    },
    "toc": {
      "base_numbering": 1,
      "nav_menu": {},
      "number_sections": true,
      "sideBar": true,
      "skip_h1_title": true,
      "title_cell": "Содержание",
      "title_sidebar": "Содержание",
      "toc_cell": true,
      "toc_position": {
        "height": "calc(100% - 180px)",
        "left": "10px",
        "top": "150px",
        "width": "220.994px"
      },
      "toc_section_display": true,
      "toc_window_display": true
    },
    "accelerator": "GPU"
  },
  "nbformat": 4,
  "nbformat_minor": 5
}