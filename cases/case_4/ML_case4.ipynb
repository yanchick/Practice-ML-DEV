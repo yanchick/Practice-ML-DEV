{
  "nbformat": 4,
  "nbformat_minor": 0,
  "metadata": {
    "colab": {
      "private_outputs": true,
      "provenance": [],
      "include_colab_link": true
    },
    "kernelspec": {
      "name": "python3",
      "display_name": "Python 3"
    },
    "language_info": {
      "name": "python"
    }
  },
  "cells": [
    {
      "cell_type": "markdown",
      "metadata": {
        "id": "view-in-github",
        "colab_type": "text"
      },
      "source": [
        "<a href=\"https://colab.research.google.com/github/alexmackfi/Practice-ML-DEV/blob/master/cases/case_4/ML_case4.ipynb\" target=\"_parent\"><img src=\"https://colab.research.google.com/assets/colab-badge.svg\" alt=\"Open In Colab\"/></a>"
      ]
    },
    {
      "cell_type": "code",
      "execution_count": null,
      "metadata": {
        "id": "_wNebI70Wjek"
      },
      "outputs": [],
      "source": [
        "import warnings\n",
        "import random\n",
        "\n",
        "import pandas as pd\n",
        "import matplotlib.pyplot as plt\n",
        "import seaborn as sns\n",
        "\n",
        "from sklearn.model_selection import train_test_split\n",
        "from sklearn.metrics import classification_report\n",
        "from sklearn.tree import DecisionTreeClassifier\n",
        "from sklearn.datasets import make_classification\n",
        "from sklearn.ensemble import RandomForestClassifier\n",
        "from sklearn.ensemble import GradientBoostingClassifier\n",
        "from sklearn.metrics import accuracy_score\n",
        "from sklearn.metrics import confusion_matrix, classification_report"
      ]
    },
    {
      "cell_type": "code",
      "source": [
        "warnings.filterwarnings('ignore')\n",
        "SEED = 97\n",
        "random.seed(SEED)"
      ],
      "metadata": {
        "id": "43yR3FoEhcjn"
      },
      "execution_count": null,
      "outputs": []
    },
    {
      "cell_type": "markdown",
      "source": [
        "RIDAGEYR - возраст\n",
        "\n",
        "RIAGENDR - гендер\n",
        "\n",
        "PAQ605 - Активная трудовая деятельность\n",
        "\n",
        "BMXBMI - индекс массы тела\n",
        "\n",
        "SEQN - порядковый номер респондента\n",
        "\n",
        "LBXGLT - Two Hour Glucose (двухчасовой уровень глюкозы)\n",
        "\n",
        "LBXGLU - Fasting Glucose (уровень глюкозы натощак)\n",
        "\n",
        "LBXIN - инсулин\n",
        "\n",
        "DIQ010 - врач сказал, что у вас диабет"
      ],
      "metadata": {
        "id": "F5Pn7t96b3kB"
      }
    },
    {
      "cell_type": "code",
      "source": [
        "data = pd.read_csv('/content/NHANES_age_prediction.csv')\n",
        "data.head()"
      ],
      "metadata": {
        "id": "91JFSGlTW4m-"
      },
      "execution_count": null,
      "outputs": []
    },
    {
      "cell_type": "code",
      "source": [
        "data.describe()"
      ],
      "metadata": {
        "id": "M_z5DQV9Yefz"
      },
      "execution_count": null,
      "outputs": []
    },
    {
      "cell_type": "code",
      "source": [
        "df = data\n",
        "df['age_group'] = df['age_group'].replace({'Adult': 0, 'Senior': 1})\n",
        "df"
      ],
      "metadata": {
        "id": "ZAFR_pkiakJm"
      },
      "execution_count": null,
      "outputs": []
    },
    {
      "cell_type": "code",
      "source": [
        "df['age_group'].value_counts()"
      ],
      "metadata": {
        "id": "B7NXAYlFbkbe"
      },
      "execution_count": null,
      "outputs": []
    },
    {
      "cell_type": "code",
      "source": [
        "df['RIAGENDR'].value_counts()"
      ],
      "metadata": {
        "id": "6FPFdXFyfdOC"
      },
      "execution_count": null,
      "outputs": []
    },
    {
      "cell_type": "code",
      "source": [
        "df['DIQ010'].value_counts()"
      ],
      "metadata": {
        "id": "g23TZ2wAfo0R"
      },
      "execution_count": null,
      "outputs": []
    },
    {
      "cell_type": "code",
      "source": [
        "X_train, X_test, y_train, y_test = train_test_split(df.drop(columns=['SEQN', 'age_group','RIDAGEYR']), df['age_group'], random_state=SEED)"
      ],
      "metadata": {
        "id": "1MaPXJPbdSs0"
      },
      "execution_count": null,
      "outputs": []
    },
    {
      "cell_type": "code",
      "source": [
        "X_train.head()"
      ],
      "metadata": {
        "id": "XsJiPYuYhx4P"
      },
      "execution_count": null,
      "outputs": []
    },
    {
      "cell_type": "code",
      "source": [
        "tree = DecisionTreeClassifier(random_state=SEED, criterion='gini',max_depth=10,class_weight='balanced')\n",
        "clf = GradientBoostingClassifier(loss='exponential',n_estimators=100, learning_rate=1.0,\n",
        "     max_depth=1, random_state=0)\n",
        "rfc = RandomForestClassifier(random_state=SEED,criterion='gini',max_depth=10,class_weight='balanced')"
      ],
      "metadata": {
        "id": "WEanrfCh5Sx5"
      },
      "execution_count": null,
      "outputs": []
    },
    {
      "cell_type": "code",
      "source": [
        "tree.fit(X_train, y_train)\n",
        "clf.fit(X_train, y_train)\n",
        "rfc.fit(X_train, y_train)"
      ],
      "metadata": {
        "id": "naL-Hvwn0HMk"
      },
      "execution_count": null,
      "outputs": []
    },
    {
      "cell_type": "code",
      "source": [
        "tree_pred = tree.predict(X_test)\n",
        "clf_pred = clf.predict(X_test)\n",
        "rfc_pred = rfc.predict(X_test)"
      ],
      "metadata": {
        "id": "F6Y-zJ4G0Y6b"
      },
      "execution_count": null,
      "outputs": []
    },
    {
      "cell_type": "code",
      "source": [
        "print('Tree accuracy score: {0:0.4f}'. format(accuracy_score(y_test, tree_pred)))\n",
        "print('Boosting accuracy score: {0:0.4f}'. format(accuracy_score(y_test, clf_pred)))\n",
        "print('Forest accuracy score: {0:0.4f}'. format(accuracy_score(y_test, rfc_pred)))"
      ],
      "metadata": {
        "id": "qUZ1Q8Rw0fY8"
      },
      "execution_count": null,
      "outputs": []
    },
    {
      "cell_type": "code",
      "source": [
        "print('Tree metrics:','\\n','-----------------------------------------------------')\n",
        "print(classification_report(y_test, tree_pred))\n",
        "print('Boosting metrics:','\\n','-----------------------------------------------------')\n",
        "print(classification_report(y_test, rfc_pred))\n",
        "print('Forest metrics:','\\n','-----------------------------------------------------')\n",
        "print(classification_report(y_test, clf_pred))"
      ],
      "metadata": {
        "id": "rWV9D8Bl4Q63"
      },
      "execution_count": null,
      "outputs": []
    },
    {
      "cell_type": "code",
      "source": [
        "tree_mat = confusion_matrix(y_test,tree_pred)\n",
        "sns.heatmap(tree_mat.T, square=True, annot=True, fmt=\"d\", xticklabels=['Adult', 'Senior'],\n",
        "                                      yticklabels=['Adult', 'Senior'])\n",
        "plt.xlabel(\"true labels\")\n",
        "plt.ylabel(\"predicted label\")\n",
        "plt.show()"
      ],
      "metadata": {
        "id": "bdB9ln_J2XZG"
      },
      "execution_count": null,
      "outputs": []
    },
    {
      "cell_type": "code",
      "source": [
        "clf_mat = confusion_matrix(y_test,clf_pred)\n",
        "sns.heatmap(clf_mat.T, square=True, annot=True, fmt=\"d\", xticklabels=['Adult', 'Senior'],\n",
        "                                      yticklabels=['Adult', 'Senior'])\n",
        "plt.xlabel(\"true labels\")\n",
        "plt.ylabel(\"predicted label\")\n",
        "plt.show()"
      ],
      "metadata": {
        "id": "-g0nKgrKLgyV"
      },
      "execution_count": null,
      "outputs": []
    },
    {
      "cell_type": "code",
      "source": [
        "rfc_mat = confusion_matrix(y_test,rfc_pred)\n",
        "sns.heatmap(rfc_mat.T, square=True, annot=True, fmt=\"d\", xticklabels=['Adult', 'Senior'],\n",
        "                                      yticklabels=['Adult', 'Senior'])\n",
        "plt.xlabel(\"true labels\")\n",
        "plt.ylabel(\"predicted label\")\n",
        "plt.show()"
      ],
      "metadata": {
        "id": "rVZSpeEXAC2l"
      },
      "execution_count": null,
      "outputs": []
    }
  ]
}