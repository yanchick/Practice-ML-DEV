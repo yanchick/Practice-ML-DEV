{
 "cells": [
  {
   "cell_type": "markdown",
   "id": "b99938f6-2c8b-4489-8bbc-ad2dae0dd4e2",
   "metadata": {},
   "source": [
    "# Импорт библиотек"
   ]
  },
  {
   "cell_type": "code",
   "execution_count": 1,
   "id": "39bede8b-f5a6-4edf-8c21-11b20d0c233f",
   "metadata": {},
   "outputs": [],
   "source": [
    "import os\n",
    "import joblib\n",
    "\n",
    "import pandas as pd\n",
    "import numpy as np\n",
    "from sklearn.model_selection import train_test_split\n",
    "from sklearn.linear_model import LogisticRegression\n",
    "from sklearn.ensemble import RandomForestClassifier, GradientBoostingClassifier\n",
    "from sklearn.metrics import classification_report, roc_auc_score\n",
    "from scipy.stats import pointbiserialr\n",
    "from lightgbm import LGBMClassifier"
   ]
  },
  {
   "cell_type": "code",
   "execution_count": 2,
   "id": "dc108b8a-f6ba-4333-8d3a-6bcc7065994b",
   "metadata": {},
   "outputs": [],
   "source": [
    "RANDOM_STATE = 42"
   ]
  },
  {
   "cell_type": "markdown",
   "id": "86ff15a4-59c5-4463-b9a9-ff1228a19bd1",
   "metadata": {},
   "source": [
    "# Загрузка данных"
   ]
  },
  {
   "cell_type": "code",
   "execution_count": 3,
   "id": "40425d1e-5c3c-4415-bf2a-011b3e23a938",
   "metadata": {},
   "outputs": [],
   "source": [
    "data_path = os.path.join(os.pardir, \"data\", \"TUANDROMD.csv\") "
   ]
  },
  {
   "cell_type": "code",
   "execution_count": 4,
   "id": "2f16d9d8-aacd-4f18-9576-04b4298df602",
   "metadata": {},
   "outputs": [],
   "source": [
    "data = pd.read_csv(data_path)"
   ]
  },
  {
   "cell_type": "markdown",
   "id": "4b634af0-191b-4a4b-80d4-313808a8219c",
   "metadata": {},
   "source": [
    "# EDA"
   ]
  },
  {
   "cell_type": "code",
   "execution_count": 5,
   "id": "fa8eeed7-fc5a-4679-ae71-7e1bd0f4cd3d",
   "metadata": {},
   "outputs": [
    {
     "data": {
      "text/html": [
       "<div>\n",
       "<style scoped>\n",
       "    .dataframe tbody tr th:only-of-type {\n",
       "        vertical-align: middle;\n",
       "    }\n",
       "\n",
       "    .dataframe tbody tr th {\n",
       "        vertical-align: top;\n",
       "    }\n",
       "\n",
       "    .dataframe thead th {\n",
       "        text-align: right;\n",
       "    }\n",
       "</style>\n",
       "<table border=\"1\" class=\"dataframe\">\n",
       "  <thead>\n",
       "    <tr style=\"text-align: right;\">\n",
       "      <th></th>\n",
       "      <th>ACCESS_ALL_DOWNLOADS</th>\n",
       "      <th>ACCESS_CACHE_FILESYSTEM</th>\n",
       "      <th>ACCESS_CHECKIN_PROPERTIES</th>\n",
       "      <th>ACCESS_COARSE_LOCATION</th>\n",
       "      <th>ACCESS_COARSE_UPDATES</th>\n",
       "      <th>ACCESS_FINE_LOCATION</th>\n",
       "      <th>ACCESS_LOCATION_EXTRA_COMMANDS</th>\n",
       "      <th>ACCESS_MOCK_LOCATION</th>\n",
       "      <th>ACCESS_MTK_MMHW</th>\n",
       "      <th>ACCESS_NETWORK_STATE</th>\n",
       "      <th>...</th>\n",
       "      <th>Landroid/telephony/TelephonyManager;-&gt;getLine1Number</th>\n",
       "      <th>Landroid/telephony/TelephonyManager;-&gt;getNetworkOperator</th>\n",
       "      <th>Landroid/telephony/TelephonyManager;-&gt;getNetworkOperatorName</th>\n",
       "      <th>Landroid/telephony/TelephonyManager;-&gt;getNetworkCountryIso</th>\n",
       "      <th>Landroid/telephony/TelephonyManager;-&gt;getSimOperator</th>\n",
       "      <th>Landroid/telephony/TelephonyManager;-&gt;getSimOperatorName</th>\n",
       "      <th>Landroid/telephony/TelephonyManager;-&gt;getSimCountryIso</th>\n",
       "      <th>Landroid/telephony/TelephonyManager;-&gt;getSimSerialNumber</th>\n",
       "      <th>Lorg/apache/http/impl/client/DefaultHttpClient;-&gt;execute</th>\n",
       "      <th>Label</th>\n",
       "    </tr>\n",
       "  </thead>\n",
       "  <tbody>\n",
       "    <tr>\n",
       "      <th>0</th>\n",
       "      <td>0.0</td>\n",
       "      <td>0.0</td>\n",
       "      <td>0.0</td>\n",
       "      <td>0.0</td>\n",
       "      <td>0.0</td>\n",
       "      <td>0.0</td>\n",
       "      <td>0.0</td>\n",
       "      <td>0.0</td>\n",
       "      <td>0.0</td>\n",
       "      <td>1.0</td>\n",
       "      <td>...</td>\n",
       "      <td>1.0</td>\n",
       "      <td>1.0</td>\n",
       "      <td>1.0</td>\n",
       "      <td>0.0</td>\n",
       "      <td>0.0</td>\n",
       "      <td>0.0</td>\n",
       "      <td>0.0</td>\n",
       "      <td>0.0</td>\n",
       "      <td>1.0</td>\n",
       "      <td>1.0</td>\n",
       "    </tr>\n",
       "    <tr>\n",
       "      <th>1</th>\n",
       "      <td>0.0</td>\n",
       "      <td>0.0</td>\n",
       "      <td>0.0</td>\n",
       "      <td>0.0</td>\n",
       "      <td>0.0</td>\n",
       "      <td>0.0</td>\n",
       "      <td>0.0</td>\n",
       "      <td>0.0</td>\n",
       "      <td>0.0</td>\n",
       "      <td>1.0</td>\n",
       "      <td>...</td>\n",
       "      <td>0.0</td>\n",
       "      <td>0.0</td>\n",
       "      <td>0.0</td>\n",
       "      <td>1.0</td>\n",
       "      <td>0.0</td>\n",
       "      <td>0.0</td>\n",
       "      <td>1.0</td>\n",
       "      <td>0.0</td>\n",
       "      <td>0.0</td>\n",
       "      <td>1.0</td>\n",
       "    </tr>\n",
       "    <tr>\n",
       "      <th>2</th>\n",
       "      <td>0.0</td>\n",
       "      <td>0.0</td>\n",
       "      <td>0.0</td>\n",
       "      <td>0.0</td>\n",
       "      <td>0.0</td>\n",
       "      <td>0.0</td>\n",
       "      <td>0.0</td>\n",
       "      <td>0.0</td>\n",
       "      <td>0.0</td>\n",
       "      <td>1.0</td>\n",
       "      <td>...</td>\n",
       "      <td>0.0</td>\n",
       "      <td>0.0</td>\n",
       "      <td>0.0</td>\n",
       "      <td>0.0</td>\n",
       "      <td>0.0</td>\n",
       "      <td>0.0</td>\n",
       "      <td>0.0</td>\n",
       "      <td>0.0</td>\n",
       "      <td>0.0</td>\n",
       "      <td>1.0</td>\n",
       "    </tr>\n",
       "    <tr>\n",
       "      <th>3</th>\n",
       "      <td>0.0</td>\n",
       "      <td>0.0</td>\n",
       "      <td>0.0</td>\n",
       "      <td>0.0</td>\n",
       "      <td>0.0</td>\n",
       "      <td>0.0</td>\n",
       "      <td>0.0</td>\n",
       "      <td>0.0</td>\n",
       "      <td>0.0</td>\n",
       "      <td>0.0</td>\n",
       "      <td>...</td>\n",
       "      <td>0.0</td>\n",
       "      <td>1.0</td>\n",
       "      <td>1.0</td>\n",
       "      <td>1.0</td>\n",
       "      <td>1.0</td>\n",
       "      <td>0.0</td>\n",
       "      <td>1.0</td>\n",
       "      <td>0.0</td>\n",
       "      <td>0.0</td>\n",
       "      <td>1.0</td>\n",
       "    </tr>\n",
       "    <tr>\n",
       "      <th>4</th>\n",
       "      <td>0.0</td>\n",
       "      <td>0.0</td>\n",
       "      <td>0.0</td>\n",
       "      <td>0.0</td>\n",
       "      <td>0.0</td>\n",
       "      <td>0.0</td>\n",
       "      <td>0.0</td>\n",
       "      <td>0.0</td>\n",
       "      <td>0.0</td>\n",
       "      <td>0.0</td>\n",
       "      <td>...</td>\n",
       "      <td>0.0</td>\n",
       "      <td>0.0</td>\n",
       "      <td>0.0</td>\n",
       "      <td>0.0</td>\n",
       "      <td>0.0</td>\n",
       "      <td>0.0</td>\n",
       "      <td>0.0</td>\n",
       "      <td>0.0</td>\n",
       "      <td>0.0</td>\n",
       "      <td>1.0</td>\n",
       "    </tr>\n",
       "  </tbody>\n",
       "</table>\n",
       "<p>5 rows × 242 columns</p>\n",
       "</div>"
      ],
      "text/plain": [
       "   ACCESS_ALL_DOWNLOADS  ACCESS_CACHE_FILESYSTEM  ACCESS_CHECKIN_PROPERTIES  \\\n",
       "0                   0.0                      0.0                        0.0   \n",
       "1                   0.0                      0.0                        0.0   \n",
       "2                   0.0                      0.0                        0.0   \n",
       "3                   0.0                      0.0                        0.0   \n",
       "4                   0.0                      0.0                        0.0   \n",
       "\n",
       "   ACCESS_COARSE_LOCATION  ACCESS_COARSE_UPDATES  ACCESS_FINE_LOCATION  \\\n",
       "0                     0.0                    0.0                   0.0   \n",
       "1                     0.0                    0.0                   0.0   \n",
       "2                     0.0                    0.0                   0.0   \n",
       "3                     0.0                    0.0                   0.0   \n",
       "4                     0.0                    0.0                   0.0   \n",
       "\n",
       "   ACCESS_LOCATION_EXTRA_COMMANDS  ACCESS_MOCK_LOCATION  ACCESS_MTK_MMHW  \\\n",
       "0                             0.0                   0.0              0.0   \n",
       "1                             0.0                   0.0              0.0   \n",
       "2                             0.0                   0.0              0.0   \n",
       "3                             0.0                   0.0              0.0   \n",
       "4                             0.0                   0.0              0.0   \n",
       "\n",
       "   ACCESS_NETWORK_STATE  ...  \\\n",
       "0                   1.0  ...   \n",
       "1                   1.0  ...   \n",
       "2                   1.0  ...   \n",
       "3                   0.0  ...   \n",
       "4                   0.0  ...   \n",
       "\n",
       "   Landroid/telephony/TelephonyManager;->getLine1Number  \\\n",
       "0                                                1.0      \n",
       "1                                                0.0      \n",
       "2                                                0.0      \n",
       "3                                                0.0      \n",
       "4                                                0.0      \n",
       "\n",
       "   Landroid/telephony/TelephonyManager;->getNetworkOperator  \\\n",
       "0                                                1.0          \n",
       "1                                                0.0          \n",
       "2                                                0.0          \n",
       "3                                                1.0          \n",
       "4                                                0.0          \n",
       "\n",
       "   Landroid/telephony/TelephonyManager;->getNetworkOperatorName  \\\n",
       "0                                                1.0              \n",
       "1                                                0.0              \n",
       "2                                                0.0              \n",
       "3                                                1.0              \n",
       "4                                                0.0              \n",
       "\n",
       "   Landroid/telephony/TelephonyManager;->getNetworkCountryIso  \\\n",
       "0                                                0.0            \n",
       "1                                                1.0            \n",
       "2                                                0.0            \n",
       "3                                                1.0            \n",
       "4                                                0.0            \n",
       "\n",
       "   Landroid/telephony/TelephonyManager;->getSimOperator  \\\n",
       "0                                                0.0      \n",
       "1                                                0.0      \n",
       "2                                                0.0      \n",
       "3                                                1.0      \n",
       "4                                                0.0      \n",
       "\n",
       "   Landroid/telephony/TelephonyManager;->getSimOperatorName  \\\n",
       "0                                                0.0          \n",
       "1                                                0.0          \n",
       "2                                                0.0          \n",
       "3                                                0.0          \n",
       "4                                                0.0          \n",
       "\n",
       "   Landroid/telephony/TelephonyManager;->getSimCountryIso  \\\n",
       "0                                                0.0        \n",
       "1                                                1.0        \n",
       "2                                                0.0        \n",
       "3                                                1.0        \n",
       "4                                                0.0        \n",
       "\n",
       "   Landroid/telephony/TelephonyManager;->getSimSerialNumber  \\\n",
       "0                                                0.0          \n",
       "1                                                0.0          \n",
       "2                                                0.0          \n",
       "3                                                0.0          \n",
       "4                                                0.0          \n",
       "\n",
       "   Lorg/apache/http/impl/client/DefaultHttpClient;->execute  Label  \n",
       "0                                                1.0           1.0  \n",
       "1                                                0.0           1.0  \n",
       "2                                                0.0           1.0  \n",
       "3                                                0.0           1.0  \n",
       "4                                                0.0           1.0  \n",
       "\n",
       "[5 rows x 242 columns]"
      ]
     },
     "execution_count": 5,
     "metadata": {},
     "output_type": "execute_result"
    }
   ],
   "source": [
    "data.head()"
   ]
  },
  {
   "cell_type": "code",
   "execution_count": 6,
   "id": "867cf331-3f53-4fae-b88f-82d15e001356",
   "metadata": {},
   "outputs": [
    {
     "name": "stdout",
     "output_type": "stream",
     "text": [
      "<class 'pandas.core.frame.DataFrame'>\n",
      "RangeIndex: 4465 entries, 0 to 4464\n",
      "Columns: 242 entries, ACCESS_ALL_DOWNLOADS to Label\n",
      "dtypes: float64(242)\n",
      "memory usage: 8.2 MB\n"
     ]
    }
   ],
   "source": [
    "data.info()"
   ]
  },
  {
   "cell_type": "markdown",
   "id": "9b3ae21a-0442-4486-bb83-1f097bf1f3c2",
   "metadata": {},
   "source": [
    "В датасете 242 бинарные колонки"
   ]
  },
  {
   "cell_type": "code",
   "execution_count": 7,
   "id": "f5a213fd-c299-4882-b913-c7aa88c27acb",
   "metadata": {},
   "outputs": [
    {
     "data": {
      "text/html": [
       "<div>\n",
       "<style scoped>\n",
       "    .dataframe tbody tr th:only-of-type {\n",
       "        vertical-align: middle;\n",
       "    }\n",
       "\n",
       "    .dataframe tbody tr th {\n",
       "        vertical-align: top;\n",
       "    }\n",
       "\n",
       "    .dataframe thead th {\n",
       "        text-align: right;\n",
       "    }\n",
       "</style>\n",
       "<table border=\"1\" class=\"dataframe\">\n",
       "  <thead>\n",
       "    <tr style=\"text-align: right;\">\n",
       "      <th></th>\n",
       "      <th>ACCESS_ALL_DOWNLOADS</th>\n",
       "      <th>ACCESS_CACHE_FILESYSTEM</th>\n",
       "      <th>ACCESS_CHECKIN_PROPERTIES</th>\n",
       "      <th>ACCESS_COARSE_LOCATION</th>\n",
       "      <th>ACCESS_COARSE_UPDATES</th>\n",
       "      <th>ACCESS_FINE_LOCATION</th>\n",
       "      <th>ACCESS_LOCATION_EXTRA_COMMANDS</th>\n",
       "      <th>ACCESS_MOCK_LOCATION</th>\n",
       "      <th>ACCESS_MTK_MMHW</th>\n",
       "      <th>ACCESS_NETWORK_STATE</th>\n",
       "      <th>...</th>\n",
       "      <th>Landroid/telephony/TelephonyManager;-&gt;getLine1Number</th>\n",
       "      <th>Landroid/telephony/TelephonyManager;-&gt;getNetworkOperator</th>\n",
       "      <th>Landroid/telephony/TelephonyManager;-&gt;getNetworkOperatorName</th>\n",
       "      <th>Landroid/telephony/TelephonyManager;-&gt;getNetworkCountryIso</th>\n",
       "      <th>Landroid/telephony/TelephonyManager;-&gt;getSimOperator</th>\n",
       "      <th>Landroid/telephony/TelephonyManager;-&gt;getSimOperatorName</th>\n",
       "      <th>Landroid/telephony/TelephonyManager;-&gt;getSimCountryIso</th>\n",
       "      <th>Landroid/telephony/TelephonyManager;-&gt;getSimSerialNumber</th>\n",
       "      <th>Lorg/apache/http/impl/client/DefaultHttpClient;-&gt;execute</th>\n",
       "      <th>Label</th>\n",
       "    </tr>\n",
       "  </thead>\n",
       "  <tbody>\n",
       "    <tr>\n",
       "      <th>2533</th>\n",
       "      <td>NaN</td>\n",
       "      <td>NaN</td>\n",
       "      <td>NaN</td>\n",
       "      <td>NaN</td>\n",
       "      <td>NaN</td>\n",
       "      <td>NaN</td>\n",
       "      <td>NaN</td>\n",
       "      <td>NaN</td>\n",
       "      <td>NaN</td>\n",
       "      <td>NaN</td>\n",
       "      <td>...</td>\n",
       "      <td>NaN</td>\n",
       "      <td>NaN</td>\n",
       "      <td>NaN</td>\n",
       "      <td>NaN</td>\n",
       "      <td>NaN</td>\n",
       "      <td>NaN</td>\n",
       "      <td>NaN</td>\n",
       "      <td>NaN</td>\n",
       "      <td>NaN</td>\n",
       "      <td>NaN</td>\n",
       "    </tr>\n",
       "  </tbody>\n",
       "</table>\n",
       "<p>1 rows × 242 columns</p>\n",
       "</div>"
      ],
      "text/plain": [
       "      ACCESS_ALL_DOWNLOADS  ACCESS_CACHE_FILESYSTEM  \\\n",
       "2533                   NaN                      NaN   \n",
       "\n",
       "      ACCESS_CHECKIN_PROPERTIES  ACCESS_COARSE_LOCATION  \\\n",
       "2533                        NaN                     NaN   \n",
       "\n",
       "      ACCESS_COARSE_UPDATES  ACCESS_FINE_LOCATION  \\\n",
       "2533                    NaN                   NaN   \n",
       "\n",
       "      ACCESS_LOCATION_EXTRA_COMMANDS  ACCESS_MOCK_LOCATION  ACCESS_MTK_MMHW  \\\n",
       "2533                             NaN                   NaN              NaN   \n",
       "\n",
       "      ACCESS_NETWORK_STATE  ...  \\\n",
       "2533                   NaN  ...   \n",
       "\n",
       "      Landroid/telephony/TelephonyManager;->getLine1Number  \\\n",
       "2533                                                NaN      \n",
       "\n",
       "      Landroid/telephony/TelephonyManager;->getNetworkOperator  \\\n",
       "2533                                                NaN          \n",
       "\n",
       "      Landroid/telephony/TelephonyManager;->getNetworkOperatorName  \\\n",
       "2533                                                NaN              \n",
       "\n",
       "      Landroid/telephony/TelephonyManager;->getNetworkCountryIso  \\\n",
       "2533                                                NaN            \n",
       "\n",
       "      Landroid/telephony/TelephonyManager;->getSimOperator  \\\n",
       "2533                                                NaN      \n",
       "\n",
       "      Landroid/telephony/TelephonyManager;->getSimOperatorName  \\\n",
       "2533                                                NaN          \n",
       "\n",
       "      Landroid/telephony/TelephonyManager;->getSimCountryIso  \\\n",
       "2533                                                NaN        \n",
       "\n",
       "      Landroid/telephony/TelephonyManager;->getSimSerialNumber  \\\n",
       "2533                                                NaN          \n",
       "\n",
       "      Lorg/apache/http/impl/client/DefaultHttpClient;->execute  Label  \n",
       "2533                                                NaN           NaN  \n",
       "\n",
       "[1 rows x 242 columns]"
      ]
     },
     "execution_count": 7,
     "metadata": {},
     "output_type": "execute_result"
    }
   ],
   "source": [
    "data[data.isnull().T.any()]"
   ]
  },
  {
   "cell_type": "markdown",
   "id": "a031788c-b2ca-41f5-a44e-2c1cf045c73a",
   "metadata": {},
   "source": [
    "1 строка с NaN - удалим её"
   ]
  },
  {
   "cell_type": "code",
   "execution_count": 8,
   "id": "3a81c25e-00d1-478d-a080-280053bee001",
   "metadata": {},
   "outputs": [],
   "source": [
    "data = data.dropna()"
   ]
  },
  {
   "cell_type": "code",
   "execution_count": 9,
   "id": "c8c0578c-5f3e-4a2a-ad87-2af209d4d15e",
   "metadata": {},
   "outputs": [
    {
     "data": {
      "text/plain": [
       "3802"
      ]
     },
     "execution_count": 9,
     "metadata": {},
     "output_type": "execute_result"
    }
   ],
   "source": [
    "data.duplicated().sum()"
   ]
  },
  {
   "cell_type": "code",
   "execution_count": 10,
   "id": "5f4d2534-212b-4fcd-af76-3e25a07527ad",
   "metadata": {},
   "outputs": [
    {
     "data": {
      "text/plain": [
       "0.0"
      ]
     },
     "execution_count": 10,
     "metadata": {},
     "output_type": "execute_result"
    }
   ],
   "source": [
    "data.describe().loc[\"max\"].min()"
   ]
  },
  {
   "cell_type": "code",
   "execution_count": 11,
   "id": "aa720c55-2159-4db7-9561-caaf2682a29a",
   "metadata": {},
   "outputs": [
    {
     "data": {
      "text/plain": [
       "1.0"
      ]
     },
     "execution_count": 11,
     "metadata": {},
     "output_type": "execute_result"
    }
   ],
   "source": [
    "data.describe().loc[\"max\"].max()"
   ]
  },
  {
   "cell_type": "markdown",
   "id": "e29adebf-0c19-4d5f-971f-417f86189728",
   "metadata": {},
   "source": [
    "Мы видим 3802 полных дубликата, однако они могут быть оправданы особенностями данных, которые состоят только из бинарных колонок"
   ]
  },
  {
   "cell_type": "markdown",
   "id": "1670a3a2-d4d2-495f-bfd4-077c938e9746",
   "metadata": {},
   "source": [
    "## Таргет"
   ]
  },
  {
   "cell_type": "code",
   "execution_count": 12,
   "id": "01432b14-64b7-4485-b211-1a8c5060bf83",
   "metadata": {},
   "outputs": [
    {
     "data": {
      "text/plain": [
       "Label\n",
       "1.0    3565\n",
       "0.0     899\n",
       "Name: count, dtype: int64"
      ]
     },
     "execution_count": 12,
     "metadata": {},
     "output_type": "execute_result"
    }
   ],
   "source": [
    "data[\"Label\"].value_counts()"
   ]
  },
  {
   "cell_type": "markdown",
   "id": "3d9b8670-a659-4bb1-b57d-c0e0fdc4a3bb",
   "metadata": {},
   "source": [
    "Видим, что присутствует дисбаланс классов, будем учиытвать это при выборе метрик и лучшей модели"
   ]
  },
  {
   "cell_type": "markdown",
   "id": "5b3ad1f1-c04c-42ef-af30-c267bce27eb7",
   "metadata": {},
   "source": [
    "### Корреляции"
   ]
  },
  {
   "cell_type": "markdown",
   "id": "03833763-bc8b-43c9-97ce-4093d7736856",
   "metadata": {},
   "source": [
    "Првоерим какие колонки коррелируют с тагетом больше всего. Учитывая, что колонки бинарные будем использовать метод"
   ]
  },
  {
   "cell_type": "code",
   "execution_count": 13,
   "id": "684f4918-b0f4-4518-8969-4dfdf57e4802",
   "metadata": {},
   "outputs": [
    {
     "name": "stderr",
     "output_type": "stream",
     "text": [
      "/home/projects/itmo/ml-services/.venv/lib/python3.10/site-packages/scipy/stats/_stats_py.py:4781: ConstantInputWarning: An input array is constant; the correlation coefficient is not defined.\n",
      "  warnings.warn(stats.ConstantInputWarning(msg))\n"
     ]
    }
   ],
   "source": [
    "data['Label'] = data['Label'].astype(int)\n",
    "\n",
    "# Рассчитываем корреляции\n",
    "correlations = {}\n",
    "for column in data.columns:\n",
    "    if column != 'Label':\n",
    "        corr, _ = pointbiserialr(data[column], data['Label'])\n",
    "        correlations[column] = corr\n",
    "\n",
    "# Преобразуем корреляции в DataFrame и сортируем по абсолютному значению\n",
    "correlation_df = pd.DataFrame.from_dict(correlations, orient='index', columns=['correlation'])\n",
    "correlation_df['abs_correlation'] = correlation_df['correlation'].abs()\n",
    "top_correlations = correlation_df.sort_values('abs_correlation', ascending=False).head(10)"
   ]
  },
  {
   "cell_type": "code",
   "execution_count": 14,
   "id": "226cdf69-1577-4a14-8e89-21558aead70e",
   "metadata": {},
   "outputs": [
    {
     "data": {
      "text/html": [
       "<div>\n",
       "<style scoped>\n",
       "    .dataframe tbody tr th:only-of-type {\n",
       "        vertical-align: middle;\n",
       "    }\n",
       "\n",
       "    .dataframe tbody tr th {\n",
       "        vertical-align: top;\n",
       "    }\n",
       "\n",
       "    .dataframe thead th {\n",
       "        text-align: right;\n",
       "    }\n",
       "</style>\n",
       "<table border=\"1\" class=\"dataframe\">\n",
       "  <thead>\n",
       "    <tr style=\"text-align: right;\">\n",
       "      <th></th>\n",
       "      <th>correlation</th>\n",
       "      <th>abs_correlation</th>\n",
       "    </tr>\n",
       "  </thead>\n",
       "  <tbody>\n",
       "    <tr>\n",
       "      <th>RECEIVE_BOOT_COMPLETED</th>\n",
       "      <td>0.760417</td>\n",
       "      <td>0.760417</td>\n",
       "    </tr>\n",
       "    <tr>\n",
       "      <th>Ljava/net/URL;-&gt;openConnection</th>\n",
       "      <td>-0.712211</td>\n",
       "      <td>0.712211</td>\n",
       "    </tr>\n",
       "    <tr>\n",
       "      <th>Landroid/location/LocationManager;-&gt;getLastK0wnLocation</th>\n",
       "      <td>-0.653875</td>\n",
       "      <td>0.653875</td>\n",
       "    </tr>\n",
       "    <tr>\n",
       "      <th>GET_TASKS</th>\n",
       "      <td>0.563214</td>\n",
       "      <td>0.563214</td>\n",
       "    </tr>\n",
       "    <tr>\n",
       "      <th>Ljava/lang/System;-&gt;load</th>\n",
       "      <td>-0.486265</td>\n",
       "      <td>0.486265</td>\n",
       "    </tr>\n",
       "    <tr>\n",
       "      <th>WAKE_LOCK</th>\n",
       "      <td>0.472105</td>\n",
       "      <td>0.472105</td>\n",
       "    </tr>\n",
       "    <tr>\n",
       "      <th>Ljava/lang/System;-&gt;loadLibrary</th>\n",
       "      <td>-0.470790</td>\n",
       "      <td>0.470790</td>\n",
       "    </tr>\n",
       "    <tr>\n",
       "      <th>Ldalvik/system/DexClassLoader;-&gt;loadClass</th>\n",
       "      <td>-0.456847</td>\n",
       "      <td>0.456847</td>\n",
       "    </tr>\n",
       "    <tr>\n",
       "      <th>KILL_BACKGROUND_PROCESSES</th>\n",
       "      <td>0.438312</td>\n",
       "      <td>0.438312</td>\n",
       "    </tr>\n",
       "    <tr>\n",
       "      <th>Landroid/telephony/TelephonyManager;-&gt;getSimOperatorName</th>\n",
       "      <td>-0.396342</td>\n",
       "      <td>0.396342</td>\n",
       "    </tr>\n",
       "  </tbody>\n",
       "</table>\n",
       "</div>"
      ],
      "text/plain": [
       "                                                    correlation  \\\n",
       "RECEIVE_BOOT_COMPLETED                                 0.760417   \n",
       "Ljava/net/URL;->openConnection                        -0.712211   \n",
       "Landroid/location/LocationManager;->getLastK0wn...    -0.653875   \n",
       "GET_TASKS                                              0.563214   \n",
       "Ljava/lang/System;->load                              -0.486265   \n",
       "WAKE_LOCK                                              0.472105   \n",
       "Ljava/lang/System;->loadLibrary                       -0.470790   \n",
       "Ldalvik/system/DexClassLoader;->loadClass             -0.456847   \n",
       "KILL_BACKGROUND_PROCESSES                              0.438312   \n",
       "Landroid/telephony/TelephonyManager;->getSimOpe...    -0.396342   \n",
       "\n",
       "                                                    abs_correlation  \n",
       "RECEIVE_BOOT_COMPLETED                                     0.760417  \n",
       "Ljava/net/URL;->openConnection                             0.712211  \n",
       "Landroid/location/LocationManager;->getLastK0wn...         0.653875  \n",
       "GET_TASKS                                                  0.563214  \n",
       "Ljava/lang/System;->load                                   0.486265  \n",
       "WAKE_LOCK                                                  0.472105  \n",
       "Ljava/lang/System;->loadLibrary                            0.470790  \n",
       "Ldalvik/system/DexClassLoader;->loadClass                  0.456847  \n",
       "KILL_BACKGROUND_PROCESSES                                  0.438312  \n",
       "Landroid/telephony/TelephonyManager;->getSimOpe...         0.396342  "
      ]
     },
     "execution_count": 14,
     "metadata": {},
     "output_type": "execute_result"
    }
   ],
   "source": [
    "top_correlations"
   ]
  },
  {
   "cell_type": "markdown",
   "id": "242c7564-cc98-4413-920d-2d6ac20dd4c4",
   "metadata": {},
   "source": [
    "# Train test split"
   ]
  },
  {
   "cell_type": "code",
   "execution_count": 15,
   "id": "82e5d176-cf3f-4e45-9bb5-1ec02f79df13",
   "metadata": {},
   "outputs": [],
   "source": [
    "test_size = 0.2"
   ]
  },
  {
   "cell_type": "code",
   "execution_count": 16,
   "id": "f9660615-643b-46c0-8c38-59e5799e625c",
   "metadata": {},
   "outputs": [],
   "source": [
    "X_train, X_test, y_train, y_test = train_test_split(\n",
    "    data.drop(columns=[\"Label\"]),\n",
    "    data[\"Label\"],\n",
    "    test_size=0.2,\n",
    "    shuffle=True,\n",
    "    random_state=RANDOM_STATE,\n",
    ")"
   ]
  },
  {
   "cell_type": "markdown",
   "id": "084e83c6-73bd-4404-82a8-02320c4819c2",
   "metadata": {},
   "source": [
    "# Modeling"
   ]
  },
  {
   "cell_type": "markdown",
   "id": "543326ea-ea9f-4926-a88c-733fb8a39233",
   "metadata": {},
   "source": [
    "Возьмем 3 различных модели:\n",
    "- Логистическая регрессия\n",
    "- Случайный лес\n",
    "- Градиентный бустинг (в реализации LightGBM)\n",
    "\n",
    "Построим их с дефолтными параметрами и посмотрим на метрики"
   ]
  },
  {
   "cell_type": "markdown",
   "id": "2ff7f0c6-7395-424e-9cac-e5a6710e4eca",
   "metadata": {},
   "source": [
    "## Logistic Regression"
   ]
  },
  {
   "cell_type": "code",
   "execution_count": 17,
   "id": "8fce1d96-f30e-4e08-8235-c3da57d1da25",
   "metadata": {},
   "outputs": [
    {
     "data": {
      "text/html": [
       "<style>#sk-container-id-1 {color: black;}#sk-container-id-1 pre{padding: 0;}#sk-container-id-1 div.sk-toggleable {background-color: white;}#sk-container-id-1 label.sk-toggleable__label {cursor: pointer;display: block;width: 100%;margin-bottom: 0;padding: 0.3em;box-sizing: border-box;text-align: center;}#sk-container-id-1 label.sk-toggleable__label-arrow:before {content: \"▸\";float: left;margin-right: 0.25em;color: #696969;}#sk-container-id-1 label.sk-toggleable__label-arrow:hover:before {color: black;}#sk-container-id-1 div.sk-estimator:hover label.sk-toggleable__label-arrow:before {color: black;}#sk-container-id-1 div.sk-toggleable__content {max-height: 0;max-width: 0;overflow: hidden;text-align: left;background-color: #f0f8ff;}#sk-container-id-1 div.sk-toggleable__content pre {margin: 0.2em;color: black;border-radius: 0.25em;background-color: #f0f8ff;}#sk-container-id-1 input.sk-toggleable__control:checked~div.sk-toggleable__content {max-height: 200px;max-width: 100%;overflow: auto;}#sk-container-id-1 input.sk-toggleable__control:checked~label.sk-toggleable__label-arrow:before {content: \"▾\";}#sk-container-id-1 div.sk-estimator input.sk-toggleable__control:checked~label.sk-toggleable__label {background-color: #d4ebff;}#sk-container-id-1 div.sk-label input.sk-toggleable__control:checked~label.sk-toggleable__label {background-color: #d4ebff;}#sk-container-id-1 input.sk-hidden--visually {border: 0;clip: rect(1px 1px 1px 1px);clip: rect(1px, 1px, 1px, 1px);height: 1px;margin: -1px;overflow: hidden;padding: 0;position: absolute;width: 1px;}#sk-container-id-1 div.sk-estimator {font-family: monospace;background-color: #f0f8ff;border: 1px dotted black;border-radius: 0.25em;box-sizing: border-box;margin-bottom: 0.5em;}#sk-container-id-1 div.sk-estimator:hover {background-color: #d4ebff;}#sk-container-id-1 div.sk-parallel-item::after {content: \"\";width: 100%;border-bottom: 1px solid gray;flex-grow: 1;}#sk-container-id-1 div.sk-label:hover label.sk-toggleable__label {background-color: #d4ebff;}#sk-container-id-1 div.sk-serial::before {content: \"\";position: absolute;border-left: 1px solid gray;box-sizing: border-box;top: 0;bottom: 0;left: 50%;z-index: 0;}#sk-container-id-1 div.sk-serial {display: flex;flex-direction: column;align-items: center;background-color: white;padding-right: 0.2em;padding-left: 0.2em;position: relative;}#sk-container-id-1 div.sk-item {position: relative;z-index: 1;}#sk-container-id-1 div.sk-parallel {display: flex;align-items: stretch;justify-content: center;background-color: white;position: relative;}#sk-container-id-1 div.sk-item::before, #sk-container-id-1 div.sk-parallel-item::before {content: \"\";position: absolute;border-left: 1px solid gray;box-sizing: border-box;top: 0;bottom: 0;left: 50%;z-index: -1;}#sk-container-id-1 div.sk-parallel-item {display: flex;flex-direction: column;z-index: 1;position: relative;background-color: white;}#sk-container-id-1 div.sk-parallel-item:first-child::after {align-self: flex-end;width: 50%;}#sk-container-id-1 div.sk-parallel-item:last-child::after {align-self: flex-start;width: 50%;}#sk-container-id-1 div.sk-parallel-item:only-child::after {width: 0;}#sk-container-id-1 div.sk-dashed-wrapped {border: 1px dashed gray;margin: 0 0.4em 0.5em 0.4em;box-sizing: border-box;padding-bottom: 0.4em;background-color: white;}#sk-container-id-1 div.sk-label label {font-family: monospace;font-weight: bold;display: inline-block;line-height: 1.2em;}#sk-container-id-1 div.sk-label-container {text-align: center;}#sk-container-id-1 div.sk-container {/* jupyter's `normalize.less` sets `[hidden] { display: none; }` but bootstrap.min.css set `[hidden] { display: none !important; }` so we also need the `!important` here to be able to override the default hidden behavior on the sphinx rendered scikit-learn.org. See: https://github.com/scikit-learn/scikit-learn/issues/21755 */display: inline-block !important;position: relative;}#sk-container-id-1 div.sk-text-repr-fallback {display: none;}</style><div id=\"sk-container-id-1\" class=\"sk-top-container\"><div class=\"sk-text-repr-fallback\"><pre>LogisticRegression(random_state=42)</pre><b>In a Jupyter environment, please rerun this cell to show the HTML representation or trust the notebook. <br />On GitHub, the HTML representation is unable to render, please try loading this page with nbviewer.org.</b></div><div class=\"sk-container\" hidden><div class=\"sk-item\"><div class=\"sk-estimator sk-toggleable\"><input class=\"sk-toggleable__control sk-hidden--visually\" id=\"sk-estimator-id-1\" type=\"checkbox\" checked><label for=\"sk-estimator-id-1\" class=\"sk-toggleable__label sk-toggleable__label-arrow\">LogisticRegression</label><div class=\"sk-toggleable__content\"><pre>LogisticRegression(random_state=42)</pre></div></div></div></div></div>"
      ],
      "text/plain": [
       "LogisticRegression(random_state=42)"
      ]
     },
     "execution_count": 17,
     "metadata": {},
     "output_type": "execute_result"
    }
   ],
   "source": [
    "log_reg = LogisticRegression(random_state=RANDOM_STATE)\n",
    "log_reg.fit(X_train, y_train)"
   ]
  },
  {
   "cell_type": "markdown",
   "id": "51e588e9-4cf0-443e-aeca-bfc3cef74815",
   "metadata": {},
   "source": [
    "## Random Forest"
   ]
  },
  {
   "cell_type": "code",
   "execution_count": 18,
   "id": "2dcc7135-1daf-4205-94d2-1f75df81aab2",
   "metadata": {},
   "outputs": [
    {
     "data": {
      "text/html": [
       "<style>#sk-container-id-2 {color: black;}#sk-container-id-2 pre{padding: 0;}#sk-container-id-2 div.sk-toggleable {background-color: white;}#sk-container-id-2 label.sk-toggleable__label {cursor: pointer;display: block;width: 100%;margin-bottom: 0;padding: 0.3em;box-sizing: border-box;text-align: center;}#sk-container-id-2 label.sk-toggleable__label-arrow:before {content: \"▸\";float: left;margin-right: 0.25em;color: #696969;}#sk-container-id-2 label.sk-toggleable__label-arrow:hover:before {color: black;}#sk-container-id-2 div.sk-estimator:hover label.sk-toggleable__label-arrow:before {color: black;}#sk-container-id-2 div.sk-toggleable__content {max-height: 0;max-width: 0;overflow: hidden;text-align: left;background-color: #f0f8ff;}#sk-container-id-2 div.sk-toggleable__content pre {margin: 0.2em;color: black;border-radius: 0.25em;background-color: #f0f8ff;}#sk-container-id-2 input.sk-toggleable__control:checked~div.sk-toggleable__content {max-height: 200px;max-width: 100%;overflow: auto;}#sk-container-id-2 input.sk-toggleable__control:checked~label.sk-toggleable__label-arrow:before {content: \"▾\";}#sk-container-id-2 div.sk-estimator input.sk-toggleable__control:checked~label.sk-toggleable__label {background-color: #d4ebff;}#sk-container-id-2 div.sk-label input.sk-toggleable__control:checked~label.sk-toggleable__label {background-color: #d4ebff;}#sk-container-id-2 input.sk-hidden--visually {border: 0;clip: rect(1px 1px 1px 1px);clip: rect(1px, 1px, 1px, 1px);height: 1px;margin: -1px;overflow: hidden;padding: 0;position: absolute;width: 1px;}#sk-container-id-2 div.sk-estimator {font-family: monospace;background-color: #f0f8ff;border: 1px dotted black;border-radius: 0.25em;box-sizing: border-box;margin-bottom: 0.5em;}#sk-container-id-2 div.sk-estimator:hover {background-color: #d4ebff;}#sk-container-id-2 div.sk-parallel-item::after {content: \"\";width: 100%;border-bottom: 1px solid gray;flex-grow: 1;}#sk-container-id-2 div.sk-label:hover label.sk-toggleable__label {background-color: #d4ebff;}#sk-container-id-2 div.sk-serial::before {content: \"\";position: absolute;border-left: 1px solid gray;box-sizing: border-box;top: 0;bottom: 0;left: 50%;z-index: 0;}#sk-container-id-2 div.sk-serial {display: flex;flex-direction: column;align-items: center;background-color: white;padding-right: 0.2em;padding-left: 0.2em;position: relative;}#sk-container-id-2 div.sk-item {position: relative;z-index: 1;}#sk-container-id-2 div.sk-parallel {display: flex;align-items: stretch;justify-content: center;background-color: white;position: relative;}#sk-container-id-2 div.sk-item::before, #sk-container-id-2 div.sk-parallel-item::before {content: \"\";position: absolute;border-left: 1px solid gray;box-sizing: border-box;top: 0;bottom: 0;left: 50%;z-index: -1;}#sk-container-id-2 div.sk-parallel-item {display: flex;flex-direction: column;z-index: 1;position: relative;background-color: white;}#sk-container-id-2 div.sk-parallel-item:first-child::after {align-self: flex-end;width: 50%;}#sk-container-id-2 div.sk-parallel-item:last-child::after {align-self: flex-start;width: 50%;}#sk-container-id-2 div.sk-parallel-item:only-child::after {width: 0;}#sk-container-id-2 div.sk-dashed-wrapped {border: 1px dashed gray;margin: 0 0.4em 0.5em 0.4em;box-sizing: border-box;padding-bottom: 0.4em;background-color: white;}#sk-container-id-2 div.sk-label label {font-family: monospace;font-weight: bold;display: inline-block;line-height: 1.2em;}#sk-container-id-2 div.sk-label-container {text-align: center;}#sk-container-id-2 div.sk-container {/* jupyter's `normalize.less` sets `[hidden] { display: none; }` but bootstrap.min.css set `[hidden] { display: none !important; }` so we also need the `!important` here to be able to override the default hidden behavior on the sphinx rendered scikit-learn.org. See: https://github.com/scikit-learn/scikit-learn/issues/21755 */display: inline-block !important;position: relative;}#sk-container-id-2 div.sk-text-repr-fallback {display: none;}</style><div id=\"sk-container-id-2\" class=\"sk-top-container\"><div class=\"sk-text-repr-fallback\"><pre>RandomForestClassifier(random_state=42)</pre><b>In a Jupyter environment, please rerun this cell to show the HTML representation or trust the notebook. <br />On GitHub, the HTML representation is unable to render, please try loading this page with nbviewer.org.</b></div><div class=\"sk-container\" hidden><div class=\"sk-item\"><div class=\"sk-estimator sk-toggleable\"><input class=\"sk-toggleable__control sk-hidden--visually\" id=\"sk-estimator-id-2\" type=\"checkbox\" checked><label for=\"sk-estimator-id-2\" class=\"sk-toggleable__label sk-toggleable__label-arrow\">RandomForestClassifier</label><div class=\"sk-toggleable__content\"><pre>RandomForestClassifier(random_state=42)</pre></div></div></div></div></div>"
      ],
      "text/plain": [
       "RandomForestClassifier(random_state=42)"
      ]
     },
     "execution_count": 18,
     "metadata": {},
     "output_type": "execute_result"
    }
   ],
   "source": [
    "rand_forest = RandomForestClassifier(random_state=RANDOM_STATE)\n",
    "rand_forest.fit(X_train, y_train)"
   ]
  },
  {
   "cell_type": "markdown",
   "id": "aa056f7a-1b3b-4a3d-bb6a-14d025df7270",
   "metadata": {},
   "source": [
    "## Gradient Boosting (LGBM)"
   ]
  },
  {
   "cell_type": "code",
   "execution_count": 19,
   "id": "6be1b598-a7b6-460e-9962-593a0e1857c6",
   "metadata": {},
   "outputs": [
    {
     "name": "stdout",
     "output_type": "stream",
     "text": [
      "[LightGBM] [Info] Number of positive: 2846, number of negative: 725\n",
      "[LightGBM] [Info] Auto-choosing row-wise multi-threading, the overhead of testing was 0.001364 seconds.\n",
      "You can set `force_row_wise=true` to remove the overhead.\n",
      "And if memory is not enough, you can set `force_col_wise=true`.\n",
      "[LightGBM] [Info] Total Bins 360\n",
      "[LightGBM] [Info] Number of data points in the train set: 3571, number of used features: 180\n",
      "[LightGBM] [Info] [binary:BoostFromScore]: pavg=0.796976 -> initscore=1.367498\n",
      "[LightGBM] [Info] Start training from score 1.367498\n",
      "[LightGBM] [Warning] No further splits with positive gain, best gain: -inf\n"
     ]
    },
    {
     "data": {
      "text/html": [
       "<style>#sk-container-id-3 {color: black;}#sk-container-id-3 pre{padding: 0;}#sk-container-id-3 div.sk-toggleable {background-color: white;}#sk-container-id-3 label.sk-toggleable__label {cursor: pointer;display: block;width: 100%;margin-bottom: 0;padding: 0.3em;box-sizing: border-box;text-align: center;}#sk-container-id-3 label.sk-toggleable__label-arrow:before {content: \"▸\";float: left;margin-right: 0.25em;color: #696969;}#sk-container-id-3 label.sk-toggleable__label-arrow:hover:before {color: black;}#sk-container-id-3 div.sk-estimator:hover label.sk-toggleable__label-arrow:before {color: black;}#sk-container-id-3 div.sk-toggleable__content {max-height: 0;max-width: 0;overflow: hidden;text-align: left;background-color: #f0f8ff;}#sk-container-id-3 div.sk-toggleable__content pre {margin: 0.2em;color: black;border-radius: 0.25em;background-color: #f0f8ff;}#sk-container-id-3 input.sk-toggleable__control:checked~div.sk-toggleable__content {max-height: 200px;max-width: 100%;overflow: auto;}#sk-container-id-3 input.sk-toggleable__control:checked~label.sk-toggleable__label-arrow:before {content: \"▾\";}#sk-container-id-3 div.sk-estimator input.sk-toggleable__control:checked~label.sk-toggleable__label {background-color: #d4ebff;}#sk-container-id-3 div.sk-label input.sk-toggleable__control:checked~label.sk-toggleable__label {background-color: #d4ebff;}#sk-container-id-3 input.sk-hidden--visually {border: 0;clip: rect(1px 1px 1px 1px);clip: rect(1px, 1px, 1px, 1px);height: 1px;margin: -1px;overflow: hidden;padding: 0;position: absolute;width: 1px;}#sk-container-id-3 div.sk-estimator {font-family: monospace;background-color: #f0f8ff;border: 1px dotted black;border-radius: 0.25em;box-sizing: border-box;margin-bottom: 0.5em;}#sk-container-id-3 div.sk-estimator:hover {background-color: #d4ebff;}#sk-container-id-3 div.sk-parallel-item::after {content: \"\";width: 100%;border-bottom: 1px solid gray;flex-grow: 1;}#sk-container-id-3 div.sk-label:hover label.sk-toggleable__label {background-color: #d4ebff;}#sk-container-id-3 div.sk-serial::before {content: \"\";position: absolute;border-left: 1px solid gray;box-sizing: border-box;top: 0;bottom: 0;left: 50%;z-index: 0;}#sk-container-id-3 div.sk-serial {display: flex;flex-direction: column;align-items: center;background-color: white;padding-right: 0.2em;padding-left: 0.2em;position: relative;}#sk-container-id-3 div.sk-item {position: relative;z-index: 1;}#sk-container-id-3 div.sk-parallel {display: flex;align-items: stretch;justify-content: center;background-color: white;position: relative;}#sk-container-id-3 div.sk-item::before, #sk-container-id-3 div.sk-parallel-item::before {content: \"\";position: absolute;border-left: 1px solid gray;box-sizing: border-box;top: 0;bottom: 0;left: 50%;z-index: -1;}#sk-container-id-3 div.sk-parallel-item {display: flex;flex-direction: column;z-index: 1;position: relative;background-color: white;}#sk-container-id-3 div.sk-parallel-item:first-child::after {align-self: flex-end;width: 50%;}#sk-container-id-3 div.sk-parallel-item:last-child::after {align-self: flex-start;width: 50%;}#sk-container-id-3 div.sk-parallel-item:only-child::after {width: 0;}#sk-container-id-3 div.sk-dashed-wrapped {border: 1px dashed gray;margin: 0 0.4em 0.5em 0.4em;box-sizing: border-box;padding-bottom: 0.4em;background-color: white;}#sk-container-id-3 div.sk-label label {font-family: monospace;font-weight: bold;display: inline-block;line-height: 1.2em;}#sk-container-id-3 div.sk-label-container {text-align: center;}#sk-container-id-3 div.sk-container {/* jupyter's `normalize.less` sets `[hidden] { display: none; }` but bootstrap.min.css set `[hidden] { display: none !important; }` so we also need the `!important` here to be able to override the default hidden behavior on the sphinx rendered scikit-learn.org. See: https://github.com/scikit-learn/scikit-learn/issues/21755 */display: inline-block !important;position: relative;}#sk-container-id-3 div.sk-text-repr-fallback {display: none;}</style><div id=\"sk-container-id-3\" class=\"sk-top-container\"><div class=\"sk-text-repr-fallback\"><pre>LGBMClassifier(random_state=42)</pre><b>In a Jupyter environment, please rerun this cell to show the HTML representation or trust the notebook. <br />On GitHub, the HTML representation is unable to render, please try loading this page with nbviewer.org.</b></div><div class=\"sk-container\" hidden><div class=\"sk-item\"><div class=\"sk-estimator sk-toggleable\"><input class=\"sk-toggleable__control sk-hidden--visually\" id=\"sk-estimator-id-3\" type=\"checkbox\" checked><label for=\"sk-estimator-id-3\" class=\"sk-toggleable__label sk-toggleable__label-arrow\">LGBMClassifier</label><div class=\"sk-toggleable__content\"><pre>LGBMClassifier(random_state=42)</pre></div></div></div></div></div>"
      ],
      "text/plain": [
       "LGBMClassifier(random_state=42)"
      ]
     },
     "execution_count": 19,
     "metadata": {},
     "output_type": "execute_result"
    }
   ],
   "source": [
    "lgbm = LGBMClassifier(random_state=RANDOM_STATE)\n",
    "lgbm.fit(X_train, y_train)"
   ]
  },
  {
   "cell_type": "markdown",
   "id": "c9e9c1c9-8ea7-4559-a16b-78212d659491",
   "metadata": {},
   "source": [
    "## Сравнение моделей"
   ]
  },
  {
   "cell_type": "code",
   "execution_count": 20,
   "id": "c6c92eb7-1d94-4deb-a2bf-c775dfd97730",
   "metadata": {},
   "outputs": [],
   "source": [
    "models = {'Logistic Regression': log_reg, 'Random Forest': rand_forest, 'LightGBM': lgbm}\n",
    "model_performance = {}\n",
    "\n",
    "for model_name, model in models.items():\n",
    "    y_pred = model.predict(X_test)\n",
    "    report = classification_report(y_test, y_pred, output_dict=True)\n",
    "    auc_score = roc_auc_score(y_test, model.predict_proba(X_test)[:, 1])\n",
    "    model_performance[model_name] = {'Accuracy': report['accuracy'], \n",
    "                                     'Precision': report['weighted avg']['precision'], \n",
    "                                     'Recall': report['weighted avg']['recall'],\n",
    "                                     'F1-Score': report['weighted avg']['f1-score'],\n",
    "                                     'AUC-ROC': auc_score}\n",
    "    \n",
    "model_performance_df = pd.DataFrame(data=model_performance.values(), index=model_performance.keys())"
   ]
  },
  {
   "cell_type": "code",
   "execution_count": 21,
   "id": "fb56a9e1-7628-49fa-a494-4fbd966636aa",
   "metadata": {},
   "outputs": [
    {
     "data": {
      "text/html": [
       "<div>\n",
       "<style scoped>\n",
       "    .dataframe tbody tr th:only-of-type {\n",
       "        vertical-align: middle;\n",
       "    }\n",
       "\n",
       "    .dataframe tbody tr th {\n",
       "        vertical-align: top;\n",
       "    }\n",
       "\n",
       "    .dataframe thead th {\n",
       "        text-align: right;\n",
       "    }\n",
       "</style>\n",
       "<table border=\"1\" class=\"dataframe\">\n",
       "  <thead>\n",
       "    <tr style=\"text-align: right;\">\n",
       "      <th></th>\n",
       "      <th>Accuracy</th>\n",
       "      <th>Precision</th>\n",
       "      <th>Recall</th>\n",
       "      <th>F1-Score</th>\n",
       "      <th>AUC-ROC</th>\n",
       "    </tr>\n",
       "  </thead>\n",
       "  <tbody>\n",
       "    <tr>\n",
       "      <th>Logistic Regression</th>\n",
       "      <td>0.984323</td>\n",
       "      <td>0.984658</td>\n",
       "      <td>0.984323</td>\n",
       "      <td>0.984423</td>\n",
       "      <td>0.999061</td>\n",
       "    </tr>\n",
       "    <tr>\n",
       "      <th>Random Forest</th>\n",
       "      <td>0.994401</td>\n",
       "      <td>0.994393</td>\n",
       "      <td>0.994401</td>\n",
       "      <td>0.994395</td>\n",
       "      <td>0.999656</td>\n",
       "    </tr>\n",
       "    <tr>\n",
       "      <th>LightGBM</th>\n",
       "      <td>0.992161</td>\n",
       "      <td>0.992145</td>\n",
       "      <td>0.992161</td>\n",
       "      <td>0.992135</td>\n",
       "      <td>0.999496</td>\n",
       "    </tr>\n",
       "  </tbody>\n",
       "</table>\n",
       "</div>"
      ],
      "text/plain": [
       "                     Accuracy  Precision    Recall  F1-Score   AUC-ROC\n",
       "Logistic Regression  0.984323   0.984658  0.984323  0.984423  0.999061\n",
       "Random Forest        0.994401   0.994393  0.994401  0.994395  0.999656\n",
       "LightGBM             0.992161   0.992145  0.992161  0.992135  0.999496"
      ]
     },
     "execution_count": 21,
     "metadata": {},
     "output_type": "execute_result"
    }
   ],
   "source": [
    "pd.DataFrame(data=model_performance.values(), index=model_performance.keys())"
   ]
  },
  {
   "cell_type": "markdown",
   "id": "56d005c4-74f3-4b90-8199-f756ae12c67e",
   "metadata": {},
   "source": [
    "Видим, что метрики всех моделей очень хорошие (несмотря на дисбаланс классов), что вызывает подозорения на дата лик. Однако, без описания данных проверить это не сможем"
   ]
  },
  {
   "cell_type": "markdown",
   "id": "bb63a024-7ec6-4e7d-8b1c-58b71018663a",
   "metadata": {},
   "source": [
    "Всё же чуть лучше метрики у модели Random Forest. Посмотрим какие признаки больше всего влияют на прогноз"
   ]
  },
  {
   "cell_type": "code",
   "execution_count": 22,
   "id": "5b60b49a-808e-46b3-ae2a-c9d7c14f80fa",
   "metadata": {},
   "outputs": [],
   "source": [
    "feature_importances = rand_forest.feature_importances_\n",
    "feature_names = rand_forest.feature_names_in_\n",
    "\n",
    "# Сопоставление важностей с названиями признаков и сортировка\n",
    "features = pd.DataFrame({'Feature': feature_names, 'Importance': feature_importances})\n",
    "top_features = features.sort_values(by='Importance', ascending=False).head(10)"
   ]
  },
  {
   "cell_type": "code",
   "execution_count": 23,
   "id": "f7af3e04-afd1-42e8-9d04-ebb9947dbd3a",
   "metadata": {},
   "outputs": [
    {
     "data": {
      "text/html": [
       "<div>\n",
       "<style scoped>\n",
       "    .dataframe tbody tr th:only-of-type {\n",
       "        vertical-align: middle;\n",
       "    }\n",
       "\n",
       "    .dataframe tbody tr th {\n",
       "        vertical-align: top;\n",
       "    }\n",
       "\n",
       "    .dataframe thead th {\n",
       "        text-align: right;\n",
       "    }\n",
       "</style>\n",
       "<table border=\"1\" class=\"dataframe\">\n",
       "  <thead>\n",
       "    <tr style=\"text-align: right;\">\n",
       "      <th></th>\n",
       "      <th>Feature</th>\n",
       "      <th>Importance</th>\n",
       "    </tr>\n",
       "  </thead>\n",
       "  <tbody>\n",
       "    <tr>\n",
       "      <th>149</th>\n",
       "      <td>RECEIVE_BOOT_COMPLETED</td>\n",
       "      <td>0.154621</td>\n",
       "    </tr>\n",
       "    <tr>\n",
       "      <th>220</th>\n",
       "      <td>Ljava/net/URL;-&gt;openConnection</td>\n",
       "      <td>0.095576</td>\n",
       "    </tr>\n",
       "    <tr>\n",
       "      <th>228</th>\n",
       "      <td>Landroid/location/LocationManager;-&gt;getLastK0w...</td>\n",
       "      <td>0.072026</td>\n",
       "    </tr>\n",
       "    <tr>\n",
       "      <th>86</th>\n",
       "      <td>GET_TASKS</td>\n",
       "      <td>0.060979</td>\n",
       "    </tr>\n",
       "    <tr>\n",
       "      <th>191</th>\n",
       "      <td>WAKE_LOCK</td>\n",
       "      <td>0.058397</td>\n",
       "    </tr>\n",
       "    <tr>\n",
       "      <th>100</th>\n",
       "      <td>KILL_BACKGROUND_PROCESSES</td>\n",
       "      <td>0.037840</td>\n",
       "    </tr>\n",
       "    <tr>\n",
       "      <th>217</th>\n",
       "      <td>Ljava/lang/System;-&gt;load</td>\n",
       "      <td>0.032456</td>\n",
       "    </tr>\n",
       "    <tr>\n",
       "      <th>138</th>\n",
       "      <td>READ_PHONE_STATE</td>\n",
       "      <td>0.029641</td>\n",
       "    </tr>\n",
       "    <tr>\n",
       "      <th>219</th>\n",
       "      <td>Ljava/lang/System;-&gt;loadLibrary</td>\n",
       "      <td>0.023947</td>\n",
       "    </tr>\n",
       "    <tr>\n",
       "      <th>218</th>\n",
       "      <td>Ldalvik/system/DexClassLoader;-&gt;loadClass</td>\n",
       "      <td>0.022712</td>\n",
       "    </tr>\n",
       "  </tbody>\n",
       "</table>\n",
       "</div>"
      ],
      "text/plain": [
       "                                               Feature  Importance\n",
       "149                             RECEIVE_BOOT_COMPLETED    0.154621\n",
       "220                     Ljava/net/URL;->openConnection    0.095576\n",
       "228  Landroid/location/LocationManager;->getLastK0w...    0.072026\n",
       "86                                           GET_TASKS    0.060979\n",
       "191                                          WAKE_LOCK    0.058397\n",
       "100                          KILL_BACKGROUND_PROCESSES    0.037840\n",
       "217                           Ljava/lang/System;->load    0.032456\n",
       "138                                   READ_PHONE_STATE    0.029641\n",
       "219                    Ljava/lang/System;->loadLibrary    0.023947\n",
       "218          Ldalvik/system/DexClassLoader;->loadClass    0.022712"
      ]
     },
     "execution_count": 23,
     "metadata": {},
     "output_type": "execute_result"
    }
   ],
   "source": [
    "top_features"
   ]
  },
  {
   "cell_type": "markdown",
   "id": "72695c88-c02d-4bc0-8f03-16991fa78307",
   "metadata": {},
   "source": [
    "Признаки похожи на те, что были в топ по корреляции. Особенно выделяется признак RECEIVE_BOOT_COMPLETED"
   ]
  },
  {
   "cell_type": "markdown",
   "id": "941c1a6e-25d0-46d2-93b9-7f7007ee19cb",
   "metadata": {},
   "source": [
    "Сохраним модели с помощью joblib"
   ]
  },
  {
   "cell_type": "code",
   "execution_count": 24,
   "id": "5911a51d-bd65-45e6-9b5b-e810ccb2d27a",
   "metadata": {},
   "outputs": [
    {
     "data": {
      "text/plain": [
       "['lgbm.joblib']"
      ]
     },
     "execution_count": 24,
     "metadata": {},
     "output_type": "execute_result"
    }
   ],
   "source": [
    "joblib.dump(log_reg, \"logreg.joblib\")\n",
    "joblib.dump(rand_forest, \"rf.joblib\")\n",
    "joblib.dump(rand_forest, \"lgbm.joblib\")"
   ]
  }
 ],
 "metadata": {
  "kernelspec": {
   "display_name": "Python 3 (ipykernel)",
   "language": "python",
   "name": "python3"
  },
  "language_info": {
   "codemirror_mode": {
    "name": "ipython",
    "version": 3
   },
   "file_extension": ".py",
   "mimetype": "text/x-python",
   "name": "python",
   "nbconvert_exporter": "python",
   "pygments_lexer": "ipython3",
   "version": "3.10.13"
  }
 },
 "nbformat": 4,
 "nbformat_minor": 5
}
