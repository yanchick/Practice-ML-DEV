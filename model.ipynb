{
 "cells": [
  {
   "cell_type": "code",
   "execution_count": 1,
   "metadata": {},
   "outputs": [],
   "source": [
    "import pandas as pd\n",
    "import zipfile\n",
    "from sklearn.model_selection import train_test_split\n",
    "from sklearn.linear_model import LogisticRegression\n",
    "from sklearn.metrics import accuracy_score, classification_report\n",
    "from sklearn.model_selection import train_test_split\n",
    "from sklearn.preprocessing import StandardScaler\n",
    "from sklearn.feature_extraction.text import TfidfVectorizer\n"
   ]
  },
  {
   "cell_type": "markdown",
   "metadata": {},
   "source": [
    "Считываем данные"
   ]
  },
  {
   "cell_type": "code",
   "execution_count": 2,
   "metadata": {},
   "outputs": [],
   "source": [
    "df = pd.read_csv('pricerunner_aggregate.csv')\n",
    "df.columns = df.columns.str.strip().str.lower().str.replace(' ', '_')\n",
    "data = df[['product_title', 'merchant_id', 'cluster_label','category_id']]"
   ]
  },
  {
   "cell_type": "markdown",
   "metadata": {},
   "source": [
    "Обучаем модель catboost"
   ]
  },
  {
   "cell_type": "code",
   "execution_count": 35,
   "metadata": {},
   "outputs": [
    {
     "name": "stdout",
     "output_type": "stream",
     "text": [
      "0:\tlearn: 1.9330453\ttest: 1.9299142\tbest: 1.9299142 (0)\ttotal: 15.7s\tremaining: 2h 10m 30s\n",
      "50:\tlearn: 0.2028315\ttest: 0.1901714\tbest: 0.1901714 (50)\ttotal: 12m 57s\tremaining: 1h 54m 7s\n",
      "100:\tlearn: 0.1147309\ttest: 0.1101140\tbest: 0.1101140 (100)\ttotal: 26m 14s\tremaining: 1h 43m 41s\n",
      "150:\tlearn: 0.0934068\ttest: 0.0922798\tbest: 0.0922798 (150)\ttotal: 39m 58s\tremaining: 1h 32m 24s\n",
      "200:\tlearn: 0.0831598\ttest: 0.0849152\tbest: 0.0849152 (200)\ttotal: 54m 1s\tremaining: 1h 20m 21s\n",
      "250:\tlearn: 0.0758888\ttest: 0.0802585\tbest: 0.0802585 (250)\ttotal: 1h 7m 56s\tremaining: 1h 7m 23s\n",
      "300:\tlearn: 0.0705182\ttest: 0.0771310\tbest: 0.0771310 (300)\ttotal: 1h 22m 33s\tremaining: 54m 35s\n",
      "350:\tlearn: 0.0660740\ttest: 0.0751258\tbest: 0.0751258 (350)\ttotal: 1h 37m 20s\tremaining: 41m 19s\n",
      "400:\tlearn: 0.0621390\ttest: 0.0733597\tbest: 0.0733597 (400)\ttotal: 1h 51m 18s\tremaining: 27m 28s\n",
      "450:\tlearn: 0.0590970\ttest: 0.0721568\tbest: 0.0721568 (450)\ttotal: 2h 5m 22s\tremaining: 13m 37s\n",
      "499:\tlearn: 0.0567450\ttest: 0.0713714\tbest: 0.0713580 (497)\ttotal: 2h 18m 24s\tremaining: 0us\n",
      "\n",
      "bestTest = 0.07135800917\n",
      "bestIteration = 497\n",
      "\n",
      "Shrink model to first 498 iterations.\n",
      "Test Accuracy: 0.9739487469913635\n"
     ]
    }
   ],
   "source": [
    "text_features = ['product_title', 'cluster_label']\n",
    "\n",
    "# Замените 'целевая_переменная' на название вашей целевой переменной\n",
    "X = data.drop('category_id', axis=1)\n",
    "y = data['category_id']\n",
    "\n",
    "# Разделение на тренировочный и тестовый наборы данных\n",
    "X_train, X_test, y_train, y_test = train_test_split(X, y, test_size=0.2, random_state=42)\n",
    "\n",
    "# Создание объекта Pool с текстовыми признаками\n",
    "train_pool = Pool(data=X_train, label=y_train, text_features=text_features)\n",
    "test_pool = Pool(data=X_test, label=y_test, text_features=text_features)\n",
    "\n",
    "# Создание модели CatBoost\n",
    "model_cat_boost = CatBoostClassifier(iterations=500, depth=10, learning_rate=0.05, loss_function='MultiClass', random_seed=42)\n",
    "\n",
    "# Обучение модели\n",
    "model_cat_boost.fit(train_pool, eval_set=test_pool, verbose=50)\n",
    "\n",
    "# Оценка качества модели на тестовом наборе\n",
    "accuracy = model_cat_boost.score(test_pool)\n",
    "print(f'Test Accuracy: {accuracy}')"
   ]
  },
  {
   "cell_type": "markdown",
   "metadata": {},
   "source": [
    "Обучаем логистическую регрессию "
   ]
  },
  {
   "cell_type": "code",
   "execution_count": 23,
   "metadata": {},
   "outputs": [
    {
     "name": "stdout",
     "output_type": "stream",
     "text": [
      "Accuracy: 0.7969701260087781\n"
     ]
    },
    {
     "name": "stderr",
     "output_type": "stream",
     "text": [
      "/Users/annapikuleva/Library/Python/3.9/lib/python/site-packages/sklearn/linear_model/_logistic.py:460: ConvergenceWarning: lbfgs failed to converge (status=1):\n",
      "STOP: TOTAL NO. of ITERATIONS REACHED LIMIT.\n",
      "\n",
      "Increase the number of iterations (max_iter) or scale the data as shown in:\n",
      "    https://scikit-learn.org/stable/modules/preprocessing.html\n",
      "Please also refer to the documentation for alternative solver options:\n",
      "    https://scikit-learn.org/stable/modules/linear_model.html#logistic-regression\n",
      "  n_iter_i = _check_optimize_result(\n"
     ]
    }
   ],
   "source": [
    "X = df[['merchant_id','cluster_id']]\n",
    "y = df['category_id']\n",
    "\n",
    "# Разделение на тренировочный и тестовый наборы данных\n",
    "X_train, X_test, y_train, y_test = train_test_split(X, y, test_size=0.2)\n",
    "\n",
    "scaler = StandardScaler()\n",
    "X_train_scaled = scaler.fit_transform(X_train)\n",
    "X_test_scaled = scaler.transform(X_test)\n",
    "\n",
    "model_log_reg = LogisticRegression()\n",
    "model_log_reg.fit(X_train_scaled, y_train)\n",
    "y_pred = model_log_reg.predict(X_test_scaled)\n",
    "\n",
    "# Оценка качества модели\n",
    "accuracy = accuracy_score(y_test, y_pred)\n",
    "print(f'Accuracy: {accuracy}')"
   ]
  },
  {
   "cell_type": "code",
   "execution_count": 3,
   "metadata": {},
   "outputs": [
    {
     "name": "stderr",
     "output_type": "stream",
     "text": [
      "/Users/annapikuleva/Library/Python/3.9/lib/python/site-packages/sklearn/linear_model/_logistic.py:460: ConvergenceWarning: lbfgs failed to converge (status=1):\n",
      "STOP: TOTAL NO. of ITERATIONS REACHED LIMIT.\n",
      "\n",
      "Increase the number of iterations (max_iter) or scale the data as shown in:\n",
      "    https://scikit-learn.org/stable/modules/preprocessing.html\n",
      "Please also refer to the documentation for alternative solver options:\n",
      "    https://scikit-learn.org/stable/modules/linear_model.html#logistic-regression\n",
      "  n_iter_i = _check_optimize_result(\n"
     ]
    },
    {
     "name": "stdout",
     "output_type": "stream",
     "text": [
      "Accuracy: 0.9736655811977913\n"
     ]
    }
   ],
   "source": [
    "X = df[['product_title','cluster_label']]\n",
    "y = df['category_id']\n",
    "\n",
    "X_train, X_test, y_train, y_test = train_test_split(X, y, test_size=0.2, random_state=42)\n",
    "\n",
    "tfidf_vectorizer = TfidfVectorizer()\n",
    "\n",
    "# Инициализация и обучение TfidfVectorizer для каждой из текстовых колонок\n",
    "tfidf_vectorizer_text1 = TfidfVectorizer()\n",
    "X_train_tfidf_text1 = tfidf_vectorizer_text1.fit_transform(X_train['product_title'])\n",
    "X_test_tfidf_text1 = tfidf_vectorizer_text1.transform(X_test['product_title'])\n",
    "\n",
    "tfidf_vectorizer_text2 = TfidfVectorizer()\n",
    "X_train_tfidf_text2 = tfidf_vectorizer_text2.fit_transform(X_train['cluster_label'])\n",
    "X_test_tfidf_text2 = tfidf_vectorizer_text2.transform(X_test['cluster_label'])\n",
    "\n",
    "# Объединение TF-IDF матриц для каждой из колонок\n",
    "X_train_tfidf_combined = pd.concat([pd.DataFrame(X_train_tfidf_text1.toarray()), pd.DataFrame(X_train_tfidf_text2.toarray())], axis=1)\n",
    "X_test_tfidf_combined = pd.concat([pd.DataFrame(X_test_tfidf_text1.toarray()), pd.DataFrame(X_test_tfidf_text2.toarray())], axis=1)\n",
    "\n",
    "# Создание и обучение модели логистической регрессии\n",
    "model = LogisticRegression()\n",
    "model.fit(X_train_tfidf_combined, y_train)\n",
    "\n",
    "# Предсказание на тестовых данных\n",
    "y_pred = model.predict(X_test_tfidf_combined)\n",
    "\n",
    "# Оценка качества модели\n",
    "accuracy = accuracy_score(y_test, y_pred)\n",
    "print(f'Accuracy: {accuracy}')\n"
   ]
  },
  {
   "cell_type": "code",
   "execution_count": null,
   "metadata": {},
   "outputs": [],
   "source": []
  }
 ],
 "metadata": {
  "kernelspec": {
   "display_name": "Python 3",
   "language": "python",
   "name": "python3"
  },
  "language_info": {
   "codemirror_mode": {
    "name": "ipython",
    "version": 3
   },
   "file_extension": ".py",
   "mimetype": "text/x-python",
   "name": "python",
   "nbconvert_exporter": "python",
   "pygments_lexer": "ipython3",
   "version": "3.9.13"
  }
 },
 "nbformat": 4,
 "nbformat_minor": 2
}
