{
 "cells": [
  {
   "cell_type": "code",
   "execution_count": 160,
   "metadata": {},
   "outputs": [],
   "source": [
    "import pandas as pd\n",
    "import numpy as np\n",
    "from sklearn.model_selection import train_test_split\n",
    "from sklearn.preprocessing import StandardScaler\n",
    "from sklearn.linear_model import LogisticRegression\n",
    "from sklearn.ensemble import GradientBoostingClassifier\n",
    "from sklearn.neighbors import KNeighborsClassifier\n",
    "from sklearn.metrics import f1_score"
   ]
  },
  {
   "cell_type": "code",
   "execution_count": 161,
   "metadata": {},
   "outputs": [
    {
     "data": {
      "text/html": [
       "<div>\n",
       "<style scoped>\n",
       "    .dataframe tbody tr th:only-of-type {\n",
       "        vertical-align: middle;\n",
       "    }\n",
       "\n",
       "    .dataframe tbody tr th {\n",
       "        vertical-align: top;\n",
       "    }\n",
       "\n",
       "    .dataframe thead th {\n",
       "        text-align: right;\n",
       "    }\n",
       "</style>\n",
       "<table border=\"1\" class=\"dataframe\">\n",
       "  <thead>\n",
       "    <tr style=\"text-align: right;\">\n",
       "      <th></th>\n",
       "      <th>Grade</th>\n",
       "      <th>Project</th>\n",
       "      <th>Case_ID</th>\n",
       "      <th>Gender</th>\n",
       "      <th>Age_at_diagnosis</th>\n",
       "      <th>Primary_Diagnosis</th>\n",
       "      <th>Race</th>\n",
       "      <th>IDH1</th>\n",
       "      <th>TP53</th>\n",
       "      <th>ATRX</th>\n",
       "      <th>...</th>\n",
       "      <th>FUBP1</th>\n",
       "      <th>RB1</th>\n",
       "      <th>NOTCH1</th>\n",
       "      <th>BCOR</th>\n",
       "      <th>CSMD3</th>\n",
       "      <th>SMARCA4</th>\n",
       "      <th>GRIN2A</th>\n",
       "      <th>IDH2</th>\n",
       "      <th>FAT4</th>\n",
       "      <th>PDGFRA</th>\n",
       "    </tr>\n",
       "  </thead>\n",
       "  <tbody>\n",
       "    <tr>\n",
       "      <th>0</th>\n",
       "      <td>LGG</td>\n",
       "      <td>TCGA-LGG</td>\n",
       "      <td>TCGA-DU-8164</td>\n",
       "      <td>Male</td>\n",
       "      <td>51 years 108 days</td>\n",
       "      <td>Oligodendroglioma, NOS</td>\n",
       "      <td>white</td>\n",
       "      <td>MUTATED</td>\n",
       "      <td>NOT_MUTATED</td>\n",
       "      <td>NOT_MUTATED</td>\n",
       "      <td>...</td>\n",
       "      <td>MUTATED</td>\n",
       "      <td>NOT_MUTATED</td>\n",
       "      <td>NOT_MUTATED</td>\n",
       "      <td>NOT_MUTATED</td>\n",
       "      <td>NOT_MUTATED</td>\n",
       "      <td>NOT_MUTATED</td>\n",
       "      <td>NOT_MUTATED</td>\n",
       "      <td>NOT_MUTATED</td>\n",
       "      <td>NOT_MUTATED</td>\n",
       "      <td>NOT_MUTATED</td>\n",
       "    </tr>\n",
       "    <tr>\n",
       "      <th>1</th>\n",
       "      <td>LGG</td>\n",
       "      <td>TCGA-LGG</td>\n",
       "      <td>TCGA-QH-A6CY</td>\n",
       "      <td>Male</td>\n",
       "      <td>38 years 261 days</td>\n",
       "      <td>Mixed glioma</td>\n",
       "      <td>white</td>\n",
       "      <td>MUTATED</td>\n",
       "      <td>NOT_MUTATED</td>\n",
       "      <td>NOT_MUTATED</td>\n",
       "      <td>...</td>\n",
       "      <td>NOT_MUTATED</td>\n",
       "      <td>NOT_MUTATED</td>\n",
       "      <td>NOT_MUTATED</td>\n",
       "      <td>NOT_MUTATED</td>\n",
       "      <td>NOT_MUTATED</td>\n",
       "      <td>NOT_MUTATED</td>\n",
       "      <td>NOT_MUTATED</td>\n",
       "      <td>NOT_MUTATED</td>\n",
       "      <td>NOT_MUTATED</td>\n",
       "      <td>NOT_MUTATED</td>\n",
       "    </tr>\n",
       "    <tr>\n",
       "      <th>2</th>\n",
       "      <td>LGG</td>\n",
       "      <td>TCGA-LGG</td>\n",
       "      <td>TCGA-HW-A5KM</td>\n",
       "      <td>Male</td>\n",
       "      <td>35 years 62 days</td>\n",
       "      <td>Astrocytoma, NOS</td>\n",
       "      <td>white</td>\n",
       "      <td>MUTATED</td>\n",
       "      <td>MUTATED</td>\n",
       "      <td>MUTATED</td>\n",
       "      <td>...</td>\n",
       "      <td>NOT_MUTATED</td>\n",
       "      <td>NOT_MUTATED</td>\n",
       "      <td>NOT_MUTATED</td>\n",
       "      <td>NOT_MUTATED</td>\n",
       "      <td>NOT_MUTATED</td>\n",
       "      <td>NOT_MUTATED</td>\n",
       "      <td>NOT_MUTATED</td>\n",
       "      <td>NOT_MUTATED</td>\n",
       "      <td>NOT_MUTATED</td>\n",
       "      <td>NOT_MUTATED</td>\n",
       "    </tr>\n",
       "    <tr>\n",
       "      <th>3</th>\n",
       "      <td>LGG</td>\n",
       "      <td>TCGA-LGG</td>\n",
       "      <td>TCGA-E1-A7YE</td>\n",
       "      <td>Female</td>\n",
       "      <td>32 years 283 days</td>\n",
       "      <td>Astrocytoma, anaplastic</td>\n",
       "      <td>white</td>\n",
       "      <td>MUTATED</td>\n",
       "      <td>MUTATED</td>\n",
       "      <td>MUTATED</td>\n",
       "      <td>...</td>\n",
       "      <td>NOT_MUTATED</td>\n",
       "      <td>NOT_MUTATED</td>\n",
       "      <td>NOT_MUTATED</td>\n",
       "      <td>NOT_MUTATED</td>\n",
       "      <td>NOT_MUTATED</td>\n",
       "      <td>NOT_MUTATED</td>\n",
       "      <td>NOT_MUTATED</td>\n",
       "      <td>NOT_MUTATED</td>\n",
       "      <td>MUTATED</td>\n",
       "      <td>NOT_MUTATED</td>\n",
       "    </tr>\n",
       "    <tr>\n",
       "      <th>4</th>\n",
       "      <td>LGG</td>\n",
       "      <td>TCGA-LGG</td>\n",
       "      <td>TCGA-S9-A6WG</td>\n",
       "      <td>Male</td>\n",
       "      <td>31 years 187 days</td>\n",
       "      <td>Astrocytoma, anaplastic</td>\n",
       "      <td>white</td>\n",
       "      <td>MUTATED</td>\n",
       "      <td>MUTATED</td>\n",
       "      <td>MUTATED</td>\n",
       "      <td>...</td>\n",
       "      <td>NOT_MUTATED</td>\n",
       "      <td>NOT_MUTATED</td>\n",
       "      <td>NOT_MUTATED</td>\n",
       "      <td>NOT_MUTATED</td>\n",
       "      <td>NOT_MUTATED</td>\n",
       "      <td>NOT_MUTATED</td>\n",
       "      <td>NOT_MUTATED</td>\n",
       "      <td>NOT_MUTATED</td>\n",
       "      <td>NOT_MUTATED</td>\n",
       "      <td>NOT_MUTATED</td>\n",
       "    </tr>\n",
       "  </tbody>\n",
       "</table>\n",
       "<p>5 rows × 27 columns</p>\n",
       "</div>"
      ],
      "text/plain": [
       "  Grade   Project       Case_ID  Gender   Age_at_diagnosis  \\\n",
       "0   LGG  TCGA-LGG  TCGA-DU-8164    Male  51 years 108 days   \n",
       "1   LGG  TCGA-LGG  TCGA-QH-A6CY    Male  38 years 261 days   \n",
       "2   LGG  TCGA-LGG  TCGA-HW-A5KM    Male   35 years 62 days   \n",
       "3   LGG  TCGA-LGG  TCGA-E1-A7YE  Female  32 years 283 days   \n",
       "4   LGG  TCGA-LGG  TCGA-S9-A6WG    Male  31 years 187 days   \n",
       "\n",
       "         Primary_Diagnosis   Race     IDH1         TP53         ATRX  ...  \\\n",
       "0   Oligodendroglioma, NOS  white  MUTATED  NOT_MUTATED  NOT_MUTATED  ...   \n",
       "1             Mixed glioma  white  MUTATED  NOT_MUTATED  NOT_MUTATED  ...   \n",
       "2         Astrocytoma, NOS  white  MUTATED      MUTATED      MUTATED  ...   \n",
       "3  Astrocytoma, anaplastic  white  MUTATED      MUTATED      MUTATED  ...   \n",
       "4  Astrocytoma, anaplastic  white  MUTATED      MUTATED      MUTATED  ...   \n",
       "\n",
       "         FUBP1          RB1       NOTCH1         BCOR        CSMD3  \\\n",
       "0      MUTATED  NOT_MUTATED  NOT_MUTATED  NOT_MUTATED  NOT_MUTATED   \n",
       "1  NOT_MUTATED  NOT_MUTATED  NOT_MUTATED  NOT_MUTATED  NOT_MUTATED   \n",
       "2  NOT_MUTATED  NOT_MUTATED  NOT_MUTATED  NOT_MUTATED  NOT_MUTATED   \n",
       "3  NOT_MUTATED  NOT_MUTATED  NOT_MUTATED  NOT_MUTATED  NOT_MUTATED   \n",
       "4  NOT_MUTATED  NOT_MUTATED  NOT_MUTATED  NOT_MUTATED  NOT_MUTATED   \n",
       "\n",
       "       SMARCA4       GRIN2A         IDH2         FAT4       PDGFRA  \n",
       "0  NOT_MUTATED  NOT_MUTATED  NOT_MUTATED  NOT_MUTATED  NOT_MUTATED  \n",
       "1  NOT_MUTATED  NOT_MUTATED  NOT_MUTATED  NOT_MUTATED  NOT_MUTATED  \n",
       "2  NOT_MUTATED  NOT_MUTATED  NOT_MUTATED  NOT_MUTATED  NOT_MUTATED  \n",
       "3  NOT_MUTATED  NOT_MUTATED  NOT_MUTATED      MUTATED  NOT_MUTATED  \n",
       "4  NOT_MUTATED  NOT_MUTATED  NOT_MUTATED  NOT_MUTATED  NOT_MUTATED  \n",
       "\n",
       "[5 rows x 27 columns]"
      ]
     },
     "execution_count": 161,
     "metadata": {},
     "output_type": "execute_result"
    }
   ],
   "source": [
    "df = pd.read_csv('data.csv')\n",
    "df.head()"
   ]
  },
  {
   "attachments": {},
   "cell_type": "markdown",
   "metadata": {},
   "source": [
    "### Замена категориальных признаков"
   ]
  },
  {
   "attachments": {},
   "cell_type": "markdown",
   "metadata": {},
   "source": [
    "#### Показатели"
   ]
  },
  {
   "cell_type": "code",
   "execution_count": 163,
   "metadata": {},
   "outputs": [],
   "source": [
    "cat_col = df.loc[:, 'IDH1':].columns\n",
    "def cat_to_int(raw):\n",
    "    for col in cat_col:\n",
    "        if raw[col] == 'MUTATED':\n",
    "            raw[col] = 1\n",
    "        if raw[col] == 'NOT_MUTATED':\n",
    "            raw[col] = 0\n",
    "    return raw"
   ]
  },
  {
   "attachments": {},
   "cell_type": "markdown",
   "metadata": {},
   "source": [
    "#### Раса"
   ]
  },
  {
   "cell_type": "code",
   "execution_count": 164,
   "metadata": {},
   "outputs": [
    {
     "data": {
      "text/plain": [
       "'\\n==> \\nwhite                               766\\nblack or african american            59\\nnot reported                         18\\nasian                                14\\n--                                    4\\namerican indian or alaska native      1\\n\\nВозможно стоит убрать последние две категории из-за неинформативности\\n'"
      ]
     },
     "execution_count": 164,
     "metadata": {},
     "output_type": "execute_result"
    }
   ],
   "source": [
    "#df['Race'].value_counts()\n",
    "\n",
    "'''\n",
    "==> \n",
    "white                               766\n",
    "black or african american            59\n",
    "not reported                         18\n",
    "asian                                14\n",
    "--                                    4\n",
    "american indian or alaska native      1\n",
    "\n",
    "Возможно стоит убрать последние две категории из-за неинформативности\n",
    "'''"
   ]
  },
  {
   "cell_type": "code",
   "execution_count": 165,
   "metadata": {},
   "outputs": [],
   "source": [
    "races = list(df.Race.value_counts().index)\n",
    "races_dict = {race: id for id, race in enumerate(races)}\n",
    "\n",
    "def race_to_int(raw):\n",
    "    raw['Race'] = races_dict[raw['Race']]\n",
    "    return raw"
   ]
  },
  {
   "attachments": {},
   "cell_type": "markdown",
   "metadata": {},
   "source": [
    "#### Пол"
   ]
  },
  {
   "cell_type": "code",
   "execution_count": 166,
   "metadata": {},
   "outputs": [
    {
     "data": {
      "text/plain": [
       "'\\n==>\\nMale      499\\nFemale    359\\n--          4\\n'"
      ]
     },
     "execution_count": 166,
     "metadata": {},
     "output_type": "execute_result"
    }
   ],
   "source": [
    "#df['Gender'].value_counts()\n",
    "\n",
    "'''\n",
    "==>\n",
    "Male      499\n",
    "Female    359\n",
    "--          4\n",
    "'''"
   ]
  },
  {
   "cell_type": "code",
   "execution_count": 167,
   "metadata": {},
   "outputs": [],
   "source": [
    "def gender_to_int(raw):\n",
    "    if raw['Gender'] == 'Male':\n",
    "        raw['Gender'] = 1\n",
    "    if raw['Gender'] == 'Female':\n",
    "        raw['Gender'] = 0\n",
    "    else:\n",
    "        raw['Gender'] = 2\n",
    "    return raw"
   ]
  },
  {
   "attachments": {},
   "cell_type": "markdown",
   "metadata": {},
   "source": [
    "#### Возраст"
   ]
  },
  {
   "cell_type": "code",
   "execution_count": 168,
   "metadata": {},
   "outputs": [],
   "source": [
    "def age_to_days(raw):\n",
    "    age_str = raw['Age_at_diagnosis']\n",
    "    parts = age_str.split(' ')\n",
    "    if len(parts) !=4:\n",
    "        if parts[0] == '--':\n",
    "            raw['Age_at_diagnosis'] = None\n",
    "        else:\n",
    "            raw['Age_at_diagnosis'] = int(parts[0])\n",
    "    else:\n",
    "   \n",
    "        # Разделение строки на года и дн\n",
    "        years = int(parts[0])\n",
    "        days = int(parts[2])\n",
    "\n",
    "        # Перевод в дни (предполагаем, что в году 365 дней)\n",
    "        raw['Age_at_diagnosis'] = years * 365 + days\n",
    "    return raw"
   ]
  },
  {
   "attachments": {},
   "cell_type": "markdown",
   "metadata": {},
   "source": [
    "#### Диагноз"
   ]
  },
  {
   "cell_type": "code",
   "execution_count": 169,
   "metadata": {},
   "outputs": [
    {
     "data": {
      "text/plain": [
       "\"\\n==>\\n{'Glioblastoma': 0,\\n 'Astrocytoma, anaplastic': 1,\\n 'Mixed glioma': 2,\\n 'Oligodendroglioma, NOS': 3,\\n 'Oligodendroglioma, anaplastic': 4,\\n 'Astrocytoma, NOS': 5,\\n '--': 6}\\n\""
      ]
     },
     "execution_count": 169,
     "metadata": {},
     "output_type": "execute_result"
    }
   ],
   "source": [
    "# diagnosis = list(df.Primary_Diagnosis.value_counts().index)\n",
    "# diagnosis_dict = {diag: id for id, diag in enumerate(diagnosis)}\n",
    "# diagnosis_dict\n",
    "\n",
    "'''\n",
    "==>\n",
    "{'Glioblastoma': 0,\n",
    " 'Astrocytoma, anaplastic': 1,\n",
    " 'Mixed glioma': 2,\n",
    " 'Oligodendroglioma, NOS': 3,\n",
    " 'Oligodendroglioma, anaplastic': 4,\n",
    " 'Astrocytoma, NOS': 5,\n",
    " '--': 6}\n",
    "'''"
   ]
  },
  {
   "cell_type": "code",
   "execution_count": 170,
   "metadata": {},
   "outputs": [],
   "source": [
    "diagnosis = list(df.Primary_Diagnosis.value_counts().index)\n",
    "diagnosis_dict = {diag: id for id, diag in enumerate(diagnosis)}\n",
    "\n",
    "def diag_to_int(raw):\n",
    "    raw['Primary_Diagnosis'] = diagnosis_dict[raw['Primary_Diagnosis']]\n",
    "    return raw"
   ]
  },
  {
   "attachments": {},
   "cell_type": "markdown",
   "metadata": {},
   "source": [
    "#### Grade"
   ]
  },
  {
   "cell_type": "code",
   "execution_count": 171,
   "metadata": {},
   "outputs": [
    {
     "data": {
      "text/plain": [
       "LGG    499\n",
       "GBM    363\n",
       "Name: Grade, dtype: int64"
      ]
     },
     "execution_count": 171,
     "metadata": {},
     "output_type": "execute_result"
    }
   ],
   "source": [
    "df.Grade.value_counts()"
   ]
  },
  {
   "cell_type": "code",
   "execution_count": 172,
   "metadata": {},
   "outputs": [],
   "source": [
    "def grade_to_int(raw):\n",
    "    if raw['Grade'] == 'LGG':\n",
    "        raw['Grade'] = 0\n",
    "    if raw['Grade'] == 'GBM':\n",
    "        raw['Grade'] = 1\n",
    "    return raw"
   ]
  },
  {
   "attachments": {},
   "cell_type": "markdown",
   "metadata": {},
   "source": [
    "#### Замена значений"
   ]
  },
  {
   "cell_type": "code",
   "execution_count": 173,
   "metadata": {},
   "outputs": [
    {
     "name": "stderr",
     "output_type": "stream",
     "text": [
      "C:\\Temp\\ipykernel_9392\\3002022603.py:5: DeprecationWarning: In a future version, `df.iloc[:, i] = newvals` will attempt to set the values inplace instead of always setting a new array. To retain the old behavior, use either `df[df.columns[i]] = newvals` or, if columns are non-unique, `df.isetitem(i, newvals)`\n",
      "  df.loc[:, 'IDH1':] = df.loc[:, 'IDH1':].apply(cat_to_int, axis=1)\n"
     ]
    }
   ],
   "source": [
    "df = df.apply(race_to_int, axis=1)\n",
    "df = df.apply(gender_to_int, axis=1)\n",
    "df = df.apply(age_to_days, axis=1)\n",
    "df = df.apply(diag_to_int, axis=1)\n",
    "df.loc[:, 'IDH1':] = df.loc[:, 'IDH1':].apply(cat_to_int, axis=1)\n",
    "df = df.apply(grade_to_int, axis=1)\n",
    "df['Age_at_diagnosis'].fillna(np.mean(df['Age_at_diagnosis']), inplace=True)"
   ]
  },
  {
   "attachments": {},
   "cell_type": "markdown",
   "metadata": {},
   "source": [
    "#### Удалить ненужные столбцы"
   ]
  },
  {
   "cell_type": "code",
   "execution_count": 174,
   "metadata": {},
   "outputs": [],
   "source": [
    "df.drop(columns=['Project', 'Case_ID'], axis=1, inplace=True)"
   ]
  },
  {
   "attachments": {},
   "cell_type": "markdown",
   "metadata": {},
   "source": [
    "### Обучение модели"
   ]
  },
  {
   "attachments": {},
   "cell_type": "markdown",
   "metadata": {},
   "source": [
    "#### Logistic Regrassion"
   ]
  },
  {
   "cell_type": "code",
   "execution_count": 181,
   "metadata": {},
   "outputs": [
    {
     "name": "stdout",
     "output_type": "stream",
     "text": [
      "f1: 0.9777777777777777\n"
     ]
    }
   ],
   "source": [
    "X = df.drop('Grade', axis=1)\n",
    "y = df['Grade']\n",
    "\n",
    "X_train, X_test, y_train, y_test = train_test_split(X, y, test_size=0.2, random_state=9)\n",
    "\n",
    "scaler = StandardScaler()\n",
    "X_train = scaler.fit_transform(X_train)\n",
    "X_test = scaler.transform(X_test)\n",
    "\n",
    "model = LogisticRegression()\n",
    "model.fit(X_train, y_train)\n",
    "\n",
    "predictions = model.predict(X_test)\n",
    "\n",
    "# Оценка модели\n",
    "f1 = f1_score(y_test, predictions)\n",
    "print(f'f1: {f1}')\n"
   ]
  },
  {
   "attachments": {},
   "cell_type": "markdown",
   "metadata": {},
   "source": [
    "#### KNN"
   ]
  },
  {
   "cell_type": "code",
   "execution_count": 182,
   "metadata": {},
   "outputs": [
    {
     "name": "stdout",
     "output_type": "stream",
     "text": [
      "F1 Score: 0.875\n"
     ]
    }
   ],
   "source": [
    "\n",
    "X = df.drop('Grade', axis=1)\n",
    "y = df['Grade']\n",
    "\n",
    "X_train, X_test, y_train, y_test = train_test_split(X, y, test_size=0.2, random_state=42)\n",
    "\n",
    "scaler = StandardScaler()\n",
    "X_train = scaler.fit_transform(X_train)\n",
    "X_test = scaler.transform(X_test)\n",
    "\n",
    "knn = KNeighborsClassifier(n_neighbors=5)\n",
    "\n",
    "knn.fit(X_train, y_train)\n",
    "\n",
    "predictions = knn.predict(X_test)\n",
    "\n",
    "f1 = f1_score(y_test, predictions)\n",
    "print(f'F1 Score: {f1}')"
   ]
  },
  {
   "attachments": {},
   "cell_type": "markdown",
   "metadata": {},
   "source": [
    "#### Gradient Boosting"
   ]
  },
  {
   "cell_type": "code",
   "execution_count": 188,
   "metadata": {},
   "outputs": [
    {
     "name": "stdout",
     "output_type": "stream",
     "text": [
      "F1 Score: 1.0\n"
     ]
    }
   ],
   "source": [
    "X = df.drop('Grade', axis=1)\n",
    "y = df['Grade']\n",
    "\n",
    "X_train, X_test, y_train, y_test = train_test_split(X, y, test_size=0.2, random_state=42)\n",
    "\n",
    "# scaler = StandardScaler()\n",
    "# X_train = scaler.fit_transform(X_train)\n",
    "# X_test = scaler.transform(X_test)\n",
    "\n",
    "gbm = GradientBoostingClassifier(n_estimators=100, learning_rate=0.1, max_depth=3, random_state=42)\n",
    "gbm.fit(X_train, y_train)\n",
    "\n",
    "predictions = gbm.predict(X_test)\n",
    "\n",
    "f1 = f1_score(y_test, predictions) \n",
    "print(f'F1 Score: {f1}')\n"
   ]
  }
 ],
 "metadata": {
  "kernelspec": {
   "display_name": "Python 3",
   "language": "python",
   "name": "python3"
  },
  "language_info": {
   "codemirror_mode": {
    "name": "ipython",
    "version": 3
   },
   "file_extension": ".py",
   "mimetype": "text/x-python",
   "name": "python",
   "nbconvert_exporter": "python",
   "pygments_lexer": "ipython3",
   "version": "3.11.3"
  },
  "orig_nbformat": 4
 },
 "nbformat": 4,
 "nbformat_minor": 2
}
